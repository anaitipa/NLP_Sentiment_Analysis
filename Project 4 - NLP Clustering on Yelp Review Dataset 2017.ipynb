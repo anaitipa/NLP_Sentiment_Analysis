{
 "cells": [
  {
   "cell_type": "code",
   "execution_count": 1,
   "id": "51733424",
   "metadata": {},
   "outputs": [],
   "source": [
    import pandas as pd
import numpy as np
import matplotlib.pyplot as plt
import seaborn as sns
from sklearn.feature_extraction.text import CountVectorizer
import nltk
from nltk.sentiment.vader import SentimentIntensityAnalyzer
from nltk.stem import SnowballStemmer
from textblob import TextBlob
from tweepy.streaming import StreamListener
from tweepy import OAuthHandler, Stream
import json

# Set up Twitter API credentials
consumer_key = "YOUR_CONSUMER_KEY"
consumer_secret = "YOUR_CONSUMER_SECRET"
access_token = "YOUR_ACCESS_TOKEN"
access_token_secret = "YOUR_ACCESS_TOKEN_SECRET"

# Create a class to process live tweets
class TwitterStreamListener(StreamListener):
    def on_status(self, status):
        try:
            tweet = status.text
            print("Received tweet: ", tweet)

            # Perform sentiment analysis
            sid = SentimentIntensityAnalyzer()
            sentiment_scores = sid.polarity_scores(tweet)
            sentiment = "Positive" if sentiment_scores['compound'] > 0 else "Negative" if sentiment_scores['compound'] < 0 else "Neutral"

            # Display sentiment
            print("Sentiment: ", sentiment)
            print("Sentiment Scores: ", sentiment_scores)
            
        except Exception as e:
            print("Error:", str(e))

    def on_error(self, status_code):
        if status_code == 420:
            return False

if __name__ == "__main__":
    # Set up Twitter API authentication
    auth = OAuthHandler(consumer_key, consumer_secret)
    auth.set_access_token(access_token, access_token_secret)

    # Create a Twitter stream listener
    twitter_stream_listener = TwitterStreamListener()

    # Start streaming tweets with a specific keyword (e.g., "data science")
    twitter_stream = Stream(auth, twitter_stream_listener)
    twitter_stream.filter(track=["restaurant"])  # You can change the keyword to your topic of interest

   ]
  },
  {
   "cell_type": "code",
   "execution_count": 2,
   "id": "b2c2ad06",
   "metadata": {},
   "outputs": [
    {
     "data": {
      "text/html": [
       "<div>\n",
       "<style scoped>\n",
       "    .dataframe tbody tr th:only-of-type {\n",
       "        vertical-align: middle;\n",
       "    }\n",
       "\n",
       "    .dataframe tbody tr th {\n",
       "        vertical-align: top;\n",
       "    }\n",
       "\n",
       "    .dataframe thead th {\n",
       "        text-align: right;\n",
       "    }\n",
       "</style>\n",
       "<table border=\"1\" class=\"dataframe\">\n",
       "  <thead>\n",
       "    <tr style=\"text-align: right;\">\n",
       "      <th></th>\n",
       "      <th>review_id</th>\n",
       "      <th>user_id</th>\n",
       "      <th>business_id</th>\n",
       "      <th>stars</th>\n",
       "      <th>date</th>\n",
       "      <th>text</th>\n",
       "      <th>useful</th>\n",
       "      <th>funny</th>\n",
       "      <th>cool</th>\n",
       "    </tr>\n",
       "  </thead>\n",
       "  <tbody>\n",
       "    <tr>\n",
       "      <th>0</th>\n",
       "      <td>JbwIayfXknRekD2vaGSLFg</td>\n",
       "      <td>KxSZZuznOXC50sVghTHdVg</td>\n",
       "      <td>dT3EKh0NBuTvqlCGaoD89g</td>\n",
       "      <td>5</td>\n",
       "      <td>2017-09-09</td>\n",
       "      <td>If you are looking for a massage therapist tha...</td>\n",
       "      <td>0</td>\n",
       "      <td>0</td>\n",
       "      <td>0</td>\n",
       "    </tr>\n",
       "    <tr>\n",
       "      <th>1</th>\n",
       "      <td>9S1kYZYigvGV_q-YpQSClQ</td>\n",
       "      <td>V5qA2u8lj1h7wwyUOYXuxQ</td>\n",
       "      <td>qSkTU59kY9VB_RKTtfe2Fw</td>\n",
       "      <td>3</td>\n",
       "      <td>2017-05-25</td>\n",
       "      <td>Good time...\\nChill environment...\\nJust findi...</td>\n",
       "      <td>0</td>\n",
       "      <td>0</td>\n",
       "      <td>0</td>\n",
       "    </tr>\n",
       "    <tr>\n",
       "      <th>2</th>\n",
       "      <td>aQMAKSY7T2txORFmoUxdTA</td>\n",
       "      <td>7dm3xgA2o87c0BbXWDaHuA</td>\n",
       "      <td>WbJ1LRQdOuYYlRLyTkuuxw</td>\n",
       "      <td>1</td>\n",
       "      <td>2017-09-18</td>\n",
       "      <td>Was excited about this place but found the foo...</td>\n",
       "      <td>0</td>\n",
       "      <td>0</td>\n",
       "      <td>0</td>\n",
       "    </tr>\n",
       "    <tr>\n",
       "      <th>3</th>\n",
       "      <td>s3Z3KCGcYFnP88YuBRilAg</td>\n",
       "      <td>XNwSTHu8MNPrXrfeOdifNw</td>\n",
       "      <td>1_SbdpAt9n8C1p8UOE9KQw</td>\n",
       "      <td>5</td>\n",
       "      <td>2017-04-07</td>\n",
       "      <td>Great customer service, he took his time and d...</td>\n",
       "      <td>0</td>\n",
       "      <td>0</td>\n",
       "      <td>0</td>\n",
       "    </tr>\n",
       "    <tr>\n",
       "      <th>4</th>\n",
       "      <td>LOFAwYSM-30GEOccPbPbNg</td>\n",
       "      <td>pIz1tKPqiXrSEJMqvL0p2g</td>\n",
       "      <td>2t-a8qkgoRiiohThDVjfNw</td>\n",
       "      <td>4</td>\n",
       "      <td>2017-11-07</td>\n",
       "      <td>Food is delicious. This was my 2nd visit here ...</td>\n",
       "      <td>0</td>\n",
       "      <td>0</td>\n",
       "      <td>0</td>\n",
       "    </tr>\n",
       "    <tr>\n",
       "      <th>...</th>\n",
       "      <td>...</td>\n",
       "      <td>...</td>\n",
       "      <td>...</td>\n",
       "      <td>...</td>\n",
       "      <td>...</td>\n",
       "      <td>...</td>\n",
       "      <td>...</td>\n",
       "      <td>...</td>\n",
       "      <td>...</td>\n",
       "    </tr>\n",
       "    <tr>\n",
       "      <th>19995</th>\n",
       "      <td>gHYdnPVKZuptCac6xcUyRg</td>\n",
       "      <td>BGVffqLypE24HLuH0I3Vjg</td>\n",
       "      <td>9a3DrZvpYxVs3k_qwlCNSw</td>\n",
       "      <td>4</td>\n",
       "      <td>2017-01-05</td>\n",
       "      <td>Outdoor patio - gorgeous. Food - excellent and...</td>\n",
       "      <td>0</td>\n",
       "      <td>0</td>\n",
       "      <td>0</td>\n",
       "    </tr>\n",
       "    <tr>\n",
       "      <th>19996</th>\n",
       "      <td>YoqVqSNPQhPtIcF7TiNZuQ</td>\n",
       "      <td>hRzmoL0CSupxgG8jxlFnqA</td>\n",
       "      <td>W9y-Bl9030-rmfxSTmUD_g</td>\n",
       "      <td>5</td>\n",
       "      <td>2017-01-21</td>\n",
       "      <td>Fresh, cooked perfectly, super tasty.  Price\\/...</td>\n",
       "      <td>0</td>\n",
       "      <td>0</td>\n",
       "      <td>0</td>\n",
       "    </tr>\n",
       "    <tr>\n",
       "      <th>19997</th>\n",
       "      <td>FtXq3wLCOgpY-jpPOZvfTA</td>\n",
       "      <td>ju5QIg3E6QbcZhtG-gF6Qw</td>\n",
       "      <td>YLL7tZjII-lsEprbfVkMzQ</td>\n",
       "      <td>3</td>\n",
       "      <td>2017-02-15</td>\n",
       "      <td>This is inside Bally's casino food court, $8.0...</td>\n",
       "      <td>0</td>\n",
       "      <td>0</td>\n",
       "      <td>0</td>\n",
       "    </tr>\n",
       "    <tr>\n",
       "      <th>19998</th>\n",
       "      <td>faDwQ86k8cBaZr18yEthHg</td>\n",
       "      <td>24XaqtAxkpY4Br0YP1HRsw</td>\n",
       "      <td>RESDUcs7fIiihp38-d6_6g</td>\n",
       "      <td>5</td>\n",
       "      <td>2017-07-03</td>\n",
       "      <td>My favorite buffet in Vegas. \\n\\nI always go s...</td>\n",
       "      <td>0</td>\n",
       "      <td>0</td>\n",
       "      <td>0</td>\n",
       "    </tr>\n",
       "    <tr>\n",
       "      <th>19999</th>\n",
       "      <td>qPglN5ftx017A7YUaboaWw</td>\n",
       "      <td>1IqrNSAXVbtrieeRm_OG_Q</td>\n",
       "      <td>VzUo-RURV3VnfNItAYM8yg</td>\n",
       "      <td>5</td>\n",
       "      <td>2017-04-16</td>\n",
       "      <td>OMMMG Ordered the strawberry bobba smoothie an...</td>\n",
       "      <td>0</td>\n",
       "      <td>0</td>\n",
       "      <td>0</td>\n",
       "    </tr>\n",
       "  </tbody>\n",
       "</table>\n",
       "<p>20000 rows × 9 columns</p>\n",
       "</div>"
      ],
      "text/plain": [
       "                    review_id                 user_id             business_id  \\\n",
       "0      JbwIayfXknRekD2vaGSLFg  KxSZZuznOXC50sVghTHdVg  dT3EKh0NBuTvqlCGaoD89g   \n",
       "1      9S1kYZYigvGV_q-YpQSClQ  V5qA2u8lj1h7wwyUOYXuxQ  qSkTU59kY9VB_RKTtfe2Fw   \n",
       "2      aQMAKSY7T2txORFmoUxdTA  7dm3xgA2o87c0BbXWDaHuA  WbJ1LRQdOuYYlRLyTkuuxw   \n",
       "3      s3Z3KCGcYFnP88YuBRilAg  XNwSTHu8MNPrXrfeOdifNw  1_SbdpAt9n8C1p8UOE9KQw   \n",
       "4      LOFAwYSM-30GEOccPbPbNg  pIz1tKPqiXrSEJMqvL0p2g  2t-a8qkgoRiiohThDVjfNw   \n",
       "...                       ...                     ...                     ...   \n",
       "19995  gHYdnPVKZuptCac6xcUyRg  BGVffqLypE24HLuH0I3Vjg  9a3DrZvpYxVs3k_qwlCNSw   \n",
       "19996  YoqVqSNPQhPtIcF7TiNZuQ  hRzmoL0CSupxgG8jxlFnqA  W9y-Bl9030-rmfxSTmUD_g   \n",
       "19997  FtXq3wLCOgpY-jpPOZvfTA  ju5QIg3E6QbcZhtG-gF6Qw  YLL7tZjII-lsEprbfVkMzQ   \n",
       "19998  faDwQ86k8cBaZr18yEthHg  24XaqtAxkpY4Br0YP1HRsw  RESDUcs7fIiihp38-d6_6g   \n",
       "19999  qPglN5ftx017A7YUaboaWw  1IqrNSAXVbtrieeRm_OG_Q  VzUo-RURV3VnfNItAYM8yg   \n",
       "\n",
       "       stars        date                                               text  \\\n",
       "0          5  2017-09-09  If you are looking for a massage therapist tha...   \n",
       "1          3  2017-05-25  Good time...\\nChill environment...\\nJust findi...   \n",
       "2          1  2017-09-18  Was excited about this place but found the foo...   \n",
       "3          5  2017-04-07  Great customer service, he took his time and d...   \n",
       "4          4  2017-11-07  Food is delicious. This was my 2nd visit here ...   \n",
       "...      ...         ...                                                ...   \n",
       "19995      4  2017-01-05  Outdoor patio - gorgeous. Food - excellent and...   \n",
       "19996      5  2017-01-21  Fresh, cooked perfectly, super tasty.  Price\\/...   \n",
       "19997      3  2017-02-15  This is inside Bally's casino food court, $8.0...   \n",
       "19998      5  2017-07-03  My favorite buffet in Vegas. \\n\\nI always go s...   \n",
       "19999      5  2017-04-16  OMMMG Ordered the strawberry bobba smoothie an...   \n",
       "\n",
       "       useful  funny  cool  \n",
       "0           0      0     0  \n",
       "1           0      0     0  \n",
       "2           0      0     0  \n",
       "3           0      0     0  \n",
       "4           0      0     0  \n",
       "...       ...    ...   ...  \n",
       "19995       0      0     0  \n",
       "19996       0      0     0  \n",
       "19997       0      0     0  \n",
       "19998       0      0     0  \n",
       "19999       0      0     0  \n",
       "\n",
       "[20000 rows x 9 columns]"
      ]
     },
     "execution_count": 2,
     "metadata": {},
     "output_type": "execute_result"
    }
   ],
   "source": [
    "df = pd.read_csv(\"E:/Desktop/ITU/DATA_SCIENCE_ACADEMY/Project4/yelp_review_reorganized_2.csv\")\n",
    "df"
   ]
  },
  {
   "cell_type": "code",
   "execution_count": 3,
   "id": "ba21fe42",
   "metadata": {},
   "outputs": [],
   "source": [
    "df['customer_no'] = np.arange(len(df))"
   ]
  },
  {
   "cell_type": "code",
   "execution_count": 4,
   "id": "0bb162d6",
   "metadata": {},
   "outputs": [],
   "source": [
    "df[\"customer_no\"] = df[\"customer_no\"].apply(lambda x: \"Customer\" + str(x))"
   ]
  },
  {
   "cell_type": "code",
   "execution_count": 5,
   "id": "3e1bfcdb",
   "metadata": {},
   "outputs": [],
   "source": [
    "df = df.set_index(\"customer_no\").reset_index()"
   ]
  },
  {
   "cell_type": "code",
   "execution_count": 6,
   "id": "befc85a3",
   "metadata": {},
   "outputs": [],
   "source": [
    "df.drop([\"review_id\",\"user_id\",\"business_id\"], axis=1, inplace=True)"
   ]
  },
  {
   "cell_type": "code",
   "execution_count": 7,
   "id": "838b7a87",
   "metadata": {},
   "outputs": [
    {
     "data": {
      "text/html": [
       "<div>\n",
       "<style scoped>\n",
       "    .dataframe tbody tr th:only-of-type {\n",
       "        vertical-align: middle;\n",
       "    }\n",
       "\n",
       "    .dataframe tbody tr th {\n",
       "        vertical-align: top;\n",
       "    }\n",
       "\n",
       "    .dataframe thead th {\n",
       "        text-align: right;\n",
       "    }\n",
       "</style>\n",
       "<table border=\"1\" class=\"dataframe\">\n",
       "  <thead>\n",
       "    <tr style=\"text-align: right;\">\n",
       "      <th></th>\n",
       "      <th>customer_no</th>\n",
       "      <th>stars</th>\n",
       "      <th>date</th>\n",
       "      <th>text</th>\n",
       "      <th>useful</th>\n",
       "      <th>funny</th>\n",
       "      <th>cool</th>\n",
       "    </tr>\n",
       "  </thead>\n",
       "  <tbody>\n",
       "    <tr>\n",
       "      <th>0</th>\n",
       "      <td>Customer0</td>\n",
       "      <td>5</td>\n",
       "      <td>2017-09-09</td>\n",
       "      <td>If you are looking for a massage therapist tha...</td>\n",
       "      <td>0</td>\n",
       "      <td>0</td>\n",
       "      <td>0</td>\n",
       "    </tr>\n",
       "    <tr>\n",
       "      <th>1</th>\n",
       "      <td>Customer1</td>\n",
       "      <td>3</td>\n",
       "      <td>2017-05-25</td>\n",
       "      <td>Good time...\\nChill environment...\\nJust findi...</td>\n",
       "      <td>0</td>\n",
       "      <td>0</td>\n",
       "      <td>0</td>\n",
       "    </tr>\n",
       "    <tr>\n",
       "      <th>2</th>\n",
       "      <td>Customer2</td>\n",
       "      <td>1</td>\n",
       "      <td>2017-09-18</td>\n",
       "      <td>Was excited about this place but found the foo...</td>\n",
       "      <td>0</td>\n",
       "      <td>0</td>\n",
       "      <td>0</td>\n",
       "    </tr>\n",
       "    <tr>\n",
       "      <th>3</th>\n",
       "      <td>Customer3</td>\n",
       "      <td>5</td>\n",
       "      <td>2017-04-07</td>\n",
       "      <td>Great customer service, he took his time and d...</td>\n",
       "      <td>0</td>\n",
       "      <td>0</td>\n",
       "      <td>0</td>\n",
       "    </tr>\n",
       "    <tr>\n",
       "      <th>4</th>\n",
       "      <td>Customer4</td>\n",
       "      <td>4</td>\n",
       "      <td>2017-11-07</td>\n",
       "      <td>Food is delicious. This was my 2nd visit here ...</td>\n",
       "      <td>0</td>\n",
       "      <td>0</td>\n",
       "      <td>0</td>\n",
       "    </tr>\n",
       "    <tr>\n",
       "      <th>...</th>\n",
       "      <td>...</td>\n",
       "      <td>...</td>\n",
       "      <td>...</td>\n",
       "      <td>...</td>\n",
       "      <td>...</td>\n",
       "      <td>...</td>\n",
       "      <td>...</td>\n",
       "    </tr>\n",
       "    <tr>\n",
       "      <th>19995</th>\n",
       "      <td>Customer19995</td>\n",
       "      <td>4</td>\n",
       "      <td>2017-01-05</td>\n",
       "      <td>Outdoor patio - gorgeous. Food - excellent and...</td>\n",
       "      <td>0</td>\n",
       "      <td>0</td>\n",
       "      <td>0</td>\n",
       "    </tr>\n",
       "    <tr>\n",
       "      <th>19996</th>\n",
       "      <td>Customer19996</td>\n",
       "      <td>5</td>\n",
       "      <td>2017-01-21</td>\n",
       "      <td>Fresh, cooked perfectly, super tasty.  Price\\/...</td>\n",
       "      <td>0</td>\n",
       "      <td>0</td>\n",
       "      <td>0</td>\n",
       "    </tr>\n",
       "    <tr>\n",
       "      <th>19997</th>\n",
       "      <td>Customer19997</td>\n",
       "      <td>3</td>\n",
       "      <td>2017-02-15</td>\n",
       "      <td>This is inside Bally's casino food court, $8.0...</td>\n",
       "      <td>0</td>\n",
       "      <td>0</td>\n",
       "      <td>0</td>\n",
       "    </tr>\n",
       "    <tr>\n",
       "      <th>19998</th>\n",
       "      <td>Customer19998</td>\n",
       "      <td>5</td>\n",
       "      <td>2017-07-03</td>\n",
       "      <td>My favorite buffet in Vegas. \\n\\nI always go s...</td>\n",
       "      <td>0</td>\n",
       "      <td>0</td>\n",
       "      <td>0</td>\n",
       "    </tr>\n",
       "    <tr>\n",
       "      <th>19999</th>\n",
       "      <td>Customer19999</td>\n",
       "      <td>5</td>\n",
       "      <td>2017-04-16</td>\n",
       "      <td>OMMMG Ordered the strawberry bobba smoothie an...</td>\n",
       "      <td>0</td>\n",
       "      <td>0</td>\n",
       "      <td>0</td>\n",
       "    </tr>\n",
       "  </tbody>\n",
       "</table>\n",
       "<p>20000 rows × 7 columns</p>\n",
       "</div>"
      ],
      "text/plain": [
       "         customer_no  stars        date  \\\n",
       "0          Customer0      5  2017-09-09   \n",
       "1          Customer1      3  2017-05-25   \n",
       "2          Customer2      1  2017-09-18   \n",
       "3          Customer3      5  2017-04-07   \n",
       "4          Customer4      4  2017-11-07   \n",
       "...              ...    ...         ...   \n",
       "19995  Customer19995      4  2017-01-05   \n",
       "19996  Customer19996      5  2017-01-21   \n",
       "19997  Customer19997      3  2017-02-15   \n",
       "19998  Customer19998      5  2017-07-03   \n",
       "19999  Customer19999      5  2017-04-16   \n",
       "\n",
       "                                                    text  useful  funny  cool  \n",
       "0      If you are looking for a massage therapist tha...       0      0     0  \n",
       "1      Good time...\\nChill environment...\\nJust findi...       0      0     0  \n",
       "2      Was excited about this place but found the foo...       0      0     0  \n",
       "3      Great customer service, he took his time and d...       0      0     0  \n",
       "4      Food is delicious. This was my 2nd visit here ...       0      0     0  \n",
       "...                                                  ...     ...    ...   ...  \n",
       "19995  Outdoor patio - gorgeous. Food - excellent and...       0      0     0  \n",
       "19996  Fresh, cooked perfectly, super tasty.  Price\\/...       0      0     0  \n",
       "19997  This is inside Bally's casino food court, $8.0...       0      0     0  \n",
       "19998  My favorite buffet in Vegas. \\n\\nI always go s...       0      0     0  \n",
       "19999  OMMMG Ordered the strawberry bobba smoothie an...       0      0     0  \n",
       "\n",
       "[20000 rows x 7 columns]"
      ]
     },
     "execution_count": 7,
     "metadata": {},
     "output_type": "execute_result"
    }
   ],
   "source": [
    "df"
   ]
  },
  {
   "cell_type": "code",
   "execution_count": 8,
   "id": "09aa4b49",
   "metadata": {},
   "outputs": [],
   "source": [
    "from langdetect import detect"
   ]
  },
  {
   "cell_type": "code",
   "execution_count": 9,
   "id": "a0026997",
   "metadata": {},
   "outputs": [],
   "source": [
    "for index, row in df['text'].iteritems():\n",
    "    lang = detect(row) #detecting each row\n",
    "    df.loc[index, 'Language'] = lang"
   ]
  },
  {
   "cell_type": "code",
   "execution_count": 10,
   "id": "6828dd93",
   "metadata": {},
   "outputs": [
    {
     "data": {
      "text/html": [
       "<div>\n",
       "<style scoped>\n",
       "    .dataframe tbody tr th:only-of-type {\n",
       "        vertical-align: middle;\n",
       "    }\n",
       "\n",
       "    .dataframe tbody tr th {\n",
       "        vertical-align: top;\n",
       "    }\n",
       "\n",
       "    .dataframe thead th {\n",
       "        text-align: right;\n",
       "    }\n",
       "</style>\n",
       "<table border=\"1\" class=\"dataframe\">\n",
       "  <thead>\n",
       "    <tr style=\"text-align: right;\">\n",
       "      <th></th>\n",
       "      <th>Language</th>\n",
       "    </tr>\n",
       "  </thead>\n",
       "  <tbody>\n",
       "    <tr>\n",
       "      <th>en</th>\n",
       "      <td>19880</td>\n",
       "    </tr>\n",
       "    <tr>\n",
       "      <th>fr</th>\n",
       "      <td>74</td>\n",
       "    </tr>\n",
       "    <tr>\n",
       "      <th>de</th>\n",
       "      <td>18</td>\n",
       "    </tr>\n",
       "    <tr>\n",
       "      <th>es</th>\n",
       "      <td>15</td>\n",
       "    </tr>\n",
       "    <tr>\n",
       "      <th>zh-cn</th>\n",
       "      <td>5</td>\n",
       "    </tr>\n",
       "    <tr>\n",
       "      <th>ja</th>\n",
       "      <td>3</td>\n",
       "    </tr>\n",
       "    <tr>\n",
       "      <th>pt</th>\n",
       "      <td>1</td>\n",
       "    </tr>\n",
       "    <tr>\n",
       "      <th>it</th>\n",
       "      <td>1</td>\n",
       "    </tr>\n",
       "    <tr>\n",
       "      <th>no</th>\n",
       "      <td>1</td>\n",
       "    </tr>\n",
       "    <tr>\n",
       "      <th>zh-tw</th>\n",
       "      <td>1</td>\n",
       "    </tr>\n",
       "    <tr>\n",
       "      <th>af</th>\n",
       "      <td>1</td>\n",
       "    </tr>\n",
       "  </tbody>\n",
       "</table>\n",
       "</div>"
      ],
      "text/plain": [
       "       Language\n",
       "en        19880\n",
       "fr           74\n",
       "de           18\n",
       "es           15\n",
       "zh-cn         5\n",
       "ja            3\n",
       "pt            1\n",
       "it            1\n",
       "no            1\n",
       "zh-tw         1\n",
       "af            1"
      ]
     },
     "execution_count": 10,
     "metadata": {},
     "output_type": "execute_result"
    }
   ],
   "source": [
    "pd.DataFrame(df.Language.value_counts())"
   ]
  },
  {
   "cell_type": "code",
   "execution_count": 11,
   "id": "a3da9d07",
   "metadata": {},
   "outputs": [
    {
     "data": {
      "text/html": [
       "<div>\n",
       "<style scoped>\n",
       "    .dataframe tbody tr th:only-of-type {\n",
       "        vertical-align: middle;\n",
       "    }\n",
       "\n",
       "    .dataframe tbody tr th {\n",
       "        vertical-align: top;\n",
       "    }\n",
       "\n",
       "    .dataframe thead th {\n",
       "        text-align: right;\n",
       "    }\n",
       "</style>\n",
       "<table border=\"1\" class=\"dataframe\">\n",
       "  <thead>\n",
       "    <tr style=\"text-align: right;\">\n",
       "      <th></th>\n",
       "      <th>customer_no</th>\n",
       "      <th>stars</th>\n",
       "      <th>date</th>\n",
       "      <th>text</th>\n",
       "      <th>useful</th>\n",
       "      <th>funny</th>\n",
       "      <th>cool</th>\n",
       "      <th>Language</th>\n",
       "    </tr>\n",
       "  </thead>\n",
       "  <tbody>\n",
       "    <tr>\n",
       "      <th>0</th>\n",
       "      <td>Customer0</td>\n",
       "      <td>5</td>\n",
       "      <td>2017-09-09</td>\n",
       "      <td>If you are looking for a massage therapist tha...</td>\n",
       "      <td>0</td>\n",
       "      <td>0</td>\n",
       "      <td>0</td>\n",
       "      <td>en</td>\n",
       "    </tr>\n",
       "    <tr>\n",
       "      <th>1</th>\n",
       "      <td>Customer1</td>\n",
       "      <td>3</td>\n",
       "      <td>2017-05-25</td>\n",
       "      <td>Good time...\\nChill environment...\\nJust findi...</td>\n",
       "      <td>0</td>\n",
       "      <td>0</td>\n",
       "      <td>0</td>\n",
       "      <td>en</td>\n",
       "    </tr>\n",
       "    <tr>\n",
       "      <th>2</th>\n",
       "      <td>Customer2</td>\n",
       "      <td>1</td>\n",
       "      <td>2017-09-18</td>\n",
       "      <td>Was excited about this place but found the foo...</td>\n",
       "      <td>0</td>\n",
       "      <td>0</td>\n",
       "      <td>0</td>\n",
       "      <td>en</td>\n",
       "    </tr>\n",
       "    <tr>\n",
       "      <th>3</th>\n",
       "      <td>Customer3</td>\n",
       "      <td>5</td>\n",
       "      <td>2017-04-07</td>\n",
       "      <td>Great customer service, he took his time and d...</td>\n",
       "      <td>0</td>\n",
       "      <td>0</td>\n",
       "      <td>0</td>\n",
       "      <td>en</td>\n",
       "    </tr>\n",
       "    <tr>\n",
       "      <th>4</th>\n",
       "      <td>Customer4</td>\n",
       "      <td>4</td>\n",
       "      <td>2017-11-07</td>\n",
       "      <td>Food is delicious. This was my 2nd visit here ...</td>\n",
       "      <td>0</td>\n",
       "      <td>0</td>\n",
       "      <td>0</td>\n",
       "      <td>en</td>\n",
       "    </tr>\n",
       "    <tr>\n",
       "      <th>...</th>\n",
       "      <td>...</td>\n",
       "      <td>...</td>\n",
       "      <td>...</td>\n",
       "      <td>...</td>\n",
       "      <td>...</td>\n",
       "      <td>...</td>\n",
       "      <td>...</td>\n",
       "      <td>...</td>\n",
       "    </tr>\n",
       "    <tr>\n",
       "      <th>19995</th>\n",
       "      <td>Customer19995</td>\n",
       "      <td>4</td>\n",
       "      <td>2017-01-05</td>\n",
       "      <td>Outdoor patio - gorgeous. Food - excellent and...</td>\n",
       "      <td>0</td>\n",
       "      <td>0</td>\n",
       "      <td>0</td>\n",
       "      <td>en</td>\n",
       "    </tr>\n",
       "    <tr>\n",
       "      <th>19996</th>\n",
       "      <td>Customer19996</td>\n",
       "      <td>5</td>\n",
       "      <td>2017-01-21</td>\n",
       "      <td>Fresh, cooked perfectly, super tasty.  Price\\/...</td>\n",
       "      <td>0</td>\n",
       "      <td>0</td>\n",
       "      <td>0</td>\n",
       "      <td>en</td>\n",
       "    </tr>\n",
       "    <tr>\n",
       "      <th>19997</th>\n",
       "      <td>Customer19997</td>\n",
       "      <td>3</td>\n",
       "      <td>2017-02-15</td>\n",
       "      <td>This is inside Bally's casino food court, $8.0...</td>\n",
       "      <td>0</td>\n",
       "      <td>0</td>\n",
       "      <td>0</td>\n",
       "      <td>en</td>\n",
       "    </tr>\n",
       "    <tr>\n",
       "      <th>19998</th>\n",
       "      <td>Customer19998</td>\n",
       "      <td>5</td>\n",
       "      <td>2017-07-03</td>\n",
       "      <td>My favorite buffet in Vegas. \\n\\nI always go s...</td>\n",
       "      <td>0</td>\n",
       "      <td>0</td>\n",
       "      <td>0</td>\n",
       "      <td>en</td>\n",
       "    </tr>\n",
       "    <tr>\n",
       "      <th>19999</th>\n",
       "      <td>Customer19999</td>\n",
       "      <td>5</td>\n",
       "      <td>2017-04-16</td>\n",
       "      <td>OMMMG Ordered the strawberry bobba smoothie an...</td>\n",
       "      <td>0</td>\n",
       "      <td>0</td>\n",
       "      <td>0</td>\n",
       "      <td>en</td>\n",
       "    </tr>\n",
       "  </tbody>\n",
       "</table>\n",
       "<p>19880 rows × 8 columns</p>\n",
       "</div>"
      ],
      "text/plain": [
       "         customer_no  stars        date  \\\n",
       "0          Customer0      5  2017-09-09   \n",
       "1          Customer1      3  2017-05-25   \n",
       "2          Customer2      1  2017-09-18   \n",
       "3          Customer3      5  2017-04-07   \n",
       "4          Customer4      4  2017-11-07   \n",
       "...              ...    ...         ...   \n",
       "19995  Customer19995      4  2017-01-05   \n",
       "19996  Customer19996      5  2017-01-21   \n",
       "19997  Customer19997      3  2017-02-15   \n",
       "19998  Customer19998      5  2017-07-03   \n",
       "19999  Customer19999      5  2017-04-16   \n",
       "\n",
       "                                                    text  useful  funny  cool  \\\n",
       "0      If you are looking for a massage therapist tha...       0      0     0   \n",
       "1      Good time...\\nChill environment...\\nJust findi...       0      0     0   \n",
       "2      Was excited about this place but found the foo...       0      0     0   \n",
       "3      Great customer service, he took his time and d...       0      0     0   \n",
       "4      Food is delicious. This was my 2nd visit here ...       0      0     0   \n",
       "...                                                  ...     ...    ...   ...   \n",
       "19995  Outdoor patio - gorgeous. Food - excellent and...       0      0     0   \n",
       "19996  Fresh, cooked perfectly, super tasty.  Price\\/...       0      0     0   \n",
       "19997  This is inside Bally's casino food court, $8.0...       0      0     0   \n",
       "19998  My favorite buffet in Vegas. \\n\\nI always go s...       0      0     0   \n",
       "19999  OMMMG Ordered the strawberry bobba smoothie an...       0      0     0   \n",
       "\n",
       "      Language  \n",
       "0           en  \n",
       "1           en  \n",
       "2           en  \n",
       "3           en  \n",
       "4           en  \n",
       "...        ...  \n",
       "19995       en  \n",
       "19996       en  \n",
       "19997       en  \n",
       "19998       en  \n",
       "19999       en  \n",
       "\n",
       "[19880 rows x 8 columns]"
      ]
     },
     "execution_count": 11,
     "metadata": {},
     "output_type": "execute_result"
    }
   ],
   "source": [
    "df = df[df[\"Language\"]==\"en\"]\n",
    "df"
   ]
  },
  {
   "cell_type": "code",
   "execution_count": 12,
   "id": "ff3200ce",
   "metadata": {},
   "outputs": [],
   "source": [
    "df[\"date\"] = pd.to_datetime(df[\"date\"], format=\"%Y-%m-%d\")"
   ]
  },
  {
   "cell_type": "code",
   "execution_count": 13,
   "id": "fcb46009",
   "metadata": {},
   "outputs": [
    {
     "name": "stdout",
     "output_type": "stream",
     "text": [
      "<class 'pandas.core.frame.DataFrame'>\n",
      "Int64Index: 19880 entries, 0 to 19999\n",
      "Data columns (total 8 columns):\n",
      " #   Column       Non-Null Count  Dtype         \n",
      "---  ------       --------------  -----         \n",
      " 0   customer_no  19880 non-null  object        \n",
      " 1   stars        19880 non-null  int64         \n",
      " 2   date         19880 non-null  datetime64[ns]\n",
      " 3   text         19880 non-null  object        \n",
      " 4   useful       19880 non-null  int64         \n",
      " 5   funny        19880 non-null  int64         \n",
      " 6   cool         19880 non-null  int64         \n",
      " 7   Language     19880 non-null  object        \n",
      "dtypes: datetime64[ns](1), int64(4), object(3)\n",
      "memory usage: 1.4+ MB\n"
     ]
    }
   ],
   "source": [
    "df.info()"
   ]
  },
  {
   "cell_type": "code",
   "execution_count": 14,
   "id": "51d85434",
   "metadata": {},
   "outputs": [
    {
     "data": {
      "text/plain": [
       "count                   19880\n",
       "unique                    345\n",
       "top       2017-07-15 00:00:00\n",
       "freq                       90\n",
       "first     2017-01-01 00:00:00\n",
       "last      2017-12-11 00:00:00\n",
       "Name: date, dtype: object"
      ]
     },
     "execution_count": 14,
     "metadata": {},
     "output_type": "execute_result"
    }
   ],
   "source": [
    "df[\"date\"].describe()"
   ]
  },
  {
   "cell_type": "code",
   "execution_count": 15,
   "id": "42d4b831",
   "metadata": {},
   "outputs": [],
   "source": [
    "#df.to_csv(\"E:/Desktop/yelp_new.csv\", index=False)"
   ]
  },
  {
   "cell_type": "code",
   "execution_count": 16,
   "id": "9f9b87be",
   "metadata": {},
   "outputs": [
    {
     "name": "stdout",
     "output_type": "stream",
     "text": [
      "<class 'pandas.core.frame.DataFrame'>\n",
      "Int64Index: 19880 entries, 0 to 19999\n",
      "Data columns (total 8 columns):\n",
      " #   Column       Non-Null Count  Dtype         \n",
      "---  ------       --------------  -----         \n",
      " 0   customer_no  19880 non-null  object        \n",
      " 1   stars        19880 non-null  int64         \n",
      " 2   date         19880 non-null  datetime64[ns]\n",
      " 3   text         19880 non-null  object        \n",
      " 4   useful       19880 non-null  int64         \n",
      " 5   funny        19880 non-null  int64         \n",
      " 6   cool         19880 non-null  int64         \n",
      " 7   Language     19880 non-null  object        \n",
      "dtypes: datetime64[ns](1), int64(4), object(3)\n",
      "memory usage: 1.4+ MB\n"
     ]
    }
   ],
   "source": [
    "df.info()"
   ]
  },
  {
   "cell_type": "code",
   "execution_count": 17,
   "id": "a86dc385",
   "metadata": {},
   "outputs": [
    {
     "data": {
      "text/plain": [
       "5    9894\n",
       "4    3548\n",
       "1    3218\n",
       "3    1783\n",
       "2    1437\n",
       "Name: stars, dtype: int64"
      ]
     },
     "execution_count": 17,
     "metadata": {},
     "output_type": "execute_result"
    }
   ],
   "source": [
    "df[\"stars\"].value_counts()"
   ]
  },
  {
   "cell_type": "code",
   "execution_count": 63,
   "id": "baee20ec",
   "metadata": {},
   "outputs": [
    {
     "data": {
      "image/png": "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\n",
      "text/plain": [
       "<Figure size 1080x720 with 1 Axes>"
      ]
     },
     "metadata": {},
     "output_type": "display_data"
    }
   ],
   "source": [
    "plt.figure(figsize = [15, 10])\n",
    "label = '5 Star', '4 Star', '3 Star', '2 Star','1 Star'\n",
    "star_count = [9894, 3548, 1783, 1437, 3218]\n",
    "plt.pie(star_count, labels=label, autopct='%1.1f%%', startangle=90)\n",
    "plt.title(\"Star Distribution of The Comments\", c=\"red\", fontsize=15)\n",
    "#plt.savefig('E:/Desktop/ITU/DATA_SCIENCE_ACADEMY/Project4/StarDistributionofComments2.png', dpi=200)"
   ]
  },
  {
   "cell_type": "code",
   "execution_count": 19,
   "id": "5106c728",
   "metadata": {},
   "outputs": [],
   "source": [
    "import re\n",
    "import string"
   ]
  },
  {
   "cell_type": "code",
   "execution_count": 20,
   "id": "f526801b",
   "metadata": {},
   "outputs": [],
   "source": [
    "df[\"text\"] = df[\"text\"].apply(lambda x: re.sub(\"[%s]\" % re.escape(string.punctuation), \" \",x.lower())) # Remove punctuations and lower\n",
    "df[\"text\"] = df[\"text\"].apply(lambda x: re.sub(\"\\w*\\d\\w*\", \" \",x)) # Remove numbers\n",
    "df[\"text\"] = df[\"text\"].apply(lambda x: re.sub(\"\\n\",\" \",x)) # Remove \\n"
   ]
  },
  {
   "cell_type": "code",
   "execution_count": 21,
   "id": "e44f59e9",
   "metadata": {},
   "outputs": [
    {
     "data": {
      "text/plain": [
       "0        if you are looking for a massage therapist tha...\n",
       "1        good time    chill environment    just finding...\n",
       "2        was excited about this place but found the foo...\n",
       "3        great customer service  he took his time and d...\n",
       "4        food is delicious  this was my   visit here an...\n",
       "                               ...                        \n",
       "19995    outdoor patio   gorgeous  food   excellent and...\n",
       "19996    fresh  cooked perfectly  super tasty   price  ...\n",
       "19997    this is inside bally s casino food court      ...\n",
       "19998    my favorite buffet in vegas    i always go str...\n",
       "19999    ommmg ordered the strawberry bobba smoothie an...\n",
       "Name: text, Length: 19880, dtype: object"
      ]
     },
     "execution_count": 21,
     "metadata": {},
     "output_type": "execute_result"
    }
   ],
   "source": [
    "df[\"text\"]"
   ]
  },
  {
   "cell_type": "code",
   "execution_count": 22,
   "id": "5cd4890f",
   "metadata": {},
   "outputs": [
    {
     "data": {
      "text/html": [
       "<div>\n",
       "<style scoped>\n",
       "    .dataframe tbody tr th:only-of-type {\n",
       "        vertical-align: middle;\n",
       "    }\n",
       "\n",
       "    .dataframe tbody tr th {\n",
       "        vertical-align: top;\n",
       "    }\n",
       "\n",
       "    .dataframe thead th {\n",
       "        text-align: right;\n",
       "    }\n",
       "</style>\n",
       "<table border=\"1\" class=\"dataframe\">\n",
       "  <thead>\n",
       "    <tr style=\"text-align: right;\">\n",
       "      <th></th>\n",
       "      <th>customer_no</th>\n",
       "      <th>stars</th>\n",
       "      <th>date</th>\n",
       "      <th>text</th>\n",
       "      <th>useful</th>\n",
       "      <th>funny</th>\n",
       "      <th>cool</th>\n",
       "      <th>Language</th>\n",
       "    </tr>\n",
       "  </thead>\n",
       "  <tbody>\n",
       "    <tr>\n",
       "      <th>0</th>\n",
       "      <td>Customer0</td>\n",
       "      <td>5</td>\n",
       "      <td>2017-09-09</td>\n",
       "      <td>if you are looking for a massage therapist tha...</td>\n",
       "      <td>0</td>\n",
       "      <td>0</td>\n",
       "      <td>0</td>\n",
       "      <td>en</td>\n",
       "    </tr>\n",
       "    <tr>\n",
       "      <th>1</th>\n",
       "      <td>Customer1</td>\n",
       "      <td>3</td>\n",
       "      <td>2017-05-25</td>\n",
       "      <td>good time    chill environment    just finding...</td>\n",
       "      <td>0</td>\n",
       "      <td>0</td>\n",
       "      <td>0</td>\n",
       "      <td>en</td>\n",
       "    </tr>\n",
       "    <tr>\n",
       "      <th>2</th>\n",
       "      <td>Customer2</td>\n",
       "      <td>1</td>\n",
       "      <td>2017-09-18</td>\n",
       "      <td>was excited about this place but found the foo...</td>\n",
       "      <td>0</td>\n",
       "      <td>0</td>\n",
       "      <td>0</td>\n",
       "      <td>en</td>\n",
       "    </tr>\n",
       "    <tr>\n",
       "      <th>3</th>\n",
       "      <td>Customer3</td>\n",
       "      <td>5</td>\n",
       "      <td>2017-04-07</td>\n",
       "      <td>great customer service  he took his time and d...</td>\n",
       "      <td>0</td>\n",
       "      <td>0</td>\n",
       "      <td>0</td>\n",
       "      <td>en</td>\n",
       "    </tr>\n",
       "    <tr>\n",
       "      <th>4</th>\n",
       "      <td>Customer4</td>\n",
       "      <td>4</td>\n",
       "      <td>2017-11-07</td>\n",
       "      <td>food is delicious  this was my   visit here an...</td>\n",
       "      <td>0</td>\n",
       "      <td>0</td>\n",
       "      <td>0</td>\n",
       "      <td>en</td>\n",
       "    </tr>\n",
       "    <tr>\n",
       "      <th>...</th>\n",
       "      <td>...</td>\n",
       "      <td>...</td>\n",
       "      <td>...</td>\n",
       "      <td>...</td>\n",
       "      <td>...</td>\n",
       "      <td>...</td>\n",
       "      <td>...</td>\n",
       "      <td>...</td>\n",
       "    </tr>\n",
       "    <tr>\n",
       "      <th>19995</th>\n",
       "      <td>Customer19995</td>\n",
       "      <td>4</td>\n",
       "      <td>2017-01-05</td>\n",
       "      <td>outdoor patio   gorgeous  food   excellent and...</td>\n",
       "      <td>0</td>\n",
       "      <td>0</td>\n",
       "      <td>0</td>\n",
       "      <td>en</td>\n",
       "    </tr>\n",
       "    <tr>\n",
       "      <th>19996</th>\n",
       "      <td>Customer19996</td>\n",
       "      <td>5</td>\n",
       "      <td>2017-01-21</td>\n",
       "      <td>fresh  cooked perfectly  super tasty   price  ...</td>\n",
       "      <td>0</td>\n",
       "      <td>0</td>\n",
       "      <td>0</td>\n",
       "      <td>en</td>\n",
       "    </tr>\n",
       "    <tr>\n",
       "      <th>19997</th>\n",
       "      <td>Customer19997</td>\n",
       "      <td>3</td>\n",
       "      <td>2017-02-15</td>\n",
       "      <td>this is inside bally s casino food court      ...</td>\n",
       "      <td>0</td>\n",
       "      <td>0</td>\n",
       "      <td>0</td>\n",
       "      <td>en</td>\n",
       "    </tr>\n",
       "    <tr>\n",
       "      <th>19998</th>\n",
       "      <td>Customer19998</td>\n",
       "      <td>5</td>\n",
       "      <td>2017-07-03</td>\n",
       "      <td>my favorite buffet in vegas    i always go str...</td>\n",
       "      <td>0</td>\n",
       "      <td>0</td>\n",
       "      <td>0</td>\n",
       "      <td>en</td>\n",
       "    </tr>\n",
       "    <tr>\n",
       "      <th>19999</th>\n",
       "      <td>Customer19999</td>\n",
       "      <td>5</td>\n",
       "      <td>2017-04-16</td>\n",
       "      <td>ommmg ordered the strawberry bobba smoothie an...</td>\n",
       "      <td>0</td>\n",
       "      <td>0</td>\n",
       "      <td>0</td>\n",
       "      <td>en</td>\n",
       "    </tr>\n",
       "  </tbody>\n",
       "</table>\n",
       "<p>19880 rows × 8 columns</p>\n",
       "</div>"
      ],
      "text/plain": [
       "         customer_no  stars       date  \\\n",
       "0          Customer0      5 2017-09-09   \n",
       "1          Customer1      3 2017-05-25   \n",
       "2          Customer2      1 2017-09-18   \n",
       "3          Customer3      5 2017-04-07   \n",
       "4          Customer4      4 2017-11-07   \n",
       "...              ...    ...        ...   \n",
       "19995  Customer19995      4 2017-01-05   \n",
       "19996  Customer19996      5 2017-01-21   \n",
       "19997  Customer19997      3 2017-02-15   \n",
       "19998  Customer19998      5 2017-07-03   \n",
       "19999  Customer19999      5 2017-04-16   \n",
       "\n",
       "                                                    text  useful  funny  cool  \\\n",
       "0      if you are looking for a massage therapist tha...       0      0     0   \n",
       "1      good time    chill environment    just finding...       0      0     0   \n",
       "2      was excited about this place but found the foo...       0      0     0   \n",
       "3      great customer service  he took his time and d...       0      0     0   \n",
       "4      food is delicious  this was my   visit here an...       0      0     0   \n",
       "...                                                  ...     ...    ...   ...   \n",
       "19995  outdoor patio   gorgeous  food   excellent and...       0      0     0   \n",
       "19996  fresh  cooked perfectly  super tasty   price  ...       0      0     0   \n",
       "19997  this is inside bally s casino food court      ...       0      0     0   \n",
       "19998  my favorite buffet in vegas    i always go str...       0      0     0   \n",
       "19999  ommmg ordered the strawberry bobba smoothie an...       0      0     0   \n",
       "\n",
       "      Language  \n",
       "0           en  \n",
       "1           en  \n",
       "2           en  \n",
       "3           en  \n",
       "4           en  \n",
       "...        ...  \n",
       "19995       en  \n",
       "19996       en  \n",
       "19997       en  \n",
       "19998       en  \n",
       "19999       en  \n",
       "\n",
       "[19880 rows x 8 columns]"
      ]
     },
     "execution_count": 22,
     "metadata": {},
     "output_type": "execute_result"
    }
   ],
   "source": [
    "df"
   ]
  },
  {
   "cell_type": "code",
   "execution_count": 23,
   "id": "7542e40e",
   "metadata": {},
   "outputs": [],
   "source": [
    "def sentiment(star):\n",
    "    if star >= 4:\n",
    "        return \"Positive\"\n",
    "    elif star == 3:\n",
    "        return \"Neutral\"\n",
    "    else:\n",
    "        return \"Negative\""
   ]
  },
  {
   "cell_type": "code",
   "execution_count": 24,
   "id": "02f9dece",
   "metadata": {},
   "outputs": [],
   "source": [
    "df[\"sentiment\"] = df[\"stars\"].apply(sentiment)"
   ]
  },
  {
   "cell_type": "code",
   "execution_count": 25,
   "id": "5b4fdbeb",
   "metadata": {},
   "outputs": [
    {
     "data": {
      "text/html": [
       "<div>\n",
       "<style scoped>\n",
       "    .dataframe tbody tr th:only-of-type {\n",
       "        vertical-align: middle;\n",
       "    }\n",
       "\n",
       "    .dataframe tbody tr th {\n",
       "        vertical-align: top;\n",
       "    }\n",
       "\n",
       "    .dataframe thead th {\n",
       "        text-align: right;\n",
       "    }\n",
       "</style>\n",
       "<table border=\"1\" class=\"dataframe\">\n",
       "  <thead>\n",
       "    <tr style=\"text-align: right;\">\n",
       "      <th></th>\n",
       "      <th>customer_no</th>\n",
       "      <th>stars</th>\n",
       "      <th>date</th>\n",
       "      <th>text</th>\n",
       "      <th>useful</th>\n",
       "      <th>funny</th>\n",
       "      <th>cool</th>\n",
       "      <th>Language</th>\n",
       "      <th>sentiment</th>\n",
       "    </tr>\n",
       "  </thead>\n",
       "  <tbody>\n",
       "    <tr>\n",
       "      <th>0</th>\n",
       "      <td>Customer0</td>\n",
       "      <td>5</td>\n",
       "      <td>2017-09-09</td>\n",
       "      <td>if you are looking for a massage therapist tha...</td>\n",
       "      <td>0</td>\n",
       "      <td>0</td>\n",
       "      <td>0</td>\n",
       "      <td>en</td>\n",
       "      <td>Positive</td>\n",
       "    </tr>\n",
       "    <tr>\n",
       "      <th>1</th>\n",
       "      <td>Customer1</td>\n",
       "      <td>3</td>\n",
       "      <td>2017-05-25</td>\n",
       "      <td>good time    chill environment    just finding...</td>\n",
       "      <td>0</td>\n",
       "      <td>0</td>\n",
       "      <td>0</td>\n",
       "      <td>en</td>\n",
       "      <td>Neutral</td>\n",
       "    </tr>\n",
       "    <tr>\n",
       "      <th>2</th>\n",
       "      <td>Customer2</td>\n",
       "      <td>1</td>\n",
       "      <td>2017-09-18</td>\n",
       "      <td>was excited about this place but found the foo...</td>\n",
       "      <td>0</td>\n",
       "      <td>0</td>\n",
       "      <td>0</td>\n",
       "      <td>en</td>\n",
       "      <td>Negative</td>\n",
       "    </tr>\n",
       "    <tr>\n",
       "      <th>3</th>\n",
       "      <td>Customer3</td>\n",
       "      <td>5</td>\n",
       "      <td>2017-04-07</td>\n",
       "      <td>great customer service  he took his time and d...</td>\n",
       "      <td>0</td>\n",
       "      <td>0</td>\n",
       "      <td>0</td>\n",
       "      <td>en</td>\n",
       "      <td>Positive</td>\n",
       "    </tr>\n",
       "    <tr>\n",
       "      <th>4</th>\n",
       "      <td>Customer4</td>\n",
       "      <td>4</td>\n",
       "      <td>2017-11-07</td>\n",
       "      <td>food is delicious  this was my   visit here an...</td>\n",
       "      <td>0</td>\n",
       "      <td>0</td>\n",
       "      <td>0</td>\n",
       "      <td>en</td>\n",
       "      <td>Positive</td>\n",
       "    </tr>\n",
       "    <tr>\n",
       "      <th>...</th>\n",
       "      <td>...</td>\n",
       "      <td>...</td>\n",
       "      <td>...</td>\n",
       "      <td>...</td>\n",
       "      <td>...</td>\n",
       "      <td>...</td>\n",
       "      <td>...</td>\n",
       "      <td>...</td>\n",
       "      <td>...</td>\n",
       "    </tr>\n",
       "    <tr>\n",
       "      <th>19995</th>\n",
       "      <td>Customer19995</td>\n",
       "      <td>4</td>\n",
       "      <td>2017-01-05</td>\n",
       "      <td>outdoor patio   gorgeous  food   excellent and...</td>\n",
       "      <td>0</td>\n",
       "      <td>0</td>\n",
       "      <td>0</td>\n",
       "      <td>en</td>\n",
       "      <td>Positive</td>\n",
       "    </tr>\n",
       "    <tr>\n",
       "      <th>19996</th>\n",
       "      <td>Customer19996</td>\n",
       "      <td>5</td>\n",
       "      <td>2017-01-21</td>\n",
       "      <td>fresh  cooked perfectly  super tasty   price  ...</td>\n",
       "      <td>0</td>\n",
       "      <td>0</td>\n",
       "      <td>0</td>\n",
       "      <td>en</td>\n",
       "      <td>Positive</td>\n",
       "    </tr>\n",
       "    <tr>\n",
       "      <th>19997</th>\n",
       "      <td>Customer19997</td>\n",
       "      <td>3</td>\n",
       "      <td>2017-02-15</td>\n",
       "      <td>this is inside bally s casino food court      ...</td>\n",
       "      <td>0</td>\n",
       "      <td>0</td>\n",
       "      <td>0</td>\n",
       "      <td>en</td>\n",
       "      <td>Neutral</td>\n",
       "    </tr>\n",
       "    <tr>\n",
       "      <th>19998</th>\n",
       "      <td>Customer19998</td>\n",
       "      <td>5</td>\n",
       "      <td>2017-07-03</td>\n",
       "      <td>my favorite buffet in vegas    i always go str...</td>\n",
       "      <td>0</td>\n",
       "      <td>0</td>\n",
       "      <td>0</td>\n",
       "      <td>en</td>\n",
       "      <td>Positive</td>\n",
       "    </tr>\n",
       "    <tr>\n",
       "      <th>19999</th>\n",
       "      <td>Customer19999</td>\n",
       "      <td>5</td>\n",
       "      <td>2017-04-16</td>\n",
       "      <td>ommmg ordered the strawberry bobba smoothie an...</td>\n",
       "      <td>0</td>\n",
       "      <td>0</td>\n",
       "      <td>0</td>\n",
       "      <td>en</td>\n",
       "      <td>Positive</td>\n",
       "    </tr>\n",
       "  </tbody>\n",
       "</table>\n",
       "<p>19880 rows × 9 columns</p>\n",
       "</div>"
      ],
      "text/plain": [
       "         customer_no  stars       date  \\\n",
       "0          Customer0      5 2017-09-09   \n",
       "1          Customer1      3 2017-05-25   \n",
       "2          Customer2      1 2017-09-18   \n",
       "3          Customer3      5 2017-04-07   \n",
       "4          Customer4      4 2017-11-07   \n",
       "...              ...    ...        ...   \n",
       "19995  Customer19995      4 2017-01-05   \n",
       "19996  Customer19996      5 2017-01-21   \n",
       "19997  Customer19997      3 2017-02-15   \n",
       "19998  Customer19998      5 2017-07-03   \n",
       "19999  Customer19999      5 2017-04-16   \n",
       "\n",
       "                                                    text  useful  funny  cool  \\\n",
       "0      if you are looking for a massage therapist tha...       0      0     0   \n",
       "1      good time    chill environment    just finding...       0      0     0   \n",
       "2      was excited about this place but found the foo...       0      0     0   \n",
       "3      great customer service  he took his time and d...       0      0     0   \n",
       "4      food is delicious  this was my   visit here an...       0      0     0   \n",
       "...                                                  ...     ...    ...   ...   \n",
       "19995  outdoor patio   gorgeous  food   excellent and...       0      0     0   \n",
       "19996  fresh  cooked perfectly  super tasty   price  ...       0      0     0   \n",
       "19997  this is inside bally s casino food court      ...       0      0     0   \n",
       "19998  my favorite buffet in vegas    i always go str...       0      0     0   \n",
       "19999  ommmg ordered the strawberry bobba smoothie an...       0      0     0   \n",
       "\n",
       "      Language sentiment  \n",
       "0           en  Positive  \n",
       "1           en   Neutral  \n",
       "2           en  Negative  \n",
       "3           en  Positive  \n",
       "4           en  Positive  \n",
       "...        ...       ...  \n",
       "19995       en  Positive  \n",
       "19996       en  Positive  \n",
       "19997       en   Neutral  \n",
       "19998       en  Positive  \n",
       "19999       en  Positive  \n",
       "\n",
       "[19880 rows x 9 columns]"
      ]
     },
     "execution_count": 25,
     "metadata": {},
     "output_type": "execute_result"
    }
   ],
   "source": [
    "df"
   ]
  },
  {
   "cell_type": "code",
   "execution_count": 26,
   "id": "fc356215",
   "metadata": {},
   "outputs": [
    {
     "data": {
      "text/plain": [
       "Positive    13442\n",
       "Negative     4655\n",
       "Neutral      1783\n",
       "Name: sentiment, dtype: int64"
      ]
     },
     "execution_count": 26,
     "metadata": {},
     "output_type": "execute_result"
    }
   ],
   "source": [
    "df.sentiment.value_counts()"
   ]
  },
  {
   "cell_type": "code",
   "execution_count": 27,
   "id": "a8fc9e92",
   "metadata": {},
   "outputs": [
    {
     "data": {
      "text/plain": [
       "5    9894\n",
       "4    3548\n",
       "1    3218\n",
       "3    1783\n",
       "2    1437\n",
       "Name: stars, dtype: int64"
      ]
     },
     "execution_count": 27,
     "metadata": {},
     "output_type": "execute_result"
    }
   ],
   "source": [
    "df.stars.value_counts()"
   ]
  },
  {
   "cell_type": "code",
   "execution_count": 28,
   "id": "6f988f4c",
   "metadata": {},
   "outputs": [
    {
     "data": {
      "text/html": [
       "<div>\n",
       "<style scoped>\n",
       "    .dataframe tbody tr th:only-of-type {\n",
       "        vertical-align: middle;\n",
       "    }\n",
       "\n",
       "    .dataframe tbody tr th {\n",
       "        vertical-align: top;\n",
       "    }\n",
       "\n",
       "    .dataframe thead th {\n",
       "        text-align: right;\n",
       "    }\n",
       "</style>\n",
       "<table border=\"1\" class=\"dataframe\">\n",
       "  <thead>\n",
       "    <tr style=\"text-align: right;\">\n",
       "      <th></th>\n",
       "      <th>useful</th>\n",
       "      <th>funny</th>\n",
       "      <th>cool</th>\n",
       "    </tr>\n",
       "    <tr>\n",
       "      <th>stars</th>\n",
       "      <th></th>\n",
       "      <th></th>\n",
       "      <th></th>\n",
       "    </tr>\n",
       "  </thead>\n",
       "  <tbody>\n",
       "    <tr>\n",
       "      <th>1</th>\n",
       "      <td>0.906464</td>\n",
       "      <td>0.263518</td>\n",
       "      <td>0.110317</td>\n",
       "    </tr>\n",
       "    <tr>\n",
       "      <th>2</th>\n",
       "      <td>0.816980</td>\n",
       "      <td>0.299235</td>\n",
       "      <td>0.213640</td>\n",
       "    </tr>\n",
       "    <tr>\n",
       "      <th>3</th>\n",
       "      <td>1.049916</td>\n",
       "      <td>0.478968</td>\n",
       "      <td>0.632081</td>\n",
       "    </tr>\n",
       "    <tr>\n",
       "      <th>4</th>\n",
       "      <td>0.977170</td>\n",
       "      <td>0.383315</td>\n",
       "      <td>0.697012</td>\n",
       "    </tr>\n",
       "    <tr>\n",
       "      <th>5</th>\n",
       "      <td>0.597938</td>\n",
       "      <td>0.177582</td>\n",
       "      <td>0.366384</td>\n",
       "    </tr>\n",
       "  </tbody>\n",
       "</table>\n",
       "</div>"
      ],
      "text/plain": [
       "         useful     funny      cool\n",
       "stars                              \n",
       "1      0.906464  0.263518  0.110317\n",
       "2      0.816980  0.299235  0.213640\n",
       "3      1.049916  0.478968  0.632081\n",
       "4      0.977170  0.383315  0.697012\n",
       "5      0.597938  0.177582  0.366384"
      ]
     },
     "execution_count": 28,
     "metadata": {},
     "output_type": "execute_result"
    }
   ],
   "source": [
    "df.groupby(\"stars\").mean()"
   ]
  },
  {
   "cell_type": "code",
   "execution_count": 62,
   "id": "8af1caf0",
   "metadata": {},
   "outputs": [
    {
     "data": {
      "image/png": "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\n",
      "text/plain": [
       "<Figure size 1080x720 with 1 Axes>"
      ]
     },
     "metadata": {},
     "output_type": "display_data"
    }
   ],
   "source": [
    "plt.figure(figsize = [15, 10])\n",
    "label = 'Positive', 'Neutral', 'Negative'\n",
    "star_count = [13442, 1783, 4655]\n",
    "plt.pie(star_count, labels=label, autopct='%1.1f%%', startangle=90)\n",
    "plt.title(\"Sentiment Distribution of The Comments\", c=\"red\", fontsize=15)\n",
    "#plt.savefig('E:/Desktop/ITU/DATA_SCIENCE_ACADEMY/Project4/SentimentDistributionofComments2.png', dpi=200)"
   ]
  },
  {
   "cell_type": "code",
   "execution_count": 30,
   "id": "c940b124",
   "metadata": {},
   "outputs": [
    {
     "data": {
      "text/html": [
       "<div>\n",
       "<style scoped>\n",
       "    .dataframe tbody tr th:only-of-type {\n",
       "        vertical-align: middle;\n",
       "    }\n",
       "\n",
       "    .dataframe tbody tr th {\n",
       "        vertical-align: top;\n",
       "    }\n",
       "\n",
       "    .dataframe thead th {\n",
       "        text-align: right;\n",
       "    }\n",
       "</style>\n",
       "<table border=\"1\" class=\"dataframe\">\n",
       "  <thead>\n",
       "    <tr style=\"text-align: right;\">\n",
       "      <th></th>\n",
       "      <th>useful</th>\n",
       "      <th>funny</th>\n",
       "      <th>cool</th>\n",
       "    </tr>\n",
       "    <tr>\n",
       "      <th>sentiment</th>\n",
       "      <th></th>\n",
       "      <th></th>\n",
       "      <th></th>\n",
       "    </tr>\n",
       "  </thead>\n",
       "  <tbody>\n",
       "    <tr>\n",
       "      <th>Negative</th>\n",
       "      <td>0.878840</td>\n",
       "      <td>0.274544</td>\n",
       "      <td>0.142213</td>\n",
       "    </tr>\n",
       "    <tr>\n",
       "      <th>Neutral</th>\n",
       "      <td>1.049916</td>\n",
       "      <td>0.478968</td>\n",
       "      <td>0.632081</td>\n",
       "    </tr>\n",
       "    <tr>\n",
       "      <th>Positive</th>\n",
       "      <td>0.698036</td>\n",
       "      <td>0.231885</td>\n",
       "      <td>0.453653</td>\n",
       "    </tr>\n",
       "  </tbody>\n",
       "</table>\n",
       "</div>"
      ],
      "text/plain": [
       "             useful     funny      cool\n",
       "sentiment                              \n",
       "Negative   0.878840  0.274544  0.142213\n",
       "Neutral    1.049916  0.478968  0.632081\n",
       "Positive   0.698036  0.231885  0.453653"
      ]
     },
     "execution_count": 30,
     "metadata": {},
     "output_type": "execute_result"
    }
   ],
   "source": [
    "data = df.groupby('sentiment')[['useful','funny','cool']].mean()\n",
    "data"
   ]
  },
  {
   "cell_type": "code",
   "execution_count": 31,
   "id": "0a232a51",
   "metadata": {},
   "outputs": [
    {
     "data": {
      "text/html": [
       "<div>\n",
       "<style scoped>\n",
       "    .dataframe tbody tr th:only-of-type {\n",
       "        vertical-align: middle;\n",
       "    }\n",
       "\n",
       "    .dataframe tbody tr th {\n",
       "        vertical-align: top;\n",
       "    }\n",
       "\n",
       "    .dataframe thead th {\n",
       "        text-align: right;\n",
       "    }\n",
       "</style>\n",
       "<table border=\"1\" class=\"dataframe\">\n",
       "  <thead>\n",
       "    <tr style=\"text-align: right;\">\n",
       "      <th></th>\n",
       "      <th>sentiment</th>\n",
       "      <th>useful</th>\n",
       "      <th>funny</th>\n",
       "      <th>cool</th>\n",
       "    </tr>\n",
       "  </thead>\n",
       "  <tbody>\n",
       "    <tr>\n",
       "      <th>0</th>\n",
       "      <td>Negative</td>\n",
       "      <td>0.878840</td>\n",
       "      <td>0.274544</td>\n",
       "      <td>0.142213</td>\n",
       "    </tr>\n",
       "    <tr>\n",
       "      <th>1</th>\n",
       "      <td>Neutral</td>\n",
       "      <td>1.049916</td>\n",
       "      <td>0.478968</td>\n",
       "      <td>0.632081</td>\n",
       "    </tr>\n",
       "    <tr>\n",
       "      <th>2</th>\n",
       "      <td>Positive</td>\n",
       "      <td>0.698036</td>\n",
       "      <td>0.231885</td>\n",
       "      <td>0.453653</td>\n",
       "    </tr>\n",
       "  </tbody>\n",
       "</table>\n",
       "</div>"
      ],
      "text/plain": [
       "  sentiment    useful     funny      cool\n",
       "0  Negative  0.878840  0.274544  0.142213\n",
       "1   Neutral  1.049916  0.478968  0.632081\n",
       "2  Positive  0.698036  0.231885  0.453653"
      ]
     },
     "execution_count": 31,
     "metadata": {},
     "output_type": "execute_result"
    }
   ],
   "source": [
    "data_new = data.reset_index()\n",
    "data_new"
   ]
  },
  {
   "cell_type": "code",
   "execution_count": 61,
   "id": "425d1432",
   "metadata": {},
   "outputs": [
    {
     "data": {
      "text/plain": [
       "<Figure size 1080x720 with 0 Axes>"
      ]
     },
     "metadata": {},
     "output_type": "display_data"
    },
    {
     "data": {
      "image/png": "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\n",
      "text/plain": [
       "<Figure size 432x288 with 1 Axes>"
      ]
     },
     "metadata": {
      "needs_background": "light"
     },
     "output_type": "display_data"
    }
   ],
   "source": [
    "plt.figure(figsize = [15, 10])\n",
    "\n",
    "data_new.plot(x=\"sentiment\", y=[\"useful\",\"funny\", \"cool\"], kind=\"bar\")\n",
    " \n",
    "plt.xlabel(\"Sentiments\")\n",
    "plt.ylabel(\"Avg Number of Comment\")\n",
    "plt.title(\"Various Comment Types by Sentiments\", c=\"red\", fontsize=15)\n",
    "#plt.savefig('E:/Desktop/ITU/DATA_SCIENCE_ACADEMY/Project4/CommentTypesbySentiments2.png', dpi=200)"
   ]
  },
  {
   "cell_type": "code",
   "execution_count": 33,
   "id": "fd449658",
   "metadata": {},
   "outputs": [],
   "source": [
    "def get_top_n_gram(corpus,ngram_range,n=None):\n",
    "    vec = CountVectorizer(ngram_range=ngram_range,stop_words = 'english').fit(corpus)\n",
    "    bag_of_words = vec.transform(corpus)\n",
    "    sum_words = bag_of_words.sum(axis=0) \n",
    "    words_freq = [(word, sum_words[0, idx]) for word, idx in vec.vocabulary_.items()]\n",
    "    words_freq =sorted(words_freq, key = lambda x: x[1], reverse=True)\n",
    "    return words_freq[:n]"
   ]
  },
  {
   "cell_type": "code",
   "execution_count": 34,
   "id": "bd33af3e",
   "metadata": {},
   "outputs": [],
   "source": [
    "n2_bigrams = get_top_n_gram(df['text'],(2,2),20)\n",
    "n3_bigrams = get_top_n_gram(df['text'],(3,3),20)"
   ]
  },
  {
   "cell_type": "code",
   "execution_count": 35,
   "id": "e76fd849",
   "metadata": {},
   "outputs": [
    {
     "data": {
      "text/plain": [
       "[('customer service', 1286),\n",
       " ('highly recommend', 931),\n",
       " ('ice cream', 613),\n",
       " ('really good', 594),\n",
       " ('great service', 520),\n",
       " ('las vegas', 488),\n",
       " ('food good', 487),\n",
       " ('staff friendly', 463),\n",
       " ('great food', 440),\n",
       " ('make sure', 438),\n",
       " ('service great', 414),\n",
       " ('pretty good', 408),\n",
       " ('love place', 401),\n",
       " ('great place', 383),\n",
       " ('happy hour', 364),\n",
       " ('food great', 359),\n",
       " ('good food', 358),\n",
       " ('feel like', 348),\n",
       " ('definitely recommend', 345),\n",
       " ('recommend place', 324)]"
      ]
     },
     "execution_count": 35,
     "metadata": {},
     "output_type": "execute_result"
    }
   ],
   "source": [
    "n2_bigrams"
   ]
  },
  {
   "cell_type": "code",
   "execution_count": 36,
   "id": "bd7f1af6",
   "metadata": {},
   "outputs": [
    {
     "data": {
      "text/plain": [
       "[('great customer service', 159),\n",
       " ('did great job', 116),\n",
       " ('highly recommend place', 97),\n",
       " ('food great service', 82),\n",
       " ('definitely recommend place', 66),\n",
       " ('service great food', 62),\n",
       " ('staff super friendly', 59),\n",
       " ('great food great', 58),\n",
       " ('staff friendly helpful', 56),\n",
       " ('food really good', 54),\n",
       " ('did amazing job', 53),\n",
       " ('food good service', 51),\n",
       " ('excellent customer service', 50),\n",
       " ('great service great', 48),\n",
       " ('sweet potato fries', 48),\n",
       " ('seated right away', 47),\n",
       " ('good customer service', 44),\n",
       " ('love love love', 44),\n",
       " ('say good things', 43),\n",
       " ('food pretty good', 43)]"
      ]
     },
     "execution_count": 36,
     "metadata": {},
     "output_type": "execute_result"
    }
   ],
   "source": [
    "n3_bigrams"
   ]
  },
  {
   "cell_type": "code",
   "execution_count": 37,
   "id": "6e6bb909",
   "metadata": {},
   "outputs": [],
   "source": [
    "df_negative = df[df[\"sentiment\"]==\"Negative\"]\n",
    "df_positive = df[df[\"sentiment\"]==\"Positive\"]\n",
    "df_neutral = df[df[\"sentiment\"]==\"Neutral\"]"
   ]
  },
  {
   "cell_type": "code",
   "execution_count": 38,
   "id": "4de41427",
   "metadata": {},
   "outputs": [],
   "source": [
    "n2_bigrams_negative = get_top_n_gram(df_negative['text'],(2,2),20)\n",
    "n3_bigrams_negative = get_top_n_gram(df_negative['text'],(3,3),20)"
   ]
  },
  {
   "cell_type": "code",
   "execution_count": 64,
   "id": "3394fc23",
   "metadata": {},
   "outputs": [],
   "source": [
    "n2_bigrams_neutral = get_top_n_gram(df_neutral['text'],(2,2),20)\n",
    "n3_bigrams_neutral = get_top_n_gram(df_neutral['text'],(3,3),20)"
   ]
  },
  {
   "cell_type": "code",
   "execution_count": 39,
   "id": "e8344a33",
   "metadata": {},
   "outputs": [],
   "source": [
    "n2_bigrams_positive = get_top_n_gram(df_positive['text'],(2,2),20)\n",
    "n3_bigrams_positive = get_top_n_gram(df_positive['text'],(3,3),20)"
   ]
  },
  {
   "cell_type": "code",
   "execution_count": 40,
   "id": "8cb28531",
   "metadata": {},
   "outputs": [
    {
     "data": {
      "text/plain": [
       "[('great customer service', 142),\n",
       " ('did great job', 111),\n",
       " ('highly recommend place', 96),\n",
       " ('food great service', 75),\n",
       " ('definitely recommend place', 63),\n",
       " ('great food great', 57),\n",
       " ('staff super friendly', 55),\n",
       " ('service great food', 52),\n",
       " ('staff friendly helpful', 51),\n",
       " ('did amazing job', 50),\n",
       " ('excellent customer service', 47),\n",
       " ('great service great', 46),\n",
       " ('say good things', 43),\n",
       " ('food really good', 41),\n",
       " ('sweet potato fries', 41),\n",
       " ('love love love', 40),\n",
       " ('overall great experience', 35),\n",
       " ('did excellent job', 34),\n",
       " ('delicious delicious delicious', 34),\n",
       " ('great food service', 32)]"
      ]
     },
     "execution_count": 40,
     "metadata": {},
     "output_type": "execute_result"
    }
   ],
   "source": [
    "n3_bigrams_positive"
   ]
  },
  {
   "cell_type": "code",
   "execution_count": 65,
   "id": "9b9391a8",
   "metadata": {},
   "outputs": [
    {
     "data": {
      "text/plain": [
       "[('food pretty good', 12),\n",
       " ('food really good', 11),\n",
       " ('food good service', 11),\n",
       " ('did good job', 8),\n",
       " ('really wanted like', 8),\n",
       " ('good customer service', 8),\n",
       " ('overall food good', 7),\n",
       " ('pretty good food', 7),\n",
       " ('don think ll', 7),\n",
       " ('food just ok', 7),\n",
       " ('just tasted like', 7),\n",
       " ('food average best', 6),\n",
       " ('service great food', 6),\n",
       " ('ice cream shop', 6),\n",
       " ('food average prices', 5),\n",
       " ('ve definitely better', 5),\n",
       " ('southern fried chicken', 5),\n",
       " ('took long time', 5),\n",
       " ('probably wouldn come', 5),\n",
       " ('seated right away', 5)]"
      ]
     },
     "execution_count": 65,
     "metadata": {},
     "output_type": "execute_result"
    }
   ],
   "source": [
    "n3_bigrams_neutral"
   ]
  },
  {
   "cell_type": "code",
   "execution_count": 41,
   "id": "9394db5c",
   "metadata": {},
   "outputs": [
    {
     "data": {
      "text/plain": [
       "[('worst customer service', 38),\n",
       " ('horrible customer service', 34),\n",
       " ('poor customer service', 34),\n",
       " ('terrible customer service', 34),\n",
       " ('don waste time', 25),\n",
       " ('waste time money', 23),\n",
       " ('bad customer service', 18),\n",
       " ('long story short', 17),\n",
       " ('don think ll', 16),\n",
       " ('asked speak manager', 14),\n",
       " ('great customer service', 13),\n",
       " ('really wanted like', 13),\n",
       " ('lack customer service', 12),\n",
       " ('good customer service', 12),\n",
       " ('wanted like place', 12),\n",
       " ('don know doing', 11),\n",
       " ('let start saying', 11),\n",
       " ('food good service', 11),\n",
       " ('got food poisoning', 10),\n",
       " ('seated right away', 10)]"
      ]
     },
     "execution_count": 41,
     "metadata": {},
     "output_type": "execute_result"
    }
   ],
   "source": [
    "n3_bigrams_negative"
   ]
  },
  {
   "cell_type": "markdown",
   "id": "46d40a26",
   "metadata": {},
   "source": [
    "# Data Modeling"
   ]
  },
  {
   "cell_type": "code",
   "execution_count": 42,
   "id": "1aaacf22",
   "metadata": {},
   "outputs": [],
   "source": [
    "X = df.text\n",
    "y = df.sentiment"
   ]
  },
  {
   "cell_type": "code",
   "execution_count": 43,
   "id": "ee09593f",
   "metadata": {},
   "outputs": [],
   "source": [
    "from sklearn.model_selection import train_test_split\n",
    "X_train, X_test, y_train, y_test = train_test_split(X, y, test_size=0.3, random_state=42)"
   ]
  },
  {
   "cell_type": "code",
   "execution_count": 44,
   "id": "5a5e36c2",
   "metadata": {},
   "outputs": [
    {
     "data": {
      "text/html": [
       "<div>\n",
       "<style scoped>\n",
       "    .dataframe tbody tr th:only-of-type {\n",
       "        vertical-align: middle;\n",
       "    }\n",
       "\n",
       "    .dataframe tbody tr th {\n",
       "        vertical-align: top;\n",
       "    }\n",
       "\n",
       "    .dataframe thead th {\n",
       "        text-align: right;\n",
       "    }\n",
       "</style>\n",
       "<table border=\"1\" class=\"dataframe\">\n",
       "  <thead>\n",
       "    <tr style=\"text-align: right;\">\n",
       "      <th></th>\n",
       "      <th>aa</th>\n",
       "      <th>aaa</th>\n",
       "      <th>aaaaand</th>\n",
       "      <th>aaaamazing</th>\n",
       "      <th>aaah</th>\n",
       "      <th>aaamazing</th>\n",
       "      <th>aaarrrgghhhhh</th>\n",
       "      <th>aads</th>\n",
       "      <th>aahhhhhhhmaaaazing</th>\n",
       "      <th>aamrass</th>\n",
       "      <th>...</th>\n",
       "      <th>żywiec</th>\n",
       "      <th>イマイチ</th>\n",
       "      <th>但是服务超级差的餐厅</th>\n",
       "      <th>十分失望對素菜麵的水準</th>\n",
       "      <th>吃饭过程中恰逢餐厅打烊时间</th>\n",
       "      <th>服务员非常没礼貌的频繁恶语催促</th>\n",
       "      <th>油条</th>\n",
       "      <th>点解会有牛柏葉喺我哋碟麵到㗎</th>\n",
       "      <th>菜品还行</th>\n",
       "      <th>赶客人离开</th>\n",
       "    </tr>\n",
       "  </thead>\n",
       "  <tbody>\n",
       "    <tr>\n",
       "      <th>0</th>\n",
       "      <td>0</td>\n",
       "      <td>0</td>\n",
       "      <td>0</td>\n",
       "      <td>0</td>\n",
       "      <td>0</td>\n",
       "      <td>0</td>\n",
       "      <td>0</td>\n",
       "      <td>0</td>\n",
       "      <td>0</td>\n",
       "      <td>0</td>\n",
       "      <td>...</td>\n",
       "      <td>0</td>\n",
       "      <td>0</td>\n",
       "      <td>0</td>\n",
       "      <td>0</td>\n",
       "      <td>0</td>\n",
       "      <td>0</td>\n",
       "      <td>0</td>\n",
       "      <td>0</td>\n",
       "      <td>0</td>\n",
       "      <td>0</td>\n",
       "    </tr>\n",
       "    <tr>\n",
       "      <th>1</th>\n",
       "      <td>0</td>\n",
       "      <td>0</td>\n",
       "      <td>0</td>\n",
       "      <td>0</td>\n",
       "      <td>0</td>\n",
       "      <td>0</td>\n",
       "      <td>0</td>\n",
       "      <td>0</td>\n",
       "      <td>0</td>\n",
       "      <td>0</td>\n",
       "      <td>...</td>\n",
       "      <td>0</td>\n",
       "      <td>0</td>\n",
       "      <td>0</td>\n",
       "      <td>0</td>\n",
       "      <td>0</td>\n",
       "      <td>0</td>\n",
       "      <td>0</td>\n",
       "      <td>0</td>\n",
       "      <td>0</td>\n",
       "      <td>0</td>\n",
       "    </tr>\n",
       "    <tr>\n",
       "      <th>2</th>\n",
       "      <td>0</td>\n",
       "      <td>0</td>\n",
       "      <td>0</td>\n",
       "      <td>0</td>\n",
       "      <td>0</td>\n",
       "      <td>0</td>\n",
       "      <td>0</td>\n",
       "      <td>0</td>\n",
       "      <td>0</td>\n",
       "      <td>0</td>\n",
       "      <td>...</td>\n",
       "      <td>0</td>\n",
       "      <td>0</td>\n",
       "      <td>0</td>\n",
       "      <td>0</td>\n",
       "      <td>0</td>\n",
       "      <td>0</td>\n",
       "      <td>0</td>\n",
       "      <td>0</td>\n",
       "      <td>0</td>\n",
       "      <td>0</td>\n",
       "    </tr>\n",
       "    <tr>\n",
       "      <th>3</th>\n",
       "      <td>0</td>\n",
       "      <td>0</td>\n",
       "      <td>0</td>\n",
       "      <td>0</td>\n",
       "      <td>0</td>\n",
       "      <td>0</td>\n",
       "      <td>0</td>\n",
       "      <td>0</td>\n",
       "      <td>0</td>\n",
       "      <td>0</td>\n",
       "      <td>...</td>\n",
       "      <td>0</td>\n",
       "      <td>0</td>\n",
       "      <td>0</td>\n",
       "      <td>0</td>\n",
       "      <td>0</td>\n",
       "      <td>0</td>\n",
       "      <td>0</td>\n",
       "      <td>0</td>\n",
       "      <td>0</td>\n",
       "      <td>0</td>\n",
       "    </tr>\n",
       "    <tr>\n",
       "      <th>4</th>\n",
       "      <td>0</td>\n",
       "      <td>0</td>\n",
       "      <td>0</td>\n",
       "      <td>0</td>\n",
       "      <td>0</td>\n",
       "      <td>0</td>\n",
       "      <td>0</td>\n",
       "      <td>0</td>\n",
       "      <td>0</td>\n",
       "      <td>0</td>\n",
       "      <td>...</td>\n",
       "      <td>0</td>\n",
       "      <td>0</td>\n",
       "      <td>0</td>\n",
       "      <td>0</td>\n",
       "      <td>0</td>\n",
       "      <td>0</td>\n",
       "      <td>0</td>\n",
       "      <td>0</td>\n",
       "      <td>0</td>\n",
       "      <td>0</td>\n",
       "    </tr>\n",
       "  </tbody>\n",
       "</table>\n",
       "<p>5 rows × 26750 columns</p>\n",
       "</div>"
      ],
      "text/plain": [
       "   aa  aaa  aaaaand  aaaamazing  aaah  aaamazing  aaarrrgghhhhh  aads  \\\n",
       "0   0    0        0           0     0          0              0     0   \n",
       "1   0    0        0           0     0          0              0     0   \n",
       "2   0    0        0           0     0          0              0     0   \n",
       "3   0    0        0           0     0          0              0     0   \n",
       "4   0    0        0           0     0          0              0     0   \n",
       "\n",
       "   aahhhhhhhmaaaazing  aamrass  ...  żywiec  イマイチ  但是服务超级差的餐厅  十分失望對素菜麵的水準  \\\n",
       "0                   0        0  ...       0     0           0            0   \n",
       "1                   0        0  ...       0     0           0            0   \n",
       "2                   0        0  ...       0     0           0            0   \n",
       "3                   0        0  ...       0     0           0            0   \n",
       "4                   0        0  ...       0     0           0            0   \n",
       "\n",
       "   吃饭过程中恰逢餐厅打烊时间  服务员非常没礼貌的频繁恶语催促  油条  点解会有牛柏葉喺我哋碟麵到㗎  菜品还行  赶客人离开  \n",
       "0              0                0   0               0     0      0  \n",
       "1              0                0   0               0     0      0  \n",
       "2              0                0   0               0     0      0  \n",
       "3              0                0   0               0     0      0  \n",
       "4              0                0   0               0     0      0  \n",
       "\n",
       "[5 rows x 26750 columns]"
      ]
     },
     "execution_count": 44,
     "metadata": {},
     "output_type": "execute_result"
    }
   ],
   "source": [
    "from sklearn.feature_extraction.text import CountVectorizer\n",
    "\n",
    "cv1 = CountVectorizer(stop_words='english')\n",
    "\n",
    "X_train_cv1 = cv1.fit_transform(X_train)\n",
    "X_test_cv1  = cv1.transform(X_test)\n",
    "\n",
    "pd.DataFrame(X_train_cv1.toarray(), columns=cv1.get_feature_names()).head()"
   ]
  },
  {
   "cell_type": "markdown",
   "id": "011a1749",
   "metadata": {},
   "source": [
    "## Logistic Regression Classifier"
   ]
  },
  {
   "cell_type": "code",
   "execution_count": 45,
   "id": "e2e55b7e",
   "metadata": {},
   "outputs": [],
   "source": [
    "from sklearn.linear_model import LogisticRegression\n",
    "lr = LogisticRegression()"
   ]
  },
  {
   "cell_type": "code",
   "execution_count": 46,
   "id": "d977cb73",
   "metadata": {},
   "outputs": [],
   "source": [
    "lr.fit(X_train_cv1, y_train)\n",
    "y_pred_cv1 = lr.predict(X_test_cv1)"
   ]
  },
  {
   "cell_type": "code",
   "execution_count": 47,
   "id": "6044ad91",
   "metadata": {},
   "outputs": [],
   "source": [
    "# Create a function to calculate the error metrics, since we'll be doing this several times\n",
    "from sklearn.metrics import confusion_matrix\n",
    "import matplotlib.pyplot as plt\n",
    "import seaborn as sns\n",
    "%matplotlib inline\n",
    "\n",
    "def conf_matrix(actual, predicted):\n",
    "    cm = confusion_matrix(actual, predicted)\n",
    "    sns.heatmap(cm, xticklabels=['Pred_Negative','Pred_Neutral', 'Pred_Positive'], \n",
    "                yticklabels=['Act_Negative','Act_Neutral', 'Act_Positive'], annot=True,\n",
    "                fmt='d', annot_kws={'fontsize':20}, cmap=\"YlGnBu\");\n",
    "\n",
    "    a_neg, a_neu, a_pos = cm[0]\n",
    "    b_neg, b_neu, b_pos = cm[1]\n",
    "    c_neg, c_neu, c_pos = cm[2]\n",
    "\n",
    "    accuracy = round((a_neg + b_neu + c_pos) / (a_neg+a_neu+a_pos + b_neg+b_neu+b_pos + c_neg+c_neu+c_pos),2)\n",
    "    negative = round((a_neg) / (a_neg+a_neu+a_pos),2)\n",
    "    neutral = round((b_neu) / (b_neg+b_neu+b_pos),2)\n",
    "    positive = round((c_pos) / (c_neg+c_neu+c_pos),2)\n",
    "\n",
    "    cm_results = [accuracy, negative, neutral, positive]\n",
    "    return cm_results"
   ]
  },
  {
   "cell_type": "code",
   "execution_count": 48,
   "id": "f1296668",
   "metadata": {},
   "outputs": [
    {
     "data": {
      "image/png": "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\n",
      "text/plain": [
       "<Figure size 432x288 with 2 Axes>"
      ]
     },
     "metadata": {
      "needs_background": "light"
     },
     "output_type": "display_data"
    }
   ],
   "source": [
    "# The heat map for the first logistic regression model\n",
    "cm1 = conf_matrix(y_test, y_pred_cv1)"
   ]
  },
  {
   "cell_type": "markdown",
   "id": "316d52f8",
   "metadata": {},
   "source": [
    "## Naive Bayes Classifier"
   ]
  },
  {
   "cell_type": "code",
   "execution_count": 49,
   "id": "042f84a4",
   "metadata": {},
   "outputs": [],
   "source": [
    "# Fit the first Naive Bayes model\n",
    "from sklearn.naive_bayes import MultinomialNB\n",
    "\n",
    "mnb = MultinomialNB()\n",
    "mnb.fit(X_train_cv1, y_train)\n",
    "\n",
    "y_pred_cv1_nb = mnb.predict(X_test_cv1)"
   ]
  },
  {
   "cell_type": "code",
   "execution_count": 50,
   "id": "61cf3e99",
   "metadata": {},
   "outputs": [],
   "source": [
    "# Fit the second Naive Bayes model\n",
    "from sklearn.naive_bayes import BernoulliNB\n",
    "\n",
    "bnb = BernoulliNB()\n",
    "bnb.fit(X_train_cv1, y_train)\n",
    "\n",
    "y_pred_cv2_nb = bnb.predict(X_test_cv1)"
   ]
  },
  {
   "cell_type": "code",
   "execution_count": 51,
   "id": "a7ce7148",
   "metadata": {},
   "outputs": [
    {
     "data": {
      "image/png": "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\n",
      "text/plain": [
       "<Figure size 432x288 with 2 Axes>"
      ]
     },
     "metadata": {
      "needs_background": "light"
     },
     "output_type": "display_data"
    }
   ],
   "source": [
    "# Here's the heat map for the first Naive Bayes model\n",
    "cm3 = conf_matrix(y_test, y_pred_cv1_nb)"
   ]
  },
  {
   "cell_type": "code",
   "execution_count": 52,
   "id": "052a5281",
   "metadata": {},
   "outputs": [
    {
     "data": {
      "image/png": "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\n",
      "text/plain": [
       "<Figure size 432x288 with 2 Axes>"
      ]
     },
     "metadata": {
      "needs_background": "light"
     },
     "output_type": "display_data"
    }
   ],
   "source": [
    "# Here's the heat map for the second Naive Bayes model\n",
    "cm4 = conf_matrix(y_test, y_pred_cv2_nb)"
   ]
  },
  {
   "cell_type": "markdown",
   "id": "5592e7db",
   "metadata": {},
   "source": [
    "## KNN Classifier"
   ]
  },
  {
   "cell_type": "code",
   "execution_count": 53,
   "id": "1cacd554",
   "metadata": {},
   "outputs": [],
   "source": [
    "from sklearn.neighbors import KNeighborsClassifier\n",
    "# Fit the first KNN model\n",
    "knn = KNeighborsClassifier(3)\n",
    "knn.fit(X_train_cv1, y_train)\n",
    "\n",
    "y_pred_cv1_knn = knn.predict(X_test_cv1)"
   ]
  },
  {
   "cell_type": "code",
   "execution_count": 54,
   "id": "af332619",
   "metadata": {},
   "outputs": [
    {
     "data": {
      "image/png": "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\n",
      "text/plain": [
       "<Figure size 432x288 with 2 Axes>"
      ]
     },
     "metadata": {
      "needs_background": "light"
     },
     "output_type": "display_data"
    }
   ],
   "source": [
    "cm5 = conf_matrix(y_test, y_pred_cv1_knn)"
   ]
  },
  {
   "cell_type": "markdown",
   "id": "ffd6a358",
   "metadata": {},
   "source": [
    "## Try using TF-IDF instead of Count Vectorizer"
   ]
  },
  {
   "cell_type": "code",
   "execution_count": 55,
   "id": "92d2a7b8",
   "metadata": {},
   "outputs": [],
   "source": [
    "# Create TF-IDF versions of the Count Vectorizers created earlier in the exercise\n",
    "from sklearn.feature_extraction.text import TfidfVectorizer\n",
    "\n",
    "tfidf1 = TfidfVectorizer(stop_words='english')\n",
    "X_train_tfidf1 = tfidf1.fit_transform(X_train)\n",
    "X_test_tfidf1  = tfidf1.transform(X_test)"
   ]
  },
  {
   "cell_type": "markdown",
   "id": "8029c5e0",
   "metadata": {},
   "source": [
    "## Logistic Regression"
   ]
  },
  {
   "cell_type": "code",
   "execution_count": 56,
   "id": "9f580af0",
   "metadata": {},
   "outputs": [
    {
     "data": {
      "image/png": "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\n",
      "text/plain": [
       "<Figure size 432x288 with 2 Axes>"
      ]
     },
     "metadata": {
      "needs_background": "light"
     },
     "output_type": "display_data"
    }
   ],
   "source": [
    "# Fit the first logistic regression on the TF-IDF data\n",
    "lr.fit(X_train_tfidf1, y_train)\n",
    "y_pred_tfidf1_lr = lr.predict(X_test_tfidf1)\n",
    "cm6 = conf_matrix(y_test, y_pred_tfidf1_lr)"
   ]
  },
  {
   "cell_type": "markdown",
   "id": "3abb08ad",
   "metadata": {},
   "source": [
    "## Naive Bayes"
   ]
  },
  {
   "cell_type": "code",
   "execution_count": 57,
   "id": "01dfa843",
   "metadata": {},
   "outputs": [
    {
     "data": {
      "image/png": "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\n",
      "text/plain": [
       "<Figure size 432x288 with 2 Axes>"
      ]
     },
     "metadata": {
      "needs_background": "light"
     },
     "output_type": "display_data"
    }
   ],
   "source": [
    "# Fit the first Naive Bayes model on the TF-IDF data\n",
    "mnb.fit(X_train_tfidf1.toarray(), y_train)\n",
    "y_pred_tfidf1_nb = mnb.predict(X_test_tfidf1)\n",
    "cm7 = conf_matrix(y_test, y_pred_tfidf1_nb)"
   ]
  },
  {
   "cell_type": "code",
   "execution_count": 58,
   "id": "10424dad",
   "metadata": {},
   "outputs": [
    {
     "data": {
      "image/png": "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\n",
      "text/plain": [
       "<Figure size 432x288 with 2 Axes>"
      ]
     },
     "metadata": {
      "needs_background": "light"
     },
     "output_type": "display_data"
    }
   ],
   "source": [
    "# Fit the second Naive Bayes model on the TF-IDF data\n",
    "bnb.fit(X_train_tfidf1.toarray(), y_train)\n",
    "y_pred_tfidf2_nb = bnb.predict(X_test_tfidf1)\n",
    "cm8 = conf_matrix(y_test, y_pred_tfidf2_nb)"
   ]
  },
  {
   "cell_type": "markdown",
   "id": "65bbdddf",
   "metadata": {},
   "source": [
    "## KNN"
   ]
  },
  {
   "cell_type": "code",
   "execution_count": 59,
   "id": "d5aa2f7f",
   "metadata": {},
   "outputs": [
    {
     "data": {
      "image/png": "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\n",
      "text/plain": [
       "<Figure size 432x288 with 2 Axes>"
      ]
     },
     "metadata": {
      "needs_background": "light"
     },
     "output_type": "display_data"
    }
   ],
   "source": [
    "# Fit the first KNN model\n",
    "knn = KNeighborsClassifier(3)\n",
    "knn.fit(X_train_tfidf1.toarray(), y_train)\n",
    "y_pred_cv1_tfidf_knn = knn.predict(X_test_tfidf1)\n",
    "cm9 = conf_matrix(y_test, y_pred_cv1_tfidf_knn)"
   ]
  },
  {
   "cell_type": "code",
   "execution_count": 60,
   "id": "80168397",
   "metadata": {},
   "outputs": [
    {
     "data": {
      "text/html": [
       "<div>\n",
       "<style scoped>\n",
       "    .dataframe tbody tr th:only-of-type {\n",
       "        vertical-align: middle;\n",
       "    }\n",
       "\n",
       "    .dataframe tbody tr th {\n",
       "        vertical-align: top;\n",
       "    }\n",
       "\n",
       "    .dataframe thead th {\n",
       "        text-align: right;\n",
       "    }\n",
       "</style>\n",
       "<table border=\"1\" class=\"dataframe\">\n",
       "  <thead>\n",
       "    <tr style=\"text-align: right;\">\n",
       "      <th></th>\n",
       "      <th>LR_CV</th>\n",
       "      <th>MNB_CV</th>\n",
       "      <th>BNB_CV</th>\n",
       "      <th>KNN_CV</th>\n",
       "      <th>LR_TFIDF</th>\n",
       "      <th>MNB_TFIDF</th>\n",
       "      <th>BNB_TFIDF</th>\n",
       "      <th>KNN_TFIDF</th>\n",
       "    </tr>\n",
       "  </thead>\n",
       "  <tbody>\n",
       "    <tr>\n",
       "      <th>Accuracy</th>\n",
       "      <td>0.84</td>\n",
       "      <td>0.83</td>\n",
       "      <td>0.75</td>\n",
       "      <td>0.70</td>\n",
       "      <td>0.86</td>\n",
       "      <td>0.74</td>\n",
       "      <td>0.75</td>\n",
       "      <td>0.72</td>\n",
       "    </tr>\n",
       "    <tr>\n",
       "      <th>Negative Accuracy</th>\n",
       "      <td>0.81</td>\n",
       "      <td>0.80</td>\n",
       "      <td>0.57</td>\n",
       "      <td>0.40</td>\n",
       "      <td>0.82</td>\n",
       "      <td>0.31</td>\n",
       "      <td>0.57</td>\n",
       "      <td>0.56</td>\n",
       "    </tr>\n",
       "    <tr>\n",
       "      <th>Neutral Accuracy</th>\n",
       "      <td>0.28</td>\n",
       "      <td>0.14</td>\n",
       "      <td>0.18</td>\n",
       "      <td>0.07</td>\n",
       "      <td>0.11</td>\n",
       "      <td>0.00</td>\n",
       "      <td>0.18</td>\n",
       "      <td>0.07</td>\n",
       "    </tr>\n",
       "    <tr>\n",
       "      <th>Positive Accuracy</th>\n",
       "      <td>0.93</td>\n",
       "      <td>0.94</td>\n",
       "      <td>0.90</td>\n",
       "      <td>0.89</td>\n",
       "      <td>0.97</td>\n",
       "      <td>1.00</td>\n",
       "      <td>0.90</td>\n",
       "      <td>0.87</td>\n",
       "    </tr>\n",
       "  </tbody>\n",
       "</table>\n",
       "</div>"
      ],
      "text/plain": [
       "                   LR_CV  MNB_CV  BNB_CV  KNN_CV  LR_TFIDF  MNB_TFIDF  \\\n",
       "Accuracy            0.84    0.83    0.75    0.70      0.86       0.74   \n",
       "Negative Accuracy   0.81    0.80    0.57    0.40      0.82       0.31   \n",
       "Neutral Accuracy    0.28    0.14    0.18    0.07      0.11       0.00   \n",
       "Positive Accuracy   0.93    0.94    0.90    0.89      0.97       1.00   \n",
       "\n",
       "                   BNB_TFIDF  KNN_TFIDF  \n",
       "Accuracy                0.75       0.72  \n",
       "Negative Accuracy       0.57       0.56  \n",
       "Neutral Accuracy        0.18       0.07  \n",
       "Positive Accuracy       0.90       0.87  "
      ]
     },
     "execution_count": 60,
     "metadata": {},
     "output_type": "execute_result"
    }
   ],
   "source": [
    "# Compile all of the error metrics into a dataframe for comparison\n",
    "results_tf = pd.DataFrame(list(zip(cm1, cm3, cm4, cm5, cm6, cm7, cm8, cm9)))\n",
    "results_tf = results_tf.set_index([['Accuracy', 'Negative Accuracy', 'Neutral Accuracy', 'Positive Accuracy']])\n",
    "results_tf.columns = ['LR_CV', 'MNB_CV', 'BNB_CV', 'KNN_CV', 'LR_TFIDF', 'MNB_TFIDF', 'BNB_TFIDF', 'KNN_TFIDF']\n",
    "results_tf"
   ]
  },
  {
   "cell_type": "code",
   "execution_count": null,
   "id": "1e05f207",
   "metadata": {},
   "outputs": [],
   "source": []
  }
 ],
 "metadata": {
  "kernelspec": {
   "display_name": "Python 3",
   "language": "python",
   "name": "python3"
  },
  "language_info": {
   "codemirror_mode": {
    "name": "ipython",
    "version": 3
   },
   "file_extension": ".py",
   "mimetype": "text/x-python",
   "name": "python",
   "nbconvert_exporter": "python",
   "pygments_lexer": "ipython3",
   "version": "3.8.8"
  }
 },
 "nbformat": 4,
 "nbformat_minor": 5
}
