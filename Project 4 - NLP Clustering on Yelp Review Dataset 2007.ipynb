{
 "cells": [
  {
   "cell_type": "code",
   "execution_count": 1,
   "id": "51733424",
   "metadata": {},
   "outputs": [],
   "source": [
   import pandas as pd
import numpy as np
import matplotlib.pyplot as plt
import seaborn as sns
from sklearn.feature_extraction.text import CountVectorizer
import nltk
from nltk.sentiment.vader import SentimentIntensityAnalyzer
from nltk.stem import SnowballStemmer
from textblob import TextBlob
from tweepy.streaming import StreamListener
from tweepy import OAuthHandler, Stream
import json

# Set up Twitter API credentials
consumer_key = "YOUR_CONSUMER_KEY"
consumer_secret = "YOUR_CONSUMER_SECRET"
access_token = "YOUR_ACCESS_TOKEN"
access_token_secret = "YOUR_ACCESS_TOKEN_SECRET"

# Create a class to process live tweets
class TwitterStreamListener(StreamListener):
    def on_status(self, status):
        try:
            tweet = status.text
            print("Received tweet: ", tweet)

            # Perform sentiment analysis
            sid = SentimentIntensityAnalyzer()
            sentiment_scores = sid.polarity_scores(tweet)
            sentiment = "Positive" if sentiment_scores['compound'] > 0 else "Negative" if sentiment_scores['compound'] < 0 else "Neutral"

            # Display sentiment
            print("Sentiment: ", sentiment)
            print("Sentiment Scores: ", sentiment_scores)
            
        except Exception as e:
            print("Error:", str(e))

    def on_error(self, status_code):
        if status_code == 420:
            return False

if __name__ == "__main__":
    # Set up Twitter API authentication
    auth = OAuthHandler(consumer_key, consumer_secret)
    auth.set_access_token(access_token, access_token_secret)

    # Create a Twitter stream listener
    twitter_stream_listener = TwitterStreamListener()

    # Start streaming tweets with a specific keyword (e.g., "data science")
    twitter_stream = Stream(auth, twitter_stream_listener)
    twitter_stream.filter(track=["restaurant"])  # You can change the keyword to your topic of interest

   ]
  },
  {
   "cell_type": "code",
   "execution_count": 2,
   "id": "b2c2ad06",
   "metadata": {},
   "outputs": [
    {
     "data": {
      "text/html": [
       "<div>\n",
       "<style scoped>\n",
       "    .dataframe tbody tr th:only-of-type {\n",
       "        vertical-align: middle;\n",
       "    }\n",
       "\n",
       "    .dataframe tbody tr th {\n",
       "        vertical-align: top;\n",
       "    }\n",
       "\n",
       "    .dataframe thead th {\n",
       "        text-align: right;\n",
       "    }\n",
       "</style>\n",
       "<table border=\"1\" class=\"dataframe\">\n",
       "  <thead>\n",
       "    <tr style=\"text-align: right;\">\n",
       "      <th></th>\n",
       "      <th>review_id</th>\n",
       "      <th>user_id</th>\n",
       "      <th>business_id</th>\n",
       "      <th>stars</th>\n",
       "      <th>date</th>\n",
       "      <th>text</th>\n",
       "      <th>useful</th>\n",
       "      <th>funny</th>\n",
       "      <th>cool</th>\n",
       "    </tr>\n",
       "  </thead>\n",
       "  <tbody>\n",
       "    <tr>\n",
       "      <th>0</th>\n",
       "      <td>iS-j0OirHNI9O0JsWS2-rA</td>\n",
       "      <td>4x3x0oGs9gcHCoQpqoI9hw</td>\n",
       "      <td>kJl3l4fSa2spv_Mkhgogmg</td>\n",
       "      <td>5</td>\n",
       "      <td>2007-09-20</td>\n",
       "      <td>I was introduced to this spacious and homey Fi...</td>\n",
       "      <td>5</td>\n",
       "      <td>3</td>\n",
       "      <td>1</td>\n",
       "    </tr>\n",
       "    <tr>\n",
       "      <th>1</th>\n",
       "      <td>zKYzD05XkGk85WKLuW3JYg</td>\n",
       "      <td>25zD4f-sLZpP4raa4u88Vg</td>\n",
       "      <td>gBfPyzPRmeOaj3SdcIj0Rw</td>\n",
       "      <td>4</td>\n",
       "      <td>2007-05-07</td>\n",
       "      <td>Another overpriced sushi joint in vegas where ...</td>\n",
       "      <td>1</td>\n",
       "      <td>0</td>\n",
       "      <td>0</td>\n",
       "    </tr>\n",
       "    <tr>\n",
       "      <th>2</th>\n",
       "      <td>IWo4h4DQXG5bwVU2Ddj9sA</td>\n",
       "      <td>s3kRi7b8t2sdtYcsMbqlJA</td>\n",
       "      <td>p6cPotjmAeI-o66BcKIoLQ</td>\n",
       "      <td>4</td>\n",
       "      <td>2007-06-18</td>\n",
       "      <td>My classmate opened up this restaurant! \\n\\nTh...</td>\n",
       "      <td>0</td>\n",
       "      <td>0</td>\n",
       "      <td>0</td>\n",
       "    </tr>\n",
       "    <tr>\n",
       "      <th>3</th>\n",
       "      <td>k_7jevNXm9WBrpro3njDAA</td>\n",
       "      <td>hyL8xZ-94jXcaqQt5hS14Q</td>\n",
       "      <td>_j2EtQtgLuXGRBfbM5YwZA</td>\n",
       "      <td>4</td>\n",
       "      <td>2007-08-06</td>\n",
       "      <td>Im always a bit skeptical about ridiculously h...</td>\n",
       "      <td>0</td>\n",
       "      <td>0</td>\n",
       "      <td>0</td>\n",
       "    </tr>\n",
       "    <tr>\n",
       "      <th>4</th>\n",
       "      <td>Q-UEtKLbtRjtypFOOgjeHg</td>\n",
       "      <td>xLldDRZe1DCTY-05-OIauA</td>\n",
       "      <td>-U7tvCtaraTQ9b0zBhpBMA</td>\n",
       "      <td>4</td>\n",
       "      <td>2007-04-03</td>\n",
       "      <td>I don't know...I really like the MGM Grand Buf...</td>\n",
       "      <td>1</td>\n",
       "      <td>3</td>\n",
       "      <td>4</td>\n",
       "    </tr>\n",
       "    <tr>\n",
       "      <th>...</th>\n",
       "      <td>...</td>\n",
       "      <td>...</td>\n",
       "      <td>...</td>\n",
       "      <td>...</td>\n",
       "      <td>...</td>\n",
       "      <td>...</td>\n",
       "      <td>...</td>\n",
       "      <td>...</td>\n",
       "      <td>...</td>\n",
       "    </tr>\n",
       "    <tr>\n",
       "      <th>19995</th>\n",
       "      <td>MGh99ZFMl4yWUMGSlOZE-A</td>\n",
       "      <td>ar-jniZj7xsn4t-ZR6RkTw</td>\n",
       "      <td>Awm9xctpNl-XrI4eN0mt6A</td>\n",
       "      <td>4</td>\n",
       "      <td>2007-02-07</td>\n",
       "      <td>If you love sushi and martinis this is the pla...</td>\n",
       "      <td>0</td>\n",
       "      <td>0</td>\n",
       "      <td>0</td>\n",
       "    </tr>\n",
       "    <tr>\n",
       "      <th>19996</th>\n",
       "      <td>YbkJ_An4d-OGCy122FR75Q</td>\n",
       "      <td>D8UMqhV2c4p8RGVmUMBGfg</td>\n",
       "      <td>oZcbn7ENit23xbCsyu9xbA</td>\n",
       "      <td>5</td>\n",
       "      <td>2007-11-11</td>\n",
       "      <td>So what can I say that hasn't already been yel...</td>\n",
       "      <td>3</td>\n",
       "      <td>1</td>\n",
       "      <td>4</td>\n",
       "    </tr>\n",
       "    <tr>\n",
       "      <th>19997</th>\n",
       "      <td>_baE6s8YfeaaRW4eHmUUMw</td>\n",
       "      <td>Q75Of3PHWC5TRxpiCDPozA</td>\n",
       "      <td>aCvSQs0wAIwYzdy21-De3w</td>\n",
       "      <td>5</td>\n",
       "      <td>2007-12-25</td>\n",
       "      <td>I am the owner and being prejustice here. If y...</td>\n",
       "      <td>0</td>\n",
       "      <td>0</td>\n",
       "      <td>0</td>\n",
       "    </tr>\n",
       "    <tr>\n",
       "      <th>19998</th>\n",
       "      <td>Bx8vYLNDTvuflPrSPhJ6Wg</td>\n",
       "      <td>1zeS9uLQ6Dc3mhtIUjKMbA</td>\n",
       "      <td>MWmuV3o6qcnYCktB755_-Q</td>\n",
       "      <td>5</td>\n",
       "      <td>2007-11-21</td>\n",
       "      <td>Holy lucky find, Batman!\\n\\nI didn't even know...</td>\n",
       "      <td>3</td>\n",
       "      <td>3</td>\n",
       "      <td>4</td>\n",
       "    </tr>\n",
       "    <tr>\n",
       "      <th>19999</th>\n",
       "      <td>9wRN_NR5Eo0KxYXKE-EmEA</td>\n",
       "      <td>eavBO3KRzBf8sM6KGa_-NQ</td>\n",
       "      <td>7CPGGNwHibzQtnERq7u2Hw</td>\n",
       "      <td>4</td>\n",
       "      <td>2007-06-13</td>\n",
       "      <td>Buca De Beppo is a great place to go with all ...</td>\n",
       "      <td>3</td>\n",
       "      <td>0</td>\n",
       "      <td>0</td>\n",
       "    </tr>\n",
       "  </tbody>\n",
       "</table>\n",
       "<p>20000 rows × 9 columns</p>\n",
       "</div>"
      ],
      "text/plain": [
       "                    review_id                 user_id             business_id  \\\n",
       "0      iS-j0OirHNI9O0JsWS2-rA  4x3x0oGs9gcHCoQpqoI9hw  kJl3l4fSa2spv_Mkhgogmg   \n",
       "1      zKYzD05XkGk85WKLuW3JYg  25zD4f-sLZpP4raa4u88Vg  gBfPyzPRmeOaj3SdcIj0Rw   \n",
       "2      IWo4h4DQXG5bwVU2Ddj9sA  s3kRi7b8t2sdtYcsMbqlJA  p6cPotjmAeI-o66BcKIoLQ   \n",
       "3      k_7jevNXm9WBrpro3njDAA  hyL8xZ-94jXcaqQt5hS14Q  _j2EtQtgLuXGRBfbM5YwZA   \n",
       "4      Q-UEtKLbtRjtypFOOgjeHg  xLldDRZe1DCTY-05-OIauA  -U7tvCtaraTQ9b0zBhpBMA   \n",
       "...                       ...                     ...                     ...   \n",
       "19995  MGh99ZFMl4yWUMGSlOZE-A  ar-jniZj7xsn4t-ZR6RkTw  Awm9xctpNl-XrI4eN0mt6A   \n",
       "19996  YbkJ_An4d-OGCy122FR75Q  D8UMqhV2c4p8RGVmUMBGfg  oZcbn7ENit23xbCsyu9xbA   \n",
       "19997  _baE6s8YfeaaRW4eHmUUMw  Q75Of3PHWC5TRxpiCDPozA  aCvSQs0wAIwYzdy21-De3w   \n",
       "19998  Bx8vYLNDTvuflPrSPhJ6Wg  1zeS9uLQ6Dc3mhtIUjKMbA  MWmuV3o6qcnYCktB755_-Q   \n",
       "19999  9wRN_NR5Eo0KxYXKE-EmEA  eavBO3KRzBf8sM6KGa_-NQ  7CPGGNwHibzQtnERq7u2Hw   \n",
       "\n",
       "       stars        date                                               text  \\\n",
       "0          5  2007-09-20  I was introduced to this spacious and homey Fi...   \n",
       "1          4  2007-05-07  Another overpriced sushi joint in vegas where ...   \n",
       "2          4  2007-06-18  My classmate opened up this restaurant! \\n\\nTh...   \n",
       "3          4  2007-08-06  Im always a bit skeptical about ridiculously h...   \n",
       "4          4  2007-04-03  I don't know...I really like the MGM Grand Buf...   \n",
       "...      ...         ...                                                ...   \n",
       "19995      4  2007-02-07  If you love sushi and martinis this is the pla...   \n",
       "19996      5  2007-11-11  So what can I say that hasn't already been yel...   \n",
       "19997      5  2007-12-25  I am the owner and being prejustice here. If y...   \n",
       "19998      5  2007-11-21  Holy lucky find, Batman!\\n\\nI didn't even know...   \n",
       "19999      4  2007-06-13  Buca De Beppo is a great place to go with all ...   \n",
       "\n",
       "       useful  funny  cool  \n",
       "0           5      3     1  \n",
       "1           1      0     0  \n",
       "2           0      0     0  \n",
       "3           0      0     0  \n",
       "4           1      3     4  \n",
       "...       ...    ...   ...  \n",
       "19995       0      0     0  \n",
       "19996       3      1     4  \n",
       "19997       0      0     0  \n",
       "19998       3      3     4  \n",
       "19999       3      0     0  \n",
       "\n",
       "[20000 rows x 9 columns]"
      ]
     },
     "execution_count": 2,
     "metadata": {},
     "output_type": "execute_result"
    }
   ],
   "source": [
    "df = pd.read_csv(\"E:/Desktop/ITU/DATA_SCIENCE_ACADEMY/Project4/yelp_review_reorganized_1.csv\")\n",
    "df"
   ]
  },
  {
   "cell_type": "code",
   "execution_count": 3,
   "id": "ba21fe42",
   "metadata": {},
   "outputs": [],
   "source": [
    "df['customer_no'] = np.arange(len(df))"
   ]
  },
  {
   "cell_type": "code",
   "execution_count": 4,
   "id": "0bb162d6",
   "metadata": {},
   "outputs": [],
   "source": [
    "df[\"customer_no\"] = df[\"customer_no\"].apply(lambda x: \"Customer\" + str(x))"
   ]
  },
  {
   "cell_type": "code",
   "execution_count": 5,
   "id": "3e1bfcdb",
   "metadata": {},
   "outputs": [],
   "source": [
    "df = df.set_index(\"customer_no\").reset_index()"
   ]
  },
  {
   "cell_type": "code",
   "execution_count": 6,
   "id": "befc85a3",
   "metadata": {},
   "outputs": [],
   "source": [
    "df.drop([\"review_id\",\"user_id\",\"business_id\"], axis=1, inplace=True)"
   ]
  },
  {
   "cell_type": "code",
   "execution_count": 7,
   "id": "838b7a87",
   "metadata": {},
   "outputs": [
    {
     "data": {
      "text/html": [
       "<div>\n",
       "<style scoped>\n",
       "    .dataframe tbody tr th:only-of-type {\n",
       "        vertical-align: middle;\n",
       "    }\n",
       "\n",
       "    .dataframe tbody tr th {\n",
       "        vertical-align: top;\n",
       "    }\n",
       "\n",
       "    .dataframe thead th {\n",
       "        text-align: right;\n",
       "    }\n",
       "</style>\n",
       "<table border=\"1\" class=\"dataframe\">\n",
       "  <thead>\n",
       "    <tr style=\"text-align: right;\">\n",
       "      <th></th>\n",
       "      <th>customer_no</th>\n",
       "      <th>stars</th>\n",
       "      <th>date</th>\n",
       "      <th>text</th>\n",
       "      <th>useful</th>\n",
       "      <th>funny</th>\n",
       "      <th>cool</th>\n",
       "    </tr>\n",
       "  </thead>\n",
       "  <tbody>\n",
       "    <tr>\n",
       "      <th>0</th>\n",
       "      <td>Customer0</td>\n",
       "      <td>5</td>\n",
       "      <td>2007-09-20</td>\n",
       "      <td>I was introduced to this spacious and homey Fi...</td>\n",
       "      <td>5</td>\n",
       "      <td>3</td>\n",
       "      <td>1</td>\n",
       "    </tr>\n",
       "    <tr>\n",
       "      <th>1</th>\n",
       "      <td>Customer1</td>\n",
       "      <td>4</td>\n",
       "      <td>2007-05-07</td>\n",
       "      <td>Another overpriced sushi joint in vegas where ...</td>\n",
       "      <td>1</td>\n",
       "      <td>0</td>\n",
       "      <td>0</td>\n",
       "    </tr>\n",
       "    <tr>\n",
       "      <th>2</th>\n",
       "      <td>Customer2</td>\n",
       "      <td>4</td>\n",
       "      <td>2007-06-18</td>\n",
       "      <td>My classmate opened up this restaurant! \\n\\nTh...</td>\n",
       "      <td>0</td>\n",
       "      <td>0</td>\n",
       "      <td>0</td>\n",
       "    </tr>\n",
       "    <tr>\n",
       "      <th>3</th>\n",
       "      <td>Customer3</td>\n",
       "      <td>4</td>\n",
       "      <td>2007-08-06</td>\n",
       "      <td>Im always a bit skeptical about ridiculously h...</td>\n",
       "      <td>0</td>\n",
       "      <td>0</td>\n",
       "      <td>0</td>\n",
       "    </tr>\n",
       "    <tr>\n",
       "      <th>4</th>\n",
       "      <td>Customer4</td>\n",
       "      <td>4</td>\n",
       "      <td>2007-04-03</td>\n",
       "      <td>I don't know...I really like the MGM Grand Buf...</td>\n",
       "      <td>1</td>\n",
       "      <td>3</td>\n",
       "      <td>4</td>\n",
       "    </tr>\n",
       "    <tr>\n",
       "      <th>...</th>\n",
       "      <td>...</td>\n",
       "      <td>...</td>\n",
       "      <td>...</td>\n",
       "      <td>...</td>\n",
       "      <td>...</td>\n",
       "      <td>...</td>\n",
       "      <td>...</td>\n",
       "    </tr>\n",
       "    <tr>\n",
       "      <th>19995</th>\n",
       "      <td>Customer19995</td>\n",
       "      <td>4</td>\n",
       "      <td>2007-02-07</td>\n",
       "      <td>If you love sushi and martinis this is the pla...</td>\n",
       "      <td>0</td>\n",
       "      <td>0</td>\n",
       "      <td>0</td>\n",
       "    </tr>\n",
       "    <tr>\n",
       "      <th>19996</th>\n",
       "      <td>Customer19996</td>\n",
       "      <td>5</td>\n",
       "      <td>2007-11-11</td>\n",
       "      <td>So what can I say that hasn't already been yel...</td>\n",
       "      <td>3</td>\n",
       "      <td>1</td>\n",
       "      <td>4</td>\n",
       "    </tr>\n",
       "    <tr>\n",
       "      <th>19997</th>\n",
       "      <td>Customer19997</td>\n",
       "      <td>5</td>\n",
       "      <td>2007-12-25</td>\n",
       "      <td>I am the owner and being prejustice here. If y...</td>\n",
       "      <td>0</td>\n",
       "      <td>0</td>\n",
       "      <td>0</td>\n",
       "    </tr>\n",
       "    <tr>\n",
       "      <th>19998</th>\n",
       "      <td>Customer19998</td>\n",
       "      <td>5</td>\n",
       "      <td>2007-11-21</td>\n",
       "      <td>Holy lucky find, Batman!\\n\\nI didn't even know...</td>\n",
       "      <td>3</td>\n",
       "      <td>3</td>\n",
       "      <td>4</td>\n",
       "    </tr>\n",
       "    <tr>\n",
       "      <th>19999</th>\n",
       "      <td>Customer19999</td>\n",
       "      <td>4</td>\n",
       "      <td>2007-06-13</td>\n",
       "      <td>Buca De Beppo is a great place to go with all ...</td>\n",
       "      <td>3</td>\n",
       "      <td>0</td>\n",
       "      <td>0</td>\n",
       "    </tr>\n",
       "  </tbody>\n",
       "</table>\n",
       "<p>20000 rows × 7 columns</p>\n",
       "</div>"
      ],
      "text/plain": [
       "         customer_no  stars        date  \\\n",
       "0          Customer0      5  2007-09-20   \n",
       "1          Customer1      4  2007-05-07   \n",
       "2          Customer2      4  2007-06-18   \n",
       "3          Customer3      4  2007-08-06   \n",
       "4          Customer4      4  2007-04-03   \n",
       "...              ...    ...         ...   \n",
       "19995  Customer19995      4  2007-02-07   \n",
       "19996  Customer19996      5  2007-11-11   \n",
       "19997  Customer19997      5  2007-12-25   \n",
       "19998  Customer19998      5  2007-11-21   \n",
       "19999  Customer19999      4  2007-06-13   \n",
       "\n",
       "                                                    text  useful  funny  cool  \n",
       "0      I was introduced to this spacious and homey Fi...       5      3     1  \n",
       "1      Another overpriced sushi joint in vegas where ...       1      0     0  \n",
       "2      My classmate opened up this restaurant! \\n\\nTh...       0      0     0  \n",
       "3      Im always a bit skeptical about ridiculously h...       0      0     0  \n",
       "4      I don't know...I really like the MGM Grand Buf...       1      3     4  \n",
       "...                                                  ...     ...    ...   ...  \n",
       "19995  If you love sushi and martinis this is the pla...       0      0     0  \n",
       "19996  So what can I say that hasn't already been yel...       3      1     4  \n",
       "19997  I am the owner and being prejustice here. If y...       0      0     0  \n",
       "19998  Holy lucky find, Batman!\\n\\nI didn't even know...       3      3     4  \n",
       "19999  Buca De Beppo is a great place to go with all ...       3      0     0  \n",
       "\n",
       "[20000 rows x 7 columns]"
      ]
     },
     "execution_count": 7,
     "metadata": {},
     "output_type": "execute_result"
    }
   ],
   "source": [
    "df"
   ]
  },
  {
   "cell_type": "code",
   "execution_count": 8,
   "id": "09aa4b49",
   "metadata": {},
   "outputs": [],
   "source": [
    "from langdetect import detect"
   ]
  },
  {
   "cell_type": "code",
   "execution_count": 9,
   "id": "a0026997",
   "metadata": {},
   "outputs": [],
   "source": [
    "for index, row in df['text'].iteritems():\n",
    "    lang = detect(row) #detecting each row\n",
    "    df.loc[index, 'Language'] = lang"
   ]
  },
  {
   "cell_type": "code",
   "execution_count": 10,
   "id": "6828dd93",
   "metadata": {},
   "outputs": [
    {
     "data": {
      "text/html": [
       "<div>\n",
       "<style scoped>\n",
       "    .dataframe tbody tr th:only-of-type {\n",
       "        vertical-align: middle;\n",
       "    }\n",
       "\n",
       "    .dataframe tbody tr th {\n",
       "        vertical-align: top;\n",
       "    }\n",
       "\n",
       "    .dataframe thead th {\n",
       "        text-align: right;\n",
       "    }\n",
       "</style>\n",
       "<table border=\"1\" class=\"dataframe\">\n",
       "  <thead>\n",
       "    <tr style=\"text-align: right;\">\n",
       "      <th></th>\n",
       "      <th>Language</th>\n",
       "    </tr>\n",
       "  </thead>\n",
       "  <tbody>\n",
       "    <tr>\n",
       "      <th>en</th>\n",
       "      <td>19154</td>\n",
       "    </tr>\n",
       "    <tr>\n",
       "      <th>de</th>\n",
       "      <td>831</td>\n",
       "    </tr>\n",
       "    <tr>\n",
       "      <th>fr</th>\n",
       "      <td>9</td>\n",
       "    </tr>\n",
       "    <tr>\n",
       "      <th>da</th>\n",
       "      <td>3</td>\n",
       "    </tr>\n",
       "    <tr>\n",
       "      <th>it</th>\n",
       "      <td>1</td>\n",
       "    </tr>\n",
       "    <tr>\n",
       "      <th>af</th>\n",
       "      <td>1</td>\n",
       "    </tr>\n",
       "    <tr>\n",
       "      <th>no</th>\n",
       "      <td>1</td>\n",
       "    </tr>\n",
       "  </tbody>\n",
       "</table>\n",
       "</div>"
      ],
      "text/plain": [
       "    Language\n",
       "en     19154\n",
       "de       831\n",
       "fr         9\n",
       "da         3\n",
       "it         1\n",
       "af         1\n",
       "no         1"
      ]
     },
     "execution_count": 10,
     "metadata": {},
     "output_type": "execute_result"
    }
   ],
   "source": [
    "pd.DataFrame(df.Language.value_counts())"
   ]
  },
  {
   "cell_type": "code",
   "execution_count": 11,
   "id": "a3da9d07",
   "metadata": {},
   "outputs": [
    {
     "data": {
      "text/html": [
       "<div>\n",
       "<style scoped>\n",
       "    .dataframe tbody tr th:only-of-type {\n",
       "        vertical-align: middle;\n",
       "    }\n",
       "\n",
       "    .dataframe tbody tr th {\n",
       "        vertical-align: top;\n",
       "    }\n",
       "\n",
       "    .dataframe thead th {\n",
       "        text-align: right;\n",
       "    }\n",
       "</style>\n",
       "<table border=\"1\" class=\"dataframe\">\n",
       "  <thead>\n",
       "    <tr style=\"text-align: right;\">\n",
       "      <th></th>\n",
       "      <th>customer_no</th>\n",
       "      <th>stars</th>\n",
       "      <th>date</th>\n",
       "      <th>text</th>\n",
       "      <th>useful</th>\n",
       "      <th>funny</th>\n",
       "      <th>cool</th>\n",
       "      <th>Language</th>\n",
       "    </tr>\n",
       "  </thead>\n",
       "  <tbody>\n",
       "    <tr>\n",
       "      <th>0</th>\n",
       "      <td>Customer0</td>\n",
       "      <td>5</td>\n",
       "      <td>2007-09-20</td>\n",
       "      <td>I was introduced to this spacious and homey Fi...</td>\n",
       "      <td>5</td>\n",
       "      <td>3</td>\n",
       "      <td>1</td>\n",
       "      <td>en</td>\n",
       "    </tr>\n",
       "    <tr>\n",
       "      <th>1</th>\n",
       "      <td>Customer1</td>\n",
       "      <td>4</td>\n",
       "      <td>2007-05-07</td>\n",
       "      <td>Another overpriced sushi joint in vegas where ...</td>\n",
       "      <td>1</td>\n",
       "      <td>0</td>\n",
       "      <td>0</td>\n",
       "      <td>en</td>\n",
       "    </tr>\n",
       "    <tr>\n",
       "      <th>2</th>\n",
       "      <td>Customer2</td>\n",
       "      <td>4</td>\n",
       "      <td>2007-06-18</td>\n",
       "      <td>My classmate opened up this restaurant! \\n\\nTh...</td>\n",
       "      <td>0</td>\n",
       "      <td>0</td>\n",
       "      <td>0</td>\n",
       "      <td>en</td>\n",
       "    </tr>\n",
       "    <tr>\n",
       "      <th>3</th>\n",
       "      <td>Customer3</td>\n",
       "      <td>4</td>\n",
       "      <td>2007-08-06</td>\n",
       "      <td>Im always a bit skeptical about ridiculously h...</td>\n",
       "      <td>0</td>\n",
       "      <td>0</td>\n",
       "      <td>0</td>\n",
       "      <td>en</td>\n",
       "    </tr>\n",
       "    <tr>\n",
       "      <th>4</th>\n",
       "      <td>Customer4</td>\n",
       "      <td>4</td>\n",
       "      <td>2007-04-03</td>\n",
       "      <td>I don't know...I really like the MGM Grand Buf...</td>\n",
       "      <td>1</td>\n",
       "      <td>3</td>\n",
       "      <td>4</td>\n",
       "      <td>en</td>\n",
       "    </tr>\n",
       "    <tr>\n",
       "      <th>...</th>\n",
       "      <td>...</td>\n",
       "      <td>...</td>\n",
       "      <td>...</td>\n",
       "      <td>...</td>\n",
       "      <td>...</td>\n",
       "      <td>...</td>\n",
       "      <td>...</td>\n",
       "      <td>...</td>\n",
       "    </tr>\n",
       "    <tr>\n",
       "      <th>19995</th>\n",
       "      <td>Customer19995</td>\n",
       "      <td>4</td>\n",
       "      <td>2007-02-07</td>\n",
       "      <td>If you love sushi and martinis this is the pla...</td>\n",
       "      <td>0</td>\n",
       "      <td>0</td>\n",
       "      <td>0</td>\n",
       "      <td>en</td>\n",
       "    </tr>\n",
       "    <tr>\n",
       "      <th>19996</th>\n",
       "      <td>Customer19996</td>\n",
       "      <td>5</td>\n",
       "      <td>2007-11-11</td>\n",
       "      <td>So what can I say that hasn't already been yel...</td>\n",
       "      <td>3</td>\n",
       "      <td>1</td>\n",
       "      <td>4</td>\n",
       "      <td>en</td>\n",
       "    </tr>\n",
       "    <tr>\n",
       "      <th>19997</th>\n",
       "      <td>Customer19997</td>\n",
       "      <td>5</td>\n",
       "      <td>2007-12-25</td>\n",
       "      <td>I am the owner and being prejustice here. If y...</td>\n",
       "      <td>0</td>\n",
       "      <td>0</td>\n",
       "      <td>0</td>\n",
       "      <td>en</td>\n",
       "    </tr>\n",
       "    <tr>\n",
       "      <th>19998</th>\n",
       "      <td>Customer19998</td>\n",
       "      <td>5</td>\n",
       "      <td>2007-11-21</td>\n",
       "      <td>Holy lucky find, Batman!\\n\\nI didn't even know...</td>\n",
       "      <td>3</td>\n",
       "      <td>3</td>\n",
       "      <td>4</td>\n",
       "      <td>en</td>\n",
       "    </tr>\n",
       "    <tr>\n",
       "      <th>19999</th>\n",
       "      <td>Customer19999</td>\n",
       "      <td>4</td>\n",
       "      <td>2007-06-13</td>\n",
       "      <td>Buca De Beppo is a great place to go with all ...</td>\n",
       "      <td>3</td>\n",
       "      <td>0</td>\n",
       "      <td>0</td>\n",
       "      <td>en</td>\n",
       "    </tr>\n",
       "  </tbody>\n",
       "</table>\n",
       "<p>19154 rows × 8 columns</p>\n",
       "</div>"
      ],
      "text/plain": [
       "         customer_no  stars        date  \\\n",
       "0          Customer0      5  2007-09-20   \n",
       "1          Customer1      4  2007-05-07   \n",
       "2          Customer2      4  2007-06-18   \n",
       "3          Customer3      4  2007-08-06   \n",
       "4          Customer4      4  2007-04-03   \n",
       "...              ...    ...         ...   \n",
       "19995  Customer19995      4  2007-02-07   \n",
       "19996  Customer19996      5  2007-11-11   \n",
       "19997  Customer19997      5  2007-12-25   \n",
       "19998  Customer19998      5  2007-11-21   \n",
       "19999  Customer19999      4  2007-06-13   \n",
       "\n",
       "                                                    text  useful  funny  cool  \\\n",
       "0      I was introduced to this spacious and homey Fi...       5      3     1   \n",
       "1      Another overpriced sushi joint in vegas where ...       1      0     0   \n",
       "2      My classmate opened up this restaurant! \\n\\nTh...       0      0     0   \n",
       "3      Im always a bit skeptical about ridiculously h...       0      0     0   \n",
       "4      I don't know...I really like the MGM Grand Buf...       1      3     4   \n",
       "...                                                  ...     ...    ...   ...   \n",
       "19995  If you love sushi and martinis this is the pla...       0      0     0   \n",
       "19996  So what can I say that hasn't already been yel...       3      1     4   \n",
       "19997  I am the owner and being prejustice here. If y...       0      0     0   \n",
       "19998  Holy lucky find, Batman!\\n\\nI didn't even know...       3      3     4   \n",
       "19999  Buca De Beppo is a great place to go with all ...       3      0     0   \n",
       "\n",
       "      Language  \n",
       "0           en  \n",
       "1           en  \n",
       "2           en  \n",
       "3           en  \n",
       "4           en  \n",
       "...        ...  \n",
       "19995       en  \n",
       "19996       en  \n",
       "19997       en  \n",
       "19998       en  \n",
       "19999       en  \n",
       "\n",
       "[19154 rows x 8 columns]"
      ]
     },
     "execution_count": 11,
     "metadata": {},
     "output_type": "execute_result"
    }
   ],
   "source": [
    "df = df[df[\"Language\"]==\"en\"]\n",
    "df"
   ]
  },
  {
   "cell_type": "code",
   "execution_count": 12,
   "id": "ff3200ce",
   "metadata": {},
   "outputs": [],
   "source": [
    "df[\"date\"] = pd.to_datetime(df[\"date\"], format=\"%Y-%m-%d\")"
   ]
  },
  {
   "cell_type": "code",
   "execution_count": 13,
   "id": "fcb46009",
   "metadata": {},
   "outputs": [
    {
     "name": "stdout",
     "output_type": "stream",
     "text": [
      "<class 'pandas.core.frame.DataFrame'>\n",
      "Int64Index: 19154 entries, 0 to 19999\n",
      "Data columns (total 8 columns):\n",
      " #   Column       Non-Null Count  Dtype         \n",
      "---  ------       --------------  -----         \n",
      " 0   customer_no  19154 non-null  object        \n",
      " 1   stars        19154 non-null  int64         \n",
      " 2   date         19154 non-null  datetime64[ns]\n",
      " 3   text         19154 non-null  object        \n",
      " 4   useful       19154 non-null  int64         \n",
      " 5   funny        19154 non-null  int64         \n",
      " 6   cool         19154 non-null  int64         \n",
      " 7   Language     19154 non-null  object        \n",
      "dtypes: datetime64[ns](1), int64(4), object(3)\n",
      "memory usage: 1.3+ MB\n"
     ]
    }
   ],
   "source": [
    "df.info()"
   ]
  },
  {
   "cell_type": "code",
   "execution_count": 14,
   "id": "51d85434",
   "metadata": {},
   "outputs": [
    {
     "data": {
      "text/plain": [
       "count                   19154\n",
       "unique                    365\n",
       "top       2007-11-08 00:00:00\n",
       "freq                      113\n",
       "first     2007-01-01 00:00:00\n",
       "last      2007-12-31 00:00:00\n",
       "Name: date, dtype: object"
      ]
     },
     "execution_count": 14,
     "metadata": {},
     "output_type": "execute_result"
    }
   ],
   "source": [
    "df[\"date\"].describe()"
   ]
  },
  {
   "cell_type": "code",
   "execution_count": 15,
   "id": "42d4b831",
   "metadata": {},
   "outputs": [],
   "source": [
    "#df.to_csv(\"E:/Desktop/yelp_new.csv\", index=False)"
   ]
  },
  {
   "cell_type": "code",
   "execution_count": 16,
   "id": "9f9b87be",
   "metadata": {},
   "outputs": [
    {
     "name": "stdout",
     "output_type": "stream",
     "text": [
      "<class 'pandas.core.frame.DataFrame'>\n",
      "Int64Index: 19154 entries, 0 to 19999\n",
      "Data columns (total 8 columns):\n",
      " #   Column       Non-Null Count  Dtype         \n",
      "---  ------       --------------  -----         \n",
      " 0   customer_no  19154 non-null  object        \n",
      " 1   stars        19154 non-null  int64         \n",
      " 2   date         19154 non-null  datetime64[ns]\n",
      " 3   text         19154 non-null  object        \n",
      " 4   useful       19154 non-null  int64         \n",
      " 5   funny        19154 non-null  int64         \n",
      " 6   cool         19154 non-null  int64         \n",
      " 7   Language     19154 non-null  object        \n",
      "dtypes: datetime64[ns](1), int64(4), object(3)\n",
      "memory usage: 1.3+ MB\n"
     ]
    }
   ],
   "source": [
    "df.info()"
   ]
  },
  {
   "cell_type": "code",
   "execution_count": 17,
   "id": "a86dc385",
   "metadata": {},
   "outputs": [
    {
     "data": {
      "text/plain": [
       "4    7070\n",
       "5    5949\n",
       "3    3670\n",
       "2    1525\n",
       "1     940\n",
       "Name: stars, dtype: int64"
      ]
     },
     "execution_count": 17,
     "metadata": {},
     "output_type": "execute_result"
    }
   ],
   "source": [
    "df[\"stars\"].value_counts()"
   ]
  },
  {
   "cell_type": "code",
   "execution_count": 18,
   "id": "baee20ec",
   "metadata": {},
   "outputs": [
    {
     "data": {
      "text/plain": [
       "Text(0.5, 1.0, 'Star Distribution of The Comments')"
      ]
     },
     "execution_count": 18,
     "metadata": {},
     "output_type": "execute_result"
    },
    {
     "data": {
      "image/png": "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\n",
      "text/plain": [
       "<Figure size 1080x720 with 1 Axes>"
      ]
     },
     "metadata": {},
     "output_type": "display_data"
    }
   ],
   "source": [
    "plt.figure(figsize = [15, 10])\n",
    "label = '5 Star', '4 Star', '3 Star', '2 Star','1 Star'\n",
    "star_count = [5950, 7069, 3671, 1525, 940]\n",
    "plt.pie(star_count, labels=label, autopct='%1.1f%%', startangle=90)\n",
    "plt.title(\"Star Distribution of The Comments\", c=\"red\", fontsize=15)\n",
    "#plt.savefig('E:/Desktop/ITU/DATA_SCIENCE_ACADEMY/Project4/StarDistributionofComments1.png', dpi=200)"
   ]
  },
  {
   "cell_type": "code",
   "execution_count": 19,
   "id": "5106c728",
   "metadata": {},
   "outputs": [],
   "source": [
    "import re\n",
    "import string"
   ]
  },
  {
   "cell_type": "code",
   "execution_count": 20,
   "id": "f526801b",
   "metadata": {},
   "outputs": [],
   "source": [
    "df[\"text\"] = df[\"text\"].apply(lambda x: re.sub(\"[%s]\" % re.escape(string.punctuation), \" \",x.lower())) # Remove punctuations and lower\n",
    "df[\"text\"] = df[\"text\"].apply(lambda x: re.sub(\"\\w*\\d\\w*\", \" \",x)) # Remove numbers\n",
    "df[\"text\"] = df[\"text\"].apply(lambda x: re.sub(\"\\n\",\" \",x)) # Remove \\n"
   ]
  },
  {
   "cell_type": "code",
   "execution_count": 21,
   "id": "e44f59e9",
   "metadata": {},
   "outputs": [
    {
     "data": {
      "text/plain": [
       "0        i was introduced to this spacious and homey fi...\n",
       "1        another overpriced sushi joint in vegas where ...\n",
       "2        my classmate opened up this restaurant    the ...\n",
       "3        im always a bit skeptical about ridiculously h...\n",
       "4        i don t know   i really like the mgm grand buf...\n",
       "                               ...                        \n",
       "19995    if you love sushi and martinis this is the pla...\n",
       "19996    so what can i say that hasn t already been yel...\n",
       "19997    i am the owner and being prejustice here  if y...\n",
       "19998    holy lucky find  batman   i didn t even know t...\n",
       "19999    buca de beppo is a great place to go with all ...\n",
       "Name: text, Length: 19154, dtype: object"
      ]
     },
     "execution_count": 21,
     "metadata": {},
     "output_type": "execute_result"
    }
   ],
   "source": [
    "df[\"text\"]"
   ]
  },
  {
   "cell_type": "code",
   "execution_count": 22,
   "id": "5cd4890f",
   "metadata": {},
   "outputs": [
    {
     "data": {
      "text/html": [
       "<div>\n",
       "<style scoped>\n",
       "    .dataframe tbody tr th:only-of-type {\n",
       "        vertical-align: middle;\n",
       "    }\n",
       "\n",
       "    .dataframe tbody tr th {\n",
       "        vertical-align: top;\n",
       "    }\n",
       "\n",
       "    .dataframe thead th {\n",
       "        text-align: right;\n",
       "    }\n",
       "</style>\n",
       "<table border=\"1\" class=\"dataframe\">\n",
       "  <thead>\n",
       "    <tr style=\"text-align: right;\">\n",
       "      <th></th>\n",
       "      <th>customer_no</th>\n",
       "      <th>stars</th>\n",
       "      <th>date</th>\n",
       "      <th>text</th>\n",
       "      <th>useful</th>\n",
       "      <th>funny</th>\n",
       "      <th>cool</th>\n",
       "      <th>Language</th>\n",
       "    </tr>\n",
       "  </thead>\n",
       "  <tbody>\n",
       "    <tr>\n",
       "      <th>0</th>\n",
       "      <td>Customer0</td>\n",
       "      <td>5</td>\n",
       "      <td>2007-09-20</td>\n",
       "      <td>i was introduced to this spacious and homey fi...</td>\n",
       "      <td>5</td>\n",
       "      <td>3</td>\n",
       "      <td>1</td>\n",
       "      <td>en</td>\n",
       "    </tr>\n",
       "    <tr>\n",
       "      <th>1</th>\n",
       "      <td>Customer1</td>\n",
       "      <td>4</td>\n",
       "      <td>2007-05-07</td>\n",
       "      <td>another overpriced sushi joint in vegas where ...</td>\n",
       "      <td>1</td>\n",
       "      <td>0</td>\n",
       "      <td>0</td>\n",
       "      <td>en</td>\n",
       "    </tr>\n",
       "    <tr>\n",
       "      <th>2</th>\n",
       "      <td>Customer2</td>\n",
       "      <td>4</td>\n",
       "      <td>2007-06-18</td>\n",
       "      <td>my classmate opened up this restaurant    the ...</td>\n",
       "      <td>0</td>\n",
       "      <td>0</td>\n",
       "      <td>0</td>\n",
       "      <td>en</td>\n",
       "    </tr>\n",
       "    <tr>\n",
       "      <th>3</th>\n",
       "      <td>Customer3</td>\n",
       "      <td>4</td>\n",
       "      <td>2007-08-06</td>\n",
       "      <td>im always a bit skeptical about ridiculously h...</td>\n",
       "      <td>0</td>\n",
       "      <td>0</td>\n",
       "      <td>0</td>\n",
       "      <td>en</td>\n",
       "    </tr>\n",
       "    <tr>\n",
       "      <th>4</th>\n",
       "      <td>Customer4</td>\n",
       "      <td>4</td>\n",
       "      <td>2007-04-03</td>\n",
       "      <td>i don t know   i really like the mgm grand buf...</td>\n",
       "      <td>1</td>\n",
       "      <td>3</td>\n",
       "      <td>4</td>\n",
       "      <td>en</td>\n",
       "    </tr>\n",
       "    <tr>\n",
       "      <th>...</th>\n",
       "      <td>...</td>\n",
       "      <td>...</td>\n",
       "      <td>...</td>\n",
       "      <td>...</td>\n",
       "      <td>...</td>\n",
       "      <td>...</td>\n",
       "      <td>...</td>\n",
       "      <td>...</td>\n",
       "    </tr>\n",
       "    <tr>\n",
       "      <th>19995</th>\n",
       "      <td>Customer19995</td>\n",
       "      <td>4</td>\n",
       "      <td>2007-02-07</td>\n",
       "      <td>if you love sushi and martinis this is the pla...</td>\n",
       "      <td>0</td>\n",
       "      <td>0</td>\n",
       "      <td>0</td>\n",
       "      <td>en</td>\n",
       "    </tr>\n",
       "    <tr>\n",
       "      <th>19996</th>\n",
       "      <td>Customer19996</td>\n",
       "      <td>5</td>\n",
       "      <td>2007-11-11</td>\n",
       "      <td>so what can i say that hasn t already been yel...</td>\n",
       "      <td>3</td>\n",
       "      <td>1</td>\n",
       "      <td>4</td>\n",
       "      <td>en</td>\n",
       "    </tr>\n",
       "    <tr>\n",
       "      <th>19997</th>\n",
       "      <td>Customer19997</td>\n",
       "      <td>5</td>\n",
       "      <td>2007-12-25</td>\n",
       "      <td>i am the owner and being prejustice here  if y...</td>\n",
       "      <td>0</td>\n",
       "      <td>0</td>\n",
       "      <td>0</td>\n",
       "      <td>en</td>\n",
       "    </tr>\n",
       "    <tr>\n",
       "      <th>19998</th>\n",
       "      <td>Customer19998</td>\n",
       "      <td>5</td>\n",
       "      <td>2007-11-21</td>\n",
       "      <td>holy lucky find  batman   i didn t even know t...</td>\n",
       "      <td>3</td>\n",
       "      <td>3</td>\n",
       "      <td>4</td>\n",
       "      <td>en</td>\n",
       "    </tr>\n",
       "    <tr>\n",
       "      <th>19999</th>\n",
       "      <td>Customer19999</td>\n",
       "      <td>4</td>\n",
       "      <td>2007-06-13</td>\n",
       "      <td>buca de beppo is a great place to go with all ...</td>\n",
       "      <td>3</td>\n",
       "      <td>0</td>\n",
       "      <td>0</td>\n",
       "      <td>en</td>\n",
       "    </tr>\n",
       "  </tbody>\n",
       "</table>\n",
       "<p>19154 rows × 8 columns</p>\n",
       "</div>"
      ],
      "text/plain": [
       "         customer_no  stars       date  \\\n",
       "0          Customer0      5 2007-09-20   \n",
       "1          Customer1      4 2007-05-07   \n",
       "2          Customer2      4 2007-06-18   \n",
       "3          Customer3      4 2007-08-06   \n",
       "4          Customer4      4 2007-04-03   \n",
       "...              ...    ...        ...   \n",
       "19995  Customer19995      4 2007-02-07   \n",
       "19996  Customer19996      5 2007-11-11   \n",
       "19997  Customer19997      5 2007-12-25   \n",
       "19998  Customer19998      5 2007-11-21   \n",
       "19999  Customer19999      4 2007-06-13   \n",
       "\n",
       "                                                    text  useful  funny  cool  \\\n",
       "0      i was introduced to this spacious and homey fi...       5      3     1   \n",
       "1      another overpriced sushi joint in vegas where ...       1      0     0   \n",
       "2      my classmate opened up this restaurant    the ...       0      0     0   \n",
       "3      im always a bit skeptical about ridiculously h...       0      0     0   \n",
       "4      i don t know   i really like the mgm grand buf...       1      3     4   \n",
       "...                                                  ...     ...    ...   ...   \n",
       "19995  if you love sushi and martinis this is the pla...       0      0     0   \n",
       "19996  so what can i say that hasn t already been yel...       3      1     4   \n",
       "19997  i am the owner and being prejustice here  if y...       0      0     0   \n",
       "19998  holy lucky find  batman   i didn t even know t...       3      3     4   \n",
       "19999  buca de beppo is a great place to go with all ...       3      0     0   \n",
       "\n",
       "      Language  \n",
       "0           en  \n",
       "1           en  \n",
       "2           en  \n",
       "3           en  \n",
       "4           en  \n",
       "...        ...  \n",
       "19995       en  \n",
       "19996       en  \n",
       "19997       en  \n",
       "19998       en  \n",
       "19999       en  \n",
       "\n",
       "[19154 rows x 8 columns]"
      ]
     },
     "execution_count": 22,
     "metadata": {},
     "output_type": "execute_result"
    }
   ],
   "source": [
    "df"
   ]
  },
  {
   "cell_type": "code",
   "execution_count": 29,
   "id": "7542e40e",
   "metadata": {},
   "outputs": [],
   "source": [
    "def sentiment(star):\n",
    "    if star >= 4:\n",
    "        return \"Positive\"\n",
    "    elif star == 3:\n",
    "        return \"Neutral\"\n",
    "    else:\n",
    "        return \"Negative\""
   ]
  },
  {
   "cell_type": "code",
   "execution_count": 32,
   "id": "02f9dece",
   "metadata": {},
   "outputs": [],
   "source": [
    "df[\"sentiment\"] = df[\"stars\"].apply(sentiment)"
   ]
  },
  {
   "cell_type": "code",
   "execution_count": 33,
   "id": "5b4fdbeb",
   "metadata": {},
   "outputs": [
    {
     "data": {
      "text/html": [
       "<div>\n",
       "<style scoped>\n",
       "    .dataframe tbody tr th:only-of-type {\n",
       "        vertical-align: middle;\n",
       "    }\n",
       "\n",
       "    .dataframe tbody tr th {\n",
       "        vertical-align: top;\n",
       "    }\n",
       "\n",
       "    .dataframe thead th {\n",
       "        text-align: right;\n",
       "    }\n",
       "</style>\n",
       "<table border=\"1\" class=\"dataframe\">\n",
       "  <thead>\n",
       "    <tr style=\"text-align: right;\">\n",
       "      <th></th>\n",
       "      <th>customer_no</th>\n",
       "      <th>stars</th>\n",
       "      <th>date</th>\n",
       "      <th>text</th>\n",
       "      <th>useful</th>\n",
       "      <th>funny</th>\n",
       "      <th>cool</th>\n",
       "      <th>Language</th>\n",
       "      <th>sentiment</th>\n",
       "    </tr>\n",
       "  </thead>\n",
       "  <tbody>\n",
       "    <tr>\n",
       "      <th>0</th>\n",
       "      <td>Customer0</td>\n",
       "      <td>5</td>\n",
       "      <td>2007-09-20</td>\n",
       "      <td>i was introduced to this spacious and homey fi...</td>\n",
       "      <td>5</td>\n",
       "      <td>3</td>\n",
       "      <td>1</td>\n",
       "      <td>en</td>\n",
       "      <td>Positive</td>\n",
       "    </tr>\n",
       "    <tr>\n",
       "      <th>1</th>\n",
       "      <td>Customer1</td>\n",
       "      <td>4</td>\n",
       "      <td>2007-05-07</td>\n",
       "      <td>another overpriced sushi joint in vegas where ...</td>\n",
       "      <td>1</td>\n",
       "      <td>0</td>\n",
       "      <td>0</td>\n",
       "      <td>en</td>\n",
       "      <td>Positive</td>\n",
       "    </tr>\n",
       "    <tr>\n",
       "      <th>2</th>\n",
       "      <td>Customer2</td>\n",
       "      <td>4</td>\n",
       "      <td>2007-06-18</td>\n",
       "      <td>my classmate opened up this restaurant    the ...</td>\n",
       "      <td>0</td>\n",
       "      <td>0</td>\n",
       "      <td>0</td>\n",
       "      <td>en</td>\n",
       "      <td>Positive</td>\n",
       "    </tr>\n",
       "    <tr>\n",
       "      <th>3</th>\n",
       "      <td>Customer3</td>\n",
       "      <td>4</td>\n",
       "      <td>2007-08-06</td>\n",
       "      <td>im always a bit skeptical about ridiculously h...</td>\n",
       "      <td>0</td>\n",
       "      <td>0</td>\n",
       "      <td>0</td>\n",
       "      <td>en</td>\n",
       "      <td>Positive</td>\n",
       "    </tr>\n",
       "    <tr>\n",
       "      <th>4</th>\n",
       "      <td>Customer4</td>\n",
       "      <td>4</td>\n",
       "      <td>2007-04-03</td>\n",
       "      <td>i don t know   i really like the mgm grand buf...</td>\n",
       "      <td>1</td>\n",
       "      <td>3</td>\n",
       "      <td>4</td>\n",
       "      <td>en</td>\n",
       "      <td>Positive</td>\n",
       "    </tr>\n",
       "    <tr>\n",
       "      <th>...</th>\n",
       "      <td>...</td>\n",
       "      <td>...</td>\n",
       "      <td>...</td>\n",
       "      <td>...</td>\n",
       "      <td>...</td>\n",
       "      <td>...</td>\n",
       "      <td>...</td>\n",
       "      <td>...</td>\n",
       "      <td>...</td>\n",
       "    </tr>\n",
       "    <tr>\n",
       "      <th>19995</th>\n",
       "      <td>Customer19995</td>\n",
       "      <td>4</td>\n",
       "      <td>2007-02-07</td>\n",
       "      <td>if you love sushi and martinis this is the pla...</td>\n",
       "      <td>0</td>\n",
       "      <td>0</td>\n",
       "      <td>0</td>\n",
       "      <td>en</td>\n",
       "      <td>Positive</td>\n",
       "    </tr>\n",
       "    <tr>\n",
       "      <th>19996</th>\n",
       "      <td>Customer19996</td>\n",
       "      <td>5</td>\n",
       "      <td>2007-11-11</td>\n",
       "      <td>so what can i say that hasn t already been yel...</td>\n",
       "      <td>3</td>\n",
       "      <td>1</td>\n",
       "      <td>4</td>\n",
       "      <td>en</td>\n",
       "      <td>Positive</td>\n",
       "    </tr>\n",
       "    <tr>\n",
       "      <th>19997</th>\n",
       "      <td>Customer19997</td>\n",
       "      <td>5</td>\n",
       "      <td>2007-12-25</td>\n",
       "      <td>i am the owner and being prejustice here  if y...</td>\n",
       "      <td>0</td>\n",
       "      <td>0</td>\n",
       "      <td>0</td>\n",
       "      <td>en</td>\n",
       "      <td>Positive</td>\n",
       "    </tr>\n",
       "    <tr>\n",
       "      <th>19998</th>\n",
       "      <td>Customer19998</td>\n",
       "      <td>5</td>\n",
       "      <td>2007-11-21</td>\n",
       "      <td>holy lucky find  batman   i didn t even know t...</td>\n",
       "      <td>3</td>\n",
       "      <td>3</td>\n",
       "      <td>4</td>\n",
       "      <td>en</td>\n",
       "      <td>Positive</td>\n",
       "    </tr>\n",
       "    <tr>\n",
       "      <th>19999</th>\n",
       "      <td>Customer19999</td>\n",
       "      <td>4</td>\n",
       "      <td>2007-06-13</td>\n",
       "      <td>buca de beppo is a great place to go with all ...</td>\n",
       "      <td>3</td>\n",
       "      <td>0</td>\n",
       "      <td>0</td>\n",
       "      <td>en</td>\n",
       "      <td>Positive</td>\n",
       "    </tr>\n",
       "  </tbody>\n",
       "</table>\n",
       "<p>19154 rows × 9 columns</p>\n",
       "</div>"
      ],
      "text/plain": [
       "         customer_no  stars       date  \\\n",
       "0          Customer0      5 2007-09-20   \n",
       "1          Customer1      4 2007-05-07   \n",
       "2          Customer2      4 2007-06-18   \n",
       "3          Customer3      4 2007-08-06   \n",
       "4          Customer4      4 2007-04-03   \n",
       "...              ...    ...        ...   \n",
       "19995  Customer19995      4 2007-02-07   \n",
       "19996  Customer19996      5 2007-11-11   \n",
       "19997  Customer19997      5 2007-12-25   \n",
       "19998  Customer19998      5 2007-11-21   \n",
       "19999  Customer19999      4 2007-06-13   \n",
       "\n",
       "                                                    text  useful  funny  cool  \\\n",
       "0      i was introduced to this spacious and homey fi...       5      3     1   \n",
       "1      another overpriced sushi joint in vegas where ...       1      0     0   \n",
       "2      my classmate opened up this restaurant    the ...       0      0     0   \n",
       "3      im always a bit skeptical about ridiculously h...       0      0     0   \n",
       "4      i don t know   i really like the mgm grand buf...       1      3     4   \n",
       "...                                                  ...     ...    ...   ...   \n",
       "19995  if you love sushi and martinis this is the pla...       0      0     0   \n",
       "19996  so what can i say that hasn t already been yel...       3      1     4   \n",
       "19997  i am the owner and being prejustice here  if y...       0      0     0   \n",
       "19998  holy lucky find  batman   i didn t even know t...       3      3     4   \n",
       "19999  buca de beppo is a great place to go with all ...       3      0     0   \n",
       "\n",
       "      Language sentiment  \n",
       "0           en  Positive  \n",
       "1           en  Positive  \n",
       "2           en  Positive  \n",
       "3           en  Positive  \n",
       "4           en  Positive  \n",
       "...        ...       ...  \n",
       "19995       en  Positive  \n",
       "19996       en  Positive  \n",
       "19997       en  Positive  \n",
       "19998       en  Positive  \n",
       "19999       en  Positive  \n",
       "\n",
       "[19154 rows x 9 columns]"
      ]
     },
     "execution_count": 33,
     "metadata": {},
     "output_type": "execute_result"
    }
   ],
   "source": [
    "df"
   ]
  },
  {
   "cell_type": "code",
   "execution_count": 34,
   "id": "fc356215",
   "metadata": {},
   "outputs": [
    {
     "data": {
      "text/plain": [
       "Positive    13019\n",
       "Neutral      3670\n",
       "Negative     2465\n",
       "Name: sentiment, dtype: int64"
      ]
     },
     "execution_count": 34,
     "metadata": {},
     "output_type": "execute_result"
    }
   ],
   "source": [
    "df.sentiment.value_counts()"
   ]
  },
  {
   "cell_type": "code",
   "execution_count": 35,
   "id": "a8fc9e92",
   "metadata": {},
   "outputs": [
    {
     "data": {
      "text/plain": [
       "4    7070\n",
       "5    5949\n",
       "3    3670\n",
       "2    1525\n",
       "1     940\n",
       "Name: stars, dtype: int64"
      ]
     },
     "execution_count": 35,
     "metadata": {},
     "output_type": "execute_result"
    }
   ],
   "source": [
    "df.stars.value_counts()"
   ]
  },
  {
   "cell_type": "code",
   "execution_count": 36,
   "id": "6f988f4c",
   "metadata": {},
   "outputs": [
    {
     "data": {
      "text/html": [
       "<div>\n",
       "<style scoped>\n",
       "    .dataframe tbody tr th:only-of-type {\n",
       "        vertical-align: middle;\n",
       "    }\n",
       "\n",
       "    .dataframe tbody tr th {\n",
       "        vertical-align: top;\n",
       "    }\n",
       "\n",
       "    .dataframe thead th {\n",
       "        text-align: right;\n",
       "    }\n",
       "</style>\n",
       "<table border=\"1\" class=\"dataframe\">\n",
       "  <thead>\n",
       "    <tr style=\"text-align: right;\">\n",
       "      <th></th>\n",
       "      <th>useful</th>\n",
       "      <th>funny</th>\n",
       "      <th>cool</th>\n",
       "    </tr>\n",
       "    <tr>\n",
       "      <th>stars</th>\n",
       "      <th></th>\n",
       "      <th></th>\n",
       "      <th></th>\n",
       "    </tr>\n",
       "  </thead>\n",
       "  <tbody>\n",
       "    <tr>\n",
       "      <th>1</th>\n",
       "      <td>3.032979</td>\n",
       "      <td>1.993617</td>\n",
       "      <td>1.015957</td>\n",
       "    </tr>\n",
       "    <tr>\n",
       "      <th>2</th>\n",
       "      <td>2.203934</td>\n",
       "      <td>1.649180</td>\n",
       "      <td>1.087869</td>\n",
       "    </tr>\n",
       "    <tr>\n",
       "      <th>3</th>\n",
       "      <td>1.566485</td>\n",
       "      <td>1.082561</td>\n",
       "      <td>1.017711</td>\n",
       "    </tr>\n",
       "    <tr>\n",
       "      <th>4</th>\n",
       "      <td>1.632956</td>\n",
       "      <td>0.825601</td>\n",
       "      <td>1.179774</td>\n",
       "    </tr>\n",
       "    <tr>\n",
       "      <th>5</th>\n",
       "      <td>2.001009</td>\n",
       "      <td>0.892419</td>\n",
       "      <td>1.418894</td>\n",
       "    </tr>\n",
       "  </tbody>\n",
       "</table>\n",
       "</div>"
      ],
      "text/plain": [
       "         useful     funny      cool\n",
       "stars                              \n",
       "1      3.032979  1.993617  1.015957\n",
       "2      2.203934  1.649180  1.087869\n",
       "3      1.566485  1.082561  1.017711\n",
       "4      1.632956  0.825601  1.179774\n",
       "5      2.001009  0.892419  1.418894"
      ]
     },
     "execution_count": 36,
     "metadata": {},
     "output_type": "execute_result"
    }
   ],
   "source": [
    "df.groupby(\"stars\").mean()"
   ]
  },
  {
   "cell_type": "code",
   "execution_count": 42,
   "id": "8af1caf0",
   "metadata": {},
   "outputs": [
    {
     "data": {
      "image/png": "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\n",
      "text/plain": [
       "<Figure size 1080x720 with 1 Axes>"
      ]
     },
     "metadata": {},
     "output_type": "display_data"
    }
   ],
   "source": [
    "plt.figure(figsize = [15, 10])\n",
    "label = 'Positive', 'Neutral', 'Negative'\n",
    "star_count = [13019, 3670, 2465]\n",
    "plt.pie(star_count, labels=label, autopct='%1.1f%%', startangle=90)\n",
    "plt.title(\"Sentiment Distribution of The Comments\", c=\"red\", fontsize=15)\n",
    "#plt.savefig('E:/Desktop/ITU/DATA_SCIENCE_ACADEMY/Project4/SentimentDistributionofComments1.png', dpi=200)"
   ]
  },
  {
   "cell_type": "code",
   "execution_count": 54,
   "id": "c940b124",
   "metadata": {},
   "outputs": [
    {
     "data": {
      "text/html": [
       "<div>\n",
       "<style scoped>\n",
       "    .dataframe tbody tr th:only-of-type {\n",
       "        vertical-align: middle;\n",
       "    }\n",
       "\n",
       "    .dataframe tbody tr th {\n",
       "        vertical-align: top;\n",
       "    }\n",
       "\n",
       "    .dataframe thead th {\n",
       "        text-align: right;\n",
       "    }\n",
       "</style>\n",
       "<table border=\"1\" class=\"dataframe\">\n",
       "  <thead>\n",
       "    <tr style=\"text-align: right;\">\n",
       "      <th></th>\n",
       "      <th>useful</th>\n",
       "      <th>funny</th>\n",
       "      <th>cool</th>\n",
       "    </tr>\n",
       "    <tr>\n",
       "      <th>sentiment</th>\n",
       "      <th></th>\n",
       "      <th></th>\n",
       "      <th></th>\n",
       "    </tr>\n",
       "  </thead>\n",
       "  <tbody>\n",
       "    <tr>\n",
       "      <th>Negative</th>\n",
       "      <td>2.520081</td>\n",
       "      <td>1.780527</td>\n",
       "      <td>1.060446</td>\n",
       "    </tr>\n",
       "    <tr>\n",
       "      <th>Neutral</th>\n",
       "      <td>1.566485</td>\n",
       "      <td>1.082561</td>\n",
       "      <td>1.017711</td>\n",
       "    </tr>\n",
       "    <tr>\n",
       "      <th>Positive</th>\n",
       "      <td>1.801137</td>\n",
       "      <td>0.856133</td>\n",
       "      <td>1.289039</td>\n",
       "    </tr>\n",
       "  </tbody>\n",
       "</table>\n",
       "</div>"
      ],
      "text/plain": [
       "             useful     funny      cool\n",
       "sentiment                              \n",
       "Negative   2.520081  1.780527  1.060446\n",
       "Neutral    1.566485  1.082561  1.017711\n",
       "Positive   1.801137  0.856133  1.289039"
      ]
     },
     "execution_count": 54,
     "metadata": {},
     "output_type": "execute_result"
    }
   ],
   "source": [
    "data = df.groupby('sentiment')[['useful','funny','cool']].mean()\n",
    "data"
   ]
  },
  {
   "cell_type": "code",
   "execution_count": 58,
   "id": "0a232a51",
   "metadata": {},
   "outputs": [
    {
     "data": {
      "text/html": [
       "<div>\n",
       "<style scoped>\n",
       "    .dataframe tbody tr th:only-of-type {\n",
       "        vertical-align: middle;\n",
       "    }\n",
       "\n",
       "    .dataframe tbody tr th {\n",
       "        vertical-align: top;\n",
       "    }\n",
       "\n",
       "    .dataframe thead th {\n",
       "        text-align: right;\n",
       "    }\n",
       "</style>\n",
       "<table border=\"1\" class=\"dataframe\">\n",
       "  <thead>\n",
       "    <tr style=\"text-align: right;\">\n",
       "      <th></th>\n",
       "      <th>sentiment</th>\n",
       "      <th>useful</th>\n",
       "      <th>funny</th>\n",
       "      <th>cool</th>\n",
       "    </tr>\n",
       "  </thead>\n",
       "  <tbody>\n",
       "    <tr>\n",
       "      <th>0</th>\n",
       "      <td>Negative</td>\n",
       "      <td>2.520081</td>\n",
       "      <td>1.780527</td>\n",
       "      <td>1.060446</td>\n",
       "    </tr>\n",
       "    <tr>\n",
       "      <th>1</th>\n",
       "      <td>Neutral</td>\n",
       "      <td>1.566485</td>\n",
       "      <td>1.082561</td>\n",
       "      <td>1.017711</td>\n",
       "    </tr>\n",
       "    <tr>\n",
       "      <th>2</th>\n",
       "      <td>Positive</td>\n",
       "      <td>1.801137</td>\n",
       "      <td>0.856133</td>\n",
       "      <td>1.289039</td>\n",
       "    </tr>\n",
       "  </tbody>\n",
       "</table>\n",
       "</div>"
      ],
      "text/plain": [
       "  sentiment    useful     funny      cool\n",
       "0  Negative  2.520081  1.780527  1.060446\n",
       "1   Neutral  1.566485  1.082561  1.017711\n",
       "2  Positive  1.801137  0.856133  1.289039"
      ]
     },
     "execution_count": 58,
     "metadata": {},
     "output_type": "execute_result"
    }
   ],
   "source": [
    "data_new = data.reset_index()\n",
    "data_new"
   ]
  },
  {
   "cell_type": "code",
   "execution_count": 64,
   "id": "425d1432",
   "metadata": {},
   "outputs": [
    {
     "data": {
      "text/plain": [
       "<Figure size 1080x720 with 0 Axes>"
      ]
     },
     "metadata": {},
     "output_type": "display_data"
    },
    {
     "data": {
      "image/png": "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\n",
      "text/plain": [
       "<Figure size 432x288 with 1 Axes>"
      ]
     },
     "metadata": {
      "needs_background": "light"
     },
     "output_type": "display_data"
    }
   ],
   "source": [
    "plt.figure(figsize = [15, 10])\n",
    "\n",
    "data_new.plot(x=\"sentiment\", y=[\"useful\",\"funny\", \"cool\"], kind=\"bar\")\n",
    " \n",
    "plt.xlabel(\"Sentiments\")\n",
    "plt.ylabel(\"Avg Number of Comment\")\n",
    "plt.title(\"Various Comment Types by Sentiments\", c=\"red\", fontsize=15)\n",
    "#plt.savefig('E:/Desktop/ITU/DATA_SCIENCE_ACADEMY/Project4/CommentTypesbySentiments1.png', dpi=200)"
   ]
  },
  {
   "cell_type": "code",
   "execution_count": 73,
   "id": "fd449658",
   "metadata": {},
   "outputs": [],
   "source": [
    "def get_top_n_gram(corpus,ngram_range,n=None):\n",
    "    vec = CountVectorizer(ngram_range=ngram_range,stop_words = 'english').fit(corpus)\n",
    "    bag_of_words = vec.transform(corpus)\n",
    "    sum_words = bag_of_words.sum(axis=0) \n",
    "    words_freq = [(word, sum_words[0, idx]) for word, idx in vec.vocabulary_.items()]\n",
    "    words_freq =sorted(words_freq, key = lambda x: x[1], reverse=True)\n",
    "    return words_freq[:n]"
   ]
  },
  {
   "cell_type": "code",
   "execution_count": 74,
   "id": "bd33af3e",
   "metadata": {},
   "outputs": [],
   "source": [
    "n2_bigrams = get_top_n_gram(df['text'],(2,2),20)\n",
    "n3_bigrams = get_top_n_gram(df['text'],(3,3),20)"
   ]
  },
  {
   "cell_type": "code",
   "execution_count": 75,
   "id": "e76fd849",
   "metadata": {},
   "outputs": [
    {
     "data": {
      "text/plain": [
       "[('las vegas', 1096),\n",
       " ('pretty good', 986),\n",
       " ('great place', 764),\n",
       " ('really good', 754),\n",
       " ('don know', 659),\n",
       " ('ice cream', 624),\n",
       " ('feel like', 585),\n",
       " ('food good', 524),\n",
       " ('happy hour', 413),\n",
       " ('make sure', 392),\n",
       " ('ve seen', 391),\n",
       " ('good food', 390),\n",
       " ('don think', 350),\n",
       " ('good place', 342),\n",
       " ('love place', 335),\n",
       " ('dance floor', 309),\n",
       " ('years ago', 308),\n",
       " ('staff friendly', 308),\n",
       " ('highly recommend', 308),\n",
       " ('strip mall', 295)]"
      ]
     },
     "execution_count": 75,
     "metadata": {},
     "output_type": "execute_result"
    }
   ],
   "source": [
    "n2_bigrams"
   ]
  },
  {
   "cell_type": "code",
   "execution_count": 76,
   "id": "bd7f1af6",
   "metadata": {},
   "outputs": [
    {
     "data": {
      "text/plain": [
       "[('cirque du soleil', 149),\n",
       " ('food pretty good', 109),\n",
       " ('love love love', 68),\n",
       " ('let just say', 63),\n",
       " ('don feel like', 62),\n",
       " ('sweet potato fries', 55),\n",
       " ('food really good', 53),\n",
       " ('makes feel like', 48),\n",
       " ('food good service', 44),\n",
       " ('free wi fi', 44),\n",
       " ('las vegas strip', 44),\n",
       " ('staff friendly helpful', 42),\n",
       " ('french onion soup', 40),\n",
       " ('pretty damn good', 40),\n",
       " ('flat screen tv', 37),\n",
       " ('pretty darn good', 37),\n",
       " ('vanilla ice cream', 36),\n",
       " ('just make sure', 36),\n",
       " ('hard rock hotel', 36),\n",
       " ('really really good', 36)]"
      ]
     },
     "execution_count": 76,
     "metadata": {},
     "output_type": "execute_result"
    }
   ],
   "source": [
    "n3_bigrams"
   ]
  },
  {
   "cell_type": "code",
   "execution_count": 83,
   "id": "6e6bb909",
   "metadata": {},
   "outputs": [],
   "source": [
    "df_negative = df[df[\"sentiment\"]==\"Negative\"]\n",
    "df_positive = df[df[\"sentiment\"]==\"Positive\"]\n",
    "df_neutral = df[df[\"sentiment\"]==\"Neutral\"]"
   ]
  },
  {
   "cell_type": "code",
   "execution_count": 85,
   "id": "4de41427",
   "metadata": {},
   "outputs": [],
   "source": [
    "n2_bigrams_negative = get_top_n_gram(df_negative['text'],(2,2),20)\n",
    "n3_bigrams_negative = get_top_n_gram(df_negative['text'],(3,3),20)"
   ]
  },
  {
   "cell_type": "code",
   "execution_count": 125,
   "id": "3636166c",
   "metadata": {},
   "outputs": [],
   "source": [
    "n2_bigrams_neutral = get_top_n_gram(df_neutral['text'],(2,2),20)\n",
    "n3_bigrams_neutral = get_top_n_gram(df_neutral['text'],(3,3),20)"
   ]
  },
  {
   "cell_type": "code",
   "execution_count": 86,
   "id": "e8344a33",
   "metadata": {},
   "outputs": [],
   "source": [
    "n2_bigrams_positive = get_top_n_gram(df_positive['text'],(2,2),20)\n",
    "n3_bigrams_positive = get_top_n_gram(df_positive['text'],(3,3),20)"
   ]
  },
  {
   "cell_type": "code",
   "execution_count": 89,
   "id": "8cb28531",
   "metadata": {},
   "outputs": [
    {
     "data": {
      "text/plain": [
       "[('cirque du soleil', 112),\n",
       " ('food pretty good', 67),\n",
       " ('love love love', 67),\n",
       " ('makes feel like', 41),\n",
       " ('don feel like', 40),\n",
       " ('food really good', 40),\n",
       " ('let just say', 38),\n",
       " ('sweet potato fries', 36),\n",
       " ('staff friendly helpful', 34),\n",
       " ('pretty damn good', 34),\n",
       " ('food good service', 32),\n",
       " ('free wi fi', 32),\n",
       " ('really really good', 32),\n",
       " ('great food great', 31),\n",
       " ('pretty darn good', 29),\n",
       " ('really like place', 28),\n",
       " ('las vegas strip', 28),\n",
       " ('service great food', 27),\n",
       " ('good food good', 26),\n",
       " ('king crab legs', 26)]"
      ]
     },
     "execution_count": 89,
     "metadata": {},
     "output_type": "execute_result"
    }
   ],
   "source": [
    "n3_bigrams_positive"
   ]
  },
  {
   "cell_type": "code",
   "execution_count": 126,
   "id": "6af3db87",
   "metadata": {},
   "outputs": [
    {
     "data": {
      "text/plain": [
       "[('food pretty good', 37),\n",
       " ('cirque du soleil', 21),\n",
       " ('hot hot hot', 19),\n",
       " ('don feel like', 18),\n",
       " ('sweet potato fries', 15),\n",
       " ('vanilla ice cream', 14),\n",
       " ('french onion soup', 13),\n",
       " ('actually pretty good', 13),\n",
       " ('place pretty good', 13),\n",
       " ('drama drama drama', 13),\n",
       " ('food good service', 12),\n",
       " ('happy hour specials', 11),\n",
       " ('food just ok', 11),\n",
       " ('food really good', 11),\n",
       " ('new york new', 10),\n",
       " ('york new york', 10),\n",
       " ('don know place', 10),\n",
       " ('service pretty good', 10),\n",
       " ('flat screen tv', 9),\n",
       " ('hot sour soup', 9)]"
      ]
     },
     "execution_count": 126,
     "metadata": {},
     "output_type": "execute_result"
    }
   ],
   "source": [
    "n3_bigrams_neutral"
   ]
  },
  {
   "cell_type": "code",
   "execution_count": 90,
   "id": "9394db5c",
   "metadata": {},
   "outputs": [
    {
     "data": {
      "text/plain": [
       "[('let just say', 17),\n",
       " ('cirque du soleil', 16),\n",
       " ('las vegas strip', 14),\n",
       " ('non smoking room', 13),\n",
       " ('really wanted like', 8),\n",
       " ('hot sour soup', 8),\n",
       " ('took long time', 7),\n",
       " ('couple years ago', 7),\n",
       " ('stay away place', 7),\n",
       " ('heard good things', 7),\n",
       " ('bad taste mouth', 7),\n",
       " ('hard rock hotel', 7),\n",
       " ('marin door door', 7),\n",
       " ('best thing say', 7),\n",
       " ('food took forever', 6),\n",
       " ('food just ok', 6),\n",
       " ('spicy tuna roll', 6),\n",
       " ('didn feel like', 6),\n",
       " ('food tastes like', 6),\n",
       " ('pork lau lau', 6)]"
      ]
     },
     "execution_count": 90,
     "metadata": {},
     "output_type": "execute_result"
    }
   ],
   "source": [
    "n3_bigrams_negative"
   ]
  },
  {
   "cell_type": "markdown",
   "id": "46d40a26",
   "metadata": {},
   "source": [
    "# Data Modeling"
   ]
  },
  {
   "cell_type": "code",
   "execution_count": 65,
   "id": "1aaacf22",
   "metadata": {},
   "outputs": [],
   "source": [
    "X = df.text\n",
    "y = df.sentiment"
   ]
  },
  {
   "cell_type": "code",
   "execution_count": 66,
   "id": "ee09593f",
   "metadata": {},
   "outputs": [],
   "source": [
    "from sklearn.model_selection import train_test_split\n",
    "X_train, X_test, y_train, y_test = train_test_split(X, y, test_size=0.3, random_state=42)"
   ]
  },
  {
   "cell_type": "code",
   "execution_count": 67,
   "id": "5a5e36c2",
   "metadata": {},
   "outputs": [
    {
     "data": {
      "text/html": [
       "<div>\n",
       "<style scoped>\n",
       "    .dataframe tbody tr th:only-of-type {\n",
       "        vertical-align: middle;\n",
       "    }\n",
       "\n",
       "    .dataframe tbody tr th {\n",
       "        vertical-align: top;\n",
       "    }\n",
       "\n",
       "    .dataframe thead th {\n",
       "        text-align: right;\n",
       "    }\n",
       "</style>\n",
       "<table border=\"1\" class=\"dataframe\">\n",
       "  <thead>\n",
       "    <tr style=\"text-align: right;\">\n",
       "      <th></th>\n",
       "      <th>aa</th>\n",
       "      <th>aaa</th>\n",
       "      <th>aaaaaaaauuuuuuuuurrrrrriiiiiitttttttttte</th>\n",
       "      <th>aaaaaaaggggggg</th>\n",
       "      <th>aaaaah</th>\n",
       "      <th>aaaaargh</th>\n",
       "      <th>aaaamazing</th>\n",
       "      <th>aaaand</th>\n",
       "      <th>aaaayyyyyyyyyyy</th>\n",
       "      <th>aaah</th>\n",
       "      <th>...</th>\n",
       "      <th>zunamity</th>\n",
       "      <th>zune</th>\n",
       "      <th>zuzus</th>\n",
       "      <th>zygotes</th>\n",
       "      <th>zyr</th>\n",
       "      <th>zzz</th>\n",
       "      <th>zzzz</th>\n",
       "      <th>zzzzz</th>\n",
       "      <th>zzzzzzzzz</th>\n",
       "      <th>zzzzzzzzzzzz</th>\n",
       "    </tr>\n",
       "  </thead>\n",
       "  <tbody>\n",
       "    <tr>\n",
       "      <th>0</th>\n",
       "      <td>0</td>\n",
       "      <td>0</td>\n",
       "      <td>0</td>\n",
       "      <td>0</td>\n",
       "      <td>0</td>\n",
       "      <td>0</td>\n",
       "      <td>0</td>\n",
       "      <td>0</td>\n",
       "      <td>0</td>\n",
       "      <td>0</td>\n",
       "      <td>...</td>\n",
       "      <td>0</td>\n",
       "      <td>0</td>\n",
       "      <td>0</td>\n",
       "      <td>0</td>\n",
       "      <td>0</td>\n",
       "      <td>0</td>\n",
       "      <td>0</td>\n",
       "      <td>0</td>\n",
       "      <td>0</td>\n",
       "      <td>0</td>\n",
       "    </tr>\n",
       "    <tr>\n",
       "      <th>1</th>\n",
       "      <td>0</td>\n",
       "      <td>0</td>\n",
       "      <td>0</td>\n",
       "      <td>0</td>\n",
       "      <td>0</td>\n",
       "      <td>0</td>\n",
       "      <td>0</td>\n",
       "      <td>0</td>\n",
       "      <td>0</td>\n",
       "      <td>0</td>\n",
       "      <td>...</td>\n",
       "      <td>0</td>\n",
       "      <td>0</td>\n",
       "      <td>0</td>\n",
       "      <td>0</td>\n",
       "      <td>0</td>\n",
       "      <td>0</td>\n",
       "      <td>0</td>\n",
       "      <td>0</td>\n",
       "      <td>0</td>\n",
       "      <td>0</td>\n",
       "    </tr>\n",
       "    <tr>\n",
       "      <th>2</th>\n",
       "      <td>0</td>\n",
       "      <td>0</td>\n",
       "      <td>0</td>\n",
       "      <td>0</td>\n",
       "      <td>0</td>\n",
       "      <td>0</td>\n",
       "      <td>0</td>\n",
       "      <td>0</td>\n",
       "      <td>0</td>\n",
       "      <td>0</td>\n",
       "      <td>...</td>\n",
       "      <td>0</td>\n",
       "      <td>0</td>\n",
       "      <td>0</td>\n",
       "      <td>0</td>\n",
       "      <td>0</td>\n",
       "      <td>0</td>\n",
       "      <td>0</td>\n",
       "      <td>0</td>\n",
       "      <td>0</td>\n",
       "      <td>0</td>\n",
       "    </tr>\n",
       "    <tr>\n",
       "      <th>3</th>\n",
       "      <td>0</td>\n",
       "      <td>0</td>\n",
       "      <td>0</td>\n",
       "      <td>0</td>\n",
       "      <td>0</td>\n",
       "      <td>0</td>\n",
       "      <td>0</td>\n",
       "      <td>0</td>\n",
       "      <td>0</td>\n",
       "      <td>0</td>\n",
       "      <td>...</td>\n",
       "      <td>0</td>\n",
       "      <td>0</td>\n",
       "      <td>0</td>\n",
       "      <td>0</td>\n",
       "      <td>0</td>\n",
       "      <td>0</td>\n",
       "      <td>0</td>\n",
       "      <td>0</td>\n",
       "      <td>0</td>\n",
       "      <td>0</td>\n",
       "    </tr>\n",
       "    <tr>\n",
       "      <th>4</th>\n",
       "      <td>0</td>\n",
       "      <td>0</td>\n",
       "      <td>0</td>\n",
       "      <td>0</td>\n",
       "      <td>0</td>\n",
       "      <td>0</td>\n",
       "      <td>0</td>\n",
       "      <td>0</td>\n",
       "      <td>0</td>\n",
       "      <td>0</td>\n",
       "      <td>...</td>\n",
       "      <td>0</td>\n",
       "      <td>0</td>\n",
       "      <td>0</td>\n",
       "      <td>0</td>\n",
       "      <td>0</td>\n",
       "      <td>0</td>\n",
       "      <td>0</td>\n",
       "      <td>0</td>\n",
       "      <td>0</td>\n",
       "      <td>0</td>\n",
       "    </tr>\n",
       "  </tbody>\n",
       "</table>\n",
       "<p>5 rows × 37785 columns</p>\n",
       "</div>"
      ],
      "text/plain": [
       "   aa  aaa  aaaaaaaauuuuuuuuurrrrrriiiiiitttttttttte  aaaaaaaggggggg  aaaaah  \\\n",
       "0   0    0                                         0               0       0   \n",
       "1   0    0                                         0               0       0   \n",
       "2   0    0                                         0               0       0   \n",
       "3   0    0                                         0               0       0   \n",
       "4   0    0                                         0               0       0   \n",
       "\n",
       "   aaaaargh  aaaamazing  aaaand  aaaayyyyyyyyyyy  aaah  ...  zunamity  zune  \\\n",
       "0         0           0       0                0     0  ...         0     0   \n",
       "1         0           0       0                0     0  ...         0     0   \n",
       "2         0           0       0                0     0  ...         0     0   \n",
       "3         0           0       0                0     0  ...         0     0   \n",
       "4         0           0       0                0     0  ...         0     0   \n",
       "\n",
       "   zuzus  zygotes  zyr  zzz  zzzz  zzzzz  zzzzzzzzz  zzzzzzzzzzzz  \n",
       "0      0        0    0    0     0      0          0             0  \n",
       "1      0        0    0    0     0      0          0             0  \n",
       "2      0        0    0    0     0      0          0             0  \n",
       "3      0        0    0    0     0      0          0             0  \n",
       "4      0        0    0    0     0      0          0             0  \n",
       "\n",
       "[5 rows x 37785 columns]"
      ]
     },
     "execution_count": 67,
     "metadata": {},
     "output_type": "execute_result"
    }
   ],
   "source": [
    "# The first document-term matrix has default Count Vectorizer values - counts of unigrams\n",
    "from sklearn.feature_extraction.text import CountVectorizer\n",
    "\n",
    "cv1 = CountVectorizer(stop_words='english')\n",
    "\n",
    "X_train_cv1 = cv1.fit_transform(X_train)\n",
    "X_test_cv1  = cv1.transform(X_test)\n",
    "\n",
    "pd.DataFrame(X_train_cv1.toarray(), columns=cv1.get_feature_names()).head()"
   ]
  },
  {
   "cell_type": "markdown",
   "id": "011a1749",
   "metadata": {},
   "source": [
    "## Logistic Regression Classifier"
   ]
  },
  {
   "cell_type": "code",
   "execution_count": 91,
   "id": "e2e55b7e",
   "metadata": {},
   "outputs": [],
   "source": [
    "from sklearn.linear_model import LogisticRegression\n",
    "lr = LogisticRegression()"
   ]
  },
  {
   "cell_type": "code",
   "execution_count": 92,
   "id": "d977cb73",
   "metadata": {},
   "outputs": [],
   "source": [
    "lr.fit(X_train_cv1, y_train)\n",
    "y_pred_cv1 = lr.predict(X_test_cv1)"
   ]
  },
  {
   "cell_type": "code",
   "execution_count": 105,
   "id": "6044ad91",
   "metadata": {},
   "outputs": [],
   "source": [
    "# Create a function to calculate the error metrics, since we'll be doing this several times\n",
    "from sklearn.metrics import confusion_matrix\n",
    "import matplotlib.pyplot as plt\n",
    "import seaborn as sns\n",
    "%matplotlib inline\n",
    "\n",
    "def conf_matrix(actual, predicted):\n",
    "    cm = confusion_matrix(actual, predicted)\n",
    "    sns.heatmap(cm, xticklabels=['Pred_Negative','Pred_Neutral', 'Pred_Positive'], \n",
    "                yticklabels=['Act_Negative','Act_Neutral', 'Act_Positive'], annot=True,\n",
    "                fmt='d', annot_kws={'fontsize':20}, cmap=\"YlGnBu\");\n",
    "\n",
    "    a_neg, a_neu, a_pos = cm[0]\n",
    "    b_neg, b_neu, b_pos = cm[1]\n",
    "    c_neg, c_neu, c_pos = cm[2]\n",
    "\n",
    "    accuracy = round((a_neg + b_neu + c_pos) / (a_neg+a_neu+a_pos + b_neg+b_neu+b_pos + c_neg+c_neu+c_pos),2)\n",
    "    negative = round((a_neg) / (a_neg+a_neu+a_pos),2)\n",
    "    neutral = round((b_neu) / (b_neg+b_neu+b_pos),2)\n",
    "    positive = round((c_pos) / (c_neg+c_neu+c_pos),2)\n",
    "\n",
    "    cm_results = [accuracy, negative, neutral, positive]\n",
    "    return cm_results"
   ]
  },
  {
   "cell_type": "code",
   "execution_count": 106,
   "id": "f1296668",
   "metadata": {},
   "outputs": [
    {
     "data": {
      "image/png": "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\n",
      "text/plain": [
       "<Figure size 432x288 with 2 Axes>"
      ]
     },
     "metadata": {
      "needs_background": "light"
     },
     "output_type": "display_data"
    }
   ],
   "source": [
    "# The heat map for the first logistic regression model\n",
    "cm1 = conf_matrix(y_test, y_pred_cv1)"
   ]
  },
  {
   "cell_type": "markdown",
   "id": "316d52f8",
   "metadata": {},
   "source": [
    "## Naive Bayes Classifier"
   ]
  },
  {
   "cell_type": "code",
   "execution_count": 107,
   "id": "042f84a4",
   "metadata": {},
   "outputs": [],
   "source": [
    "# Fit the first Naive Bayes model\n",
    "from sklearn.naive_bayes import MultinomialNB\n",
    "\n",
    "mnb = MultinomialNB()\n",
    "mnb.fit(X_train_cv1, y_train)\n",
    "\n",
    "y_pred_cv1_nb = mnb.predict(X_test_cv1)"
   ]
  },
  {
   "cell_type": "code",
   "execution_count": 111,
   "id": "61cf3e99",
   "metadata": {},
   "outputs": [],
   "source": [
    "# Fit the second Naive Bayes model\n",
    "from sklearn.naive_bayes import BernoulliNB\n",
    "\n",
    "bnb = BernoulliNB()\n",
    "bnb.fit(X_train_cv1, y_train)\n",
    "\n",
    "y_pred_cv2_nb = bnb.predict(X_test_cv1)"
   ]
  },
  {
   "cell_type": "code",
   "execution_count": 109,
   "id": "a7ce7148",
   "metadata": {},
   "outputs": [
    {
     "data": {
      "image/png": "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\n",
      "text/plain": [
       "<Figure size 432x288 with 2 Axes>"
      ]
     },
     "metadata": {
      "needs_background": "light"
     },
     "output_type": "display_data"
    }
   ],
   "source": [
    "# Here's the heat map for the first Naive Bayes model\n",
    "cm3 = conf_matrix(y_test, y_pred_cv1_nb)"
   ]
  },
  {
   "cell_type": "code",
   "execution_count": 112,
   "id": "052a5281",
   "metadata": {},
   "outputs": [
    {
     "data": {
      "image/png": "iVBORw0KGgoAAAANSUhEUgAAAWgAAAD7CAYAAABHYA6MAAAAOXRFWHRTb2Z0d2FyZQBNYXRwbG90bGliIHZlcnNpb24zLjQuMSwgaHR0cHM6Ly9tYXRwbG90bGliLm9yZy/Z1A+gAAAACXBIWXMAAAsTAAALEwEAmpwYAABB+klEQVR4nO3dd3hU1dbA4d9KKAklhCIldJCOdBBFiojSbCgKNkAU7O3qVbChXttnuUoREMu1YENRwYIoTUCB0Evo0gm9hZqEsL4/zkmYkJBMkplkMlmvz3kys0/b5zCu2bPPLqKqGGOMCTwheZ0BY4wx6bMAbYwxAcoCtDHGBCgL0MYYE6AsQBtjTICyAG2MMQGqUG6cJElXWVs+PwuR0LzOQoFwKH5DXmch6JUpeq3k9Bjh1W7xOuac3PZVjs/nL7kSoI0xJjeJBEflgAVoY0zQkSCpvbUAbYwJOiEhwRHaguMqjDHGg0jAVitnSXD8DjDGmFRCsrCcn4iEiUi0iCwXkRgRedFNf0FEdorIMnfp4bHPUBHZKCLrRKSrR3pLEVnprhshXnyLWAnaGBN0fPiQMB7orKrHRKQwMFdEprjr3lHVt1KfVxoCfYFGQBQwTUTqqmoSMAYYDMwHfgW6AVPIgJWgjTFBRyTE6yUj6jjmvi3sLhk14bsO+FpV41V1M7ARaCMilYAIVZ2nzhCinwHXZ3YdFqCNMUEnRAp5vYjIYBFZ5LEM9jyWiISKyDJgL/CHqi5wVz0oIitE5GMRKe2mVQa2e+y+w02r7L4+Nz3j68je5RtjTODKSglaVcepaiuPZZznsVQ1SVWbAVVwSsONcaoragPNgF3A28mnTic7mkF6hixAG2OCjq+qODyp6mFgFtBNVfe4gfsM8AHQxt1sB1DVY7cqQKybXiWd9AxZgDbGBB3Jwn8ZHkfkAhGJdF+HA12AtW6dcrJewCr39WSgr4gUFZGaQB0gWlV3AUdFpK3beqMfMCmz67BWHMaYoOPDVhyVgE9FJBSnQDtBVX8Wkc9FpBlONcUW4B4AVY0RkQnAauA08IDbggPgPuATIByn9UaGLTjAArQxJgj5KkCr6gqgeTrpd2SwzyvAK+mkLwIaZ+X8FqCNMUFHJDhCW3BchTHGeLDR7IwxJkBZgDbGmABlw40aY0yAshK0McYEqGAZbtQCtDEm6IRYKw5jjAlMVsVhjDEBygK0McYEKGvFYYwxgcpK0MYYE5hCQkLzOgs+YQHaGBN0rIrDGGMClD0kDGBTf5vHwoUxrF27hXVrt3D8+EmuvqYDb7z5iFf7P/vMe3w/cQYAU6aOonr1SqnWL1mylhnTo4lesIqdO/dx7NgJypcvQ9tLLuLuQb3SbF/QqCrfT5zOhAm/s2HDNs6cOUPNmpXpdcMV3HZbd0JDz/783LVrH+Pen0hMzD/Exu7jyJFjREaWpFq1itxwYxeuvbYjhQsH5cfUK726vcru2EPpritTtgS/zByW8v50YhITv/mbDetiWb92J5v/2cvp00kMHdaba2+8+Lzn2LnjAJ98MJ3ov9dz8MAxIkqF07L1hQy870pq1Czv82vKFdZRJXCNHfsd69ZuoVixMCpWLMumTTu93nfmjIV8P3EGxYqFceLEqXS3eeThNzl0MI5mzetx9TXtCQ0NZfmydUz8bjq//voXH330PM2a1/PV5eQ7Q54azqRJsyhbthQ9elxGeHgY8+Yt59VXPmTRohiGD38ypafXtm27+emn2TRpWocrrriYUpElOHz4KHNmL+GZp0cy6ceZfPy/FylUKDjqFLOjRMkw+tzWPk16eLEiqd6fPJnAu29MBpzgXbZcSfbsPpzhsdet3sEDd7/P8WOnaNnmQrp0a8bePYeZOW0lc/9czYhxg2nctLrPriXXBEcBOjgD9JAhA6hQsSzVq1diYXQMA/oPy3wn4ODBIzz//Fi692jH/n2HWbgwJt3t+ve/mmuv7Uj5CmVSpb8/diLD3/2SYc+PZdJP7+T4OvKjadPmM2nSLKpUqcC3375J6TIRACQmnuaxR9/k96nz+OGHGdxwwxUANG9en+iF4wkJSf1/VGLiae4a+ALR0av44/d5dO9xWW5fSsAoUTKcu++/KtPtwsIL89/37qJO/SjKXRDBh6N/56Oxf2S4zysvfMvxY6d4+N/XcMsdHVLSVy7fwn13juGlZ7/my++foFDhfPYFGSQl6CD5nknt4rYXUaNGVJb74w97fiwAzz03KMPt7h7UK01wdtKvJyysCBs2bOPwoaNZOnew+OP3+QDcOfC6lOAMULhwIR5+5FYAxo//JSW9SJHCaYJz8vZdujg/y7du3eXPLAeNwoULcUn7+pS7ICLzjXGqNjasjaV0mRL0uS31F+BFTWvQoVMjtm/dz7y/1vkju/4VKt4vASwoS9DZ8cP3M5g+LZoRo54ksnTJbB1DRFLqV0NCg/K7L1P79jv1pVWrVEizrmrVigCsjtlEXNwxIiJKnPc4SUlJ/Dl7MQB16+XDn9g+lJhwmt9+XszuXYcJDy/ChXUr0axlLUJz+Bk7sN8pRFSKKp3ul2RUFacQsmjBBtp3apijc+U2DZIStAVoYOfOvbz26v+45toOKaW27Jj62zyOHz9J06Z1iYgo7sMc5h+lSzultx079qRZt3377pTXmzbtpFmzs/X0hw7GMf6LX1CFQweP8Pffy9m6dRdXX92Byy9v7f+MB7AD+4/y4tNfp0qLqlyGZ/5zMy1a1c72cSMjnc/o7l2HUNU0vzhjdxwEYOvmvdk+R54JjvjsfYAWkcuAOqr6PxG5ACihqpv9l7XccebMGZ4eMopixcJ4+pm7sn2cHTv28MrLH1KoUChPPtXfhznMXzp1asUvP8/hk08m06NneyIjnV8jp08nMXLkVynbxR05lmq/Q4fieG/UNynvRYSBA6/nsX/dHjRDR2bH1de1ommLWtS6sALFihVl546DfPf1X0z6bgH/uv8jPvj8QerUi8rWsavVuIBq1S9g29Z9fPvlX9zsUc0Rs2Ibs2c5z2COxp30ybXkqpDg+Mx4FaBFZBjQCqgH/A8oDIwH2vkva7nj009+ZuHCGMa8/zSlSp3/J3dGDhw4wj2DXubgwTiee34QzVvU93Eu84+ePdvz0+Q/mT17CVf3fIjLO7cmPKwo8+atYNu23VSvEcXWLbFpqoBq1a7C2nU/kpSUxJ49B5n2x3xGjPiKxUvW8P77z6YE+oLmrvtSPxysXaciTz13I+HhRfjqs9l8OOZ3/u/dAdk+/lPP38hj933IO/83ibl/rqZOvSj27TnCrOkrqVmrAhvX78qf1XU++lIXkTBgNlAUJ15+p6rDRKQM8A1QA9gC3Kyqh9x9hgJ3AUnAw6o61U1vCXwChAO/Ao+oqmZ0fm/vfC/gWuA4gKrGAhn+HyMig0VkkYgs+mDct16eJndt2RLL8He/pNcNnenYsWW2jnHgwBHuHDCMzZtjGfr0QG65tZuPc5m/hISEMHrMMzz51ADKlYtk8qQ/mThxOhUqlOWLL19NCbRly5ZKd//Q0FCioi6gX/9rePGl+1i+bB0jRnyV7rYFWa+bLwFg2eKc/Yht0bo2H335EJ2vasLG9buY8MVcVq/axoDBVzD4ga4AlCmTvYJLnvLdQ8J4oLOqNgWaAd1EpC0wBJiuqnWA6e57RKQh0BdoBHQDRotIchOYMcBgoI67ZBosvK3iSFBVFRF1M5FpBauqjgPGASTpqgy/JfLKxo3bSUhI5IfvZ/DD9zPS3aZ71wcBGDHqyTT10/v2HuLOO19g86adPPf8oAIfnJMVKhTKwIHXM3Dg9anST52KZ+2azYSFFeHCC6tlepwOHVoAsDB6lT+yma8lB81TJxNyfKwL60bxylt3pEn/4L2pADRoVDXH58h1PipBuyXc5Pq4wu6iwHVAJzf9U2AW8JSb/rWqxgObRWQj0EZEtgARqjrPyZ58BlwPTMno/N4G6Aki8j4QKSKDgIHAB17uG7AqVy7Pjb2vSHfdn38uZv++w3TtdgklShSjcuXUPap27z7Anf2HsW3bboa9MJib+2TeTrWgmzRpFvHxCVzf63Kvegfu2eM8pMppa4VgtHL5VuBsSwtfS0g4zZSfFhMSInTp3tQv5/ArH1ZBuyXgxcCFwHuqukBEKqjqLgBV3SUiyQGiMjDfY/cdblqi+/rc9Ax5FaBV9S0RuRKIw6mHfl5VM24Bnw80aFCT/7x8f7rr+t/xPPv3HebRx25L03U7NnYfd/Yfxs6d+/jPy/dzw42dcyO7+caxYycoUaJYqrSVKzbw37c/p1ixMB54oE9K+vLl66lbtzrh4UVTbX/8+ElefeVDADp2auX/TAegTRt3U/aCCEqVSn0vd8Ue4u3XfgSga88WOTrHyRMJFClaKNWX4OnEJN54+Xt2xR7ixr6XUqVquRydI09k4SGhiAzGqXpINs6tAQBAVZOAZiISCfwgIo0zOlw6aZpBeoa8fUj4GPBtfgnK06YtYMa0aAD27z8MwPJl63h6yEgAIktH5KilRf87nmfnzr00alSb2Nh9jBr5TZptevW6nMpV8uk4Bjk08M5hFA0rQp061SlePJyNG7Yxe/ZiihQpzIiRQ1LaQwOMe/87oqNX0bp1YypFlSM8rCi7du9nzuwlxMUdp3nz+gwefGMeXk3emfH7Cj7/eCYtWtcmqnIZihUvys7tB/hrzhoS4k9zafv63DagY6p9PvtoRkqzuA3rYgH4edJCli916qqbNq+ZalyOxQs38toL39K6bR3KV4zk+LFTzJuzll2xh7i0QwMeevzqXLpaH8tCCdqzOjaT7Q6LyCycuuM9IlLJLT1XApLbIu4APOuEqgCxbnqVdNIz5G0VRwQwVUQOAl/jPMlM29A1QKxds4Uff5yVKm379j1s3+5kOSrqghwF6J07nX+LmJh/iIn5J91t2rRpVGADdNeul/LLr3P4afIsTp1KoHz5MvTufSWDBt9AlXM6sNx081WEh4exctVGoqNXcepUPBERJWjUqDbdurfjxhu7FNhxOFq0qc22LftYt3Ynq1Zs5eTJBEqWDKdp85p0u7oF3a9pmaYJ4vy/1rF00aZUaSuXbWXlsq0p7z0DdLXqF9CkWQ2WLtrEoYPHKBpWmAvrRnHXfVfS/ZqW6XZgyQ981VHFbVKc6AbncKAL8H/AZKA/8Lr7d5K7y2TgSxH5LxCF8zAwWlWTROSo+4BxAdAPGJnp+TNp5XFuZpsAfYAbgR2q2sWb/QL1IWEwCZGCGcRy26H4DXmdhaBXpui1OY6uF17zidcxZ+NPA857PjfmfQqE4rR6m6CqL4lIWWACUA3YBtykqgfdfZ7BeU53GnhUVae46a0428xuCvBQZs3sstqTcC+wGzgAFMzioTEm8PmuFccKoHk66QeAdFsYqOorwCvppC8CMqq/TsOr3y8icp9b9zIdKAcMUtUmWTmRMcbkmhDxfglg3pagq+MU1Zf5MS/GGOMbgR13vZZhgBaRCFWNA95w36dqdJlc52KMMQElSMZvyawE/SVwNU4j7XPb8ilQy0/5MsaY7CsIAVpVr3b/1syd7BhjjA8E+ED83vL2IeF0b9KMMSYgSBaWAJZZHXQYUAwoJyKlOXs5ETiNsI0xJuBogLfO8FZmddD3AI/iBOPFnA3QccB7/suWMcbkQAGpgx4ODBeRh1Q1026JxhgTEIIjPns9mt1IdwSnhkCYR/pn/sqYMcZkW5AMUZuVKa864QToX4HuwFzAArQxJvAESQna26+Z3jj9zner6p1AU5w5uowxJvAUsK7eJ1X1jIicFpEInEGTrJOKMSYwBXjg9Za3AXqRO5vABzitOY4B0f7KlDHG5IQGR3z2+iFh8rxQY0XkN5zJD1f4L1vGGJMDBakELSJpJj4TkdrAVlU97fNcGWNMThSkVhzAaKAFsALn+Whj93VZEblXVX/3U/6MMSbrgiM+e30ZW4DmqtpKVVvizDCwCmd+rjf8lDdjjMkeEe+XAOZtCbq+qsYkv1HV1SLSXFU3nTtppTHG5LmCVAcNrBORMTgzeoMzcex6ESkKJPolZ8YYk02+mtU7r3kboAcA9+MMnCQ4vQifwAnOl/sjY8YYk20FqQ5aVU/iPCgcoqrXq+pbqnpCVc+o6jH/ZtEYY7IoNMT7JQMiUlVEZorIGhGJEZFH3PQXRGSniCxzlx4e+wwVkY0isk5EunqktxSRle66EeJF/bC3A/ZfCywDfnPfNxORyd7sa4wxuc53Xb1PA4+ragOgLfCAiDR0172jqs3c5VcAd11foBHQDRgtIqHu9mOAwUAdd+mW6WV4ebnDgDbAYQB3du8aXu5rjDG5y0czqqjqLlVd4r4+CqwBKmewy3XA16oar6qbgY1AGxGphNPBb56qKs5Ac9dndhneBujTqnrEy22NMSZPaYh4vXhLRGrgNDFe4CY9KCIrRORjd8YpcIL3do/ddrhpld3X56ZnyNsAvUpEbgVCRaSOiIwE/vZyX2OMyV1ZqOIQkcEisshjGXzu4USkBDAReFRV43CqK2oDzYBdwNvJm6aTG80gPUPetuJ4CHgGiAe+AqYC//FyX2OMyV1ZmNVbVccB4863XkQK4wTnL1T1e3efPR7rPwB+dt/uAKp67F4FiHXTq6STniFvW3GcUNVnVLW125vwGVU95c2+xhiT63zUk9BtafERsEZV/+uRXsljs144PasBJgN9RaSoiNTEeRgYraq7gKMi0tY9Zj9gUmaXkdms3v/j/MVwVdW7MjsBQKgU8WYzkwNJmpDXWSgQthwNzXwjkyNlfDEViO96ErYD7gBWisgyN+1p4BYRaYYTH7fgTLCNqsaIyARgNU4LkAdUNcnd7z7gEyAcmOIuGcqsiuPndNKq4XRYsU+qMSYw+ShAq+pc0q8//jWDfV4BXkknfRHOQHNey2xW74nJr0WkFs43RwfgdZxivzHGBJwC09VbRBrgPCBsDrwJ3GtjQBtjAlqQdPXOrA76W6AV8BbwGJAERCT3UFTVg/7OoDHGZFkBGbC/NU4l+BPA425a8m8HxSaONcYEooIw3Kiq1vDmICLSyHO8aGOMyVPBEZ99VlPzuY+OY4wxOeaPrt55wduehJkJ7Ks0xhQsBaUVh5cy7VNujDG5JsBLxt7yVYA2xpiAERIk3eh8FaCtn7ExJmAESQ2H1zOqTM8oTVXb+jJTxhiTEz4aKynPZdZRJQwoBpRzB6ROvpwIIMrPeTPGmGzxYrq/fCGzKo57cAZGigIWczZAxwHv+S9bxhiTfUESnzPtqDIcGC4iD6nqyFzKkzHG5EiwPCT0tqPKGRGJTH4jIqVF5H7/ZMkYY3ImWOqgvQ3Qg1T1cPIbVT0EDPJLjowxJoeyMCVhQPO2mV2IiIg7XTgiEgrYNCnGmIAU6CVjb3kboKcCE0RkLE6vwXvxYroWY4zJCwUtQD8FDMaZU0uApUClDPcwxpg8UlCa2QGgqmdEZD7O+M99gDI405AbY0zACZZWHJl1VKkL9AVuAQ4A3wCo6uX+z5oxxmRPkBSgMy1BrwXmANeo6kYAEXnM77kyxpgcCJYAnVkzuxuB3cBMEflARK7Axn42xgQ4XzWzE5GqIjJTRNaISIyIPOKmlxGRP0Rkg/u3tMc+Q0Vko4isE5GuHuktRWSlu26EeFFRnmGAVtUfVLUPUB+YhTNxbAURGSMiV2V2cGOMyQs+7KhyGnhcVRsAbYEHRKQhMASYrqp1gOnue9x1fYFGQDdgtNssGWAMTmOLOu7SLbOTe9VRRVWPq+oXqno1UAVYlpwhY4wJNL4K0Kq6S1WXuK+PAmuAysB1wKfuZp8C17uvrwO+VtV4Vd0MbATaiEglIEJV57n9ST7z2Oe8sjwetKoeBN53F2OMCTghob6viRWRGkBzYAFQQVV3gRPERaS8u1llYL7HbjvctET39bnpGSqQM6osWhTDp59OYunStRw+fJTIyJLUrVud/v2vo2PHVgAkJp7myy9/Ze3aTaxevYl//tlOYuJpXn75QW66qWsmZwh+U3+bx8KFMaxdu4V1a7dw/PhJrr6mA2+8+UiabXft2s8H474nJmYTsbH7iDtyjMjIklStVpEbbujMNdd2oHDhtB/F7dt38/7Yifz913L2HzhCqVIluLhNI+5/8GZq1aqSG5cZEJb8vZrfJsxm55Y9HD1ynNLlIqhZryo9+nakbuMaqbY9dSKeyeNnsGDWcvbtOkjhIoWoWa8qPft2pPmlDdMc+6Eb/8P+3YcyPP9Nd3fjhjvzV41mVh4SishgnKqHZONUddw525TAaVr8qKrGZVB9nN4KzSA9QwUuQI8e/Q3Dh4+ndOkILr+8NRdcUIZDh+JYvfofFixYmRKgT548xauvfgBAuXKRlCsXya5d+/My6wFl7NjvWLd2C8WKhVGxYlk2bdp53m23b9vNzz/NoUmTOlxxRRtKlSrB4cNHmTNnKc8+8x6TJ83iw4+HUajQ2carq2M2MaD/MI4dO8HFbS+ie4927N59gN//WMDMWYv5+ONhNG1WNzcuNU99OfonfvpiJiVKFad1+8aUjCzO7h37WTRnFdGzVnDfc7fQvqvzmT1+9CQv3j+S7Zt2U6VmRa647hLiTyaweG4Mb/z7Q/o/ej3dbuqQ6vjdb+7AiWMn05xXFSZ9Pp2k00k0bdsgV67Vl7ISoN1gPO5860WkME5w/kJVv3eT94hIJbf0XAnY66bvAKp67F4FiHXTq6STnqECFaCnTJnL8OHjufTSZowcOZQSJYqlWp+YeDrldVhYUcaNG0aDBrUoX74MI0d+yahRX+V2lgPWkCEDqFCxLNWrV2JhdAwD+g8777bNmtdjfvSnhISkfuSRmHiaQXe9RHR0DH/8MZ/u3dulrHv22dEcO3aCp4YMoP+Aa1LSly1dR787nmPIUyOY/PO76Za8g8XhA3H8/NUsSpUpyf999gSlSpdMWRezeAMvPzyG7z78LSVAf/fRb2zftJs2HS/i4Zf6Eep+4cUdOsazg95l/KifaNq2AZWqXpBynB59OqZ77uUL1pJ0OokadStTu0HVdLcJZL4aBMltafERsEZV/+uxajLQH3jd/TvJI/1LEfkvzjj6dYBoVU0SkaMi0haniqQfkOkQzt6OZpfvnTlzhrfe+oTw8KK8/fYTaYIzkOp/9iJFCtOxYyvKly+Tm9nMNy5uexE1akR51aW2SJHCaYIzOPf7ii5tANi6dVdK+vbtu1m7ZjNly5bijn49U+3TrHk9Onduzdatu5g7Z2kOryKw7d99CD2jXNiwWqrgDNCoZR3CixUl7tDxlLSFs1cC0Pvu7inBGSCidAl69u1I0ukkpv34t1fnnjFpHgBXXHdJTi8jT/iwFUc74A6gs4gsc5ceOIH5ShHZAFzpvkdVY4AJwGrgN+ABVU1yj3Uf8CHOg8N/8GI8o+AtfpxjyZI17Nixh65d2xERUYJZsxayfv1WihYtQpMmdWnevH5eZ7HASUpKYvafSwCoV7d6Svr+fYcBiKpcPt3AXqVqBQDmz1/J5Z1b+z+jeaRi1XIUKhzKP2u2EXf4GBGRJVLWrVn2DydPxNOqQ+OUtMMHjgJQoXLaQkX5qLIAxCzakOl5Dx88yuK/VhMWXpR2V7bI6WXkCV919VbVuZy/78cV59nnFeCVdNIXAY3T7nF+BSZAr1rlfDDLlYukV69HWb9+S6r1rVs3YsSIoZQpUyoPclcwHDoUxxfjp6CqHDoUx99/L2fb1t30vLo9nS5vlbJd6dIRAMTG7kNV05TSd2zfA8DmDOq9g0GJiOLcct/VjB85mX/f9gatOjSmREQx9sQeYMncGC5qXZe7n7wpZfuSpYpz+EAce2MPUqVmxVTH2ht7AIDYbXvJzKyfF5B0OomOPVoTXjzMtxeVS4JlsKQCU8Vx4MARAL7+egrx8fF88snLLFkygZ9/HsVll7Vg4cIYHnnk9TzOZXA7dCiO0e9NYMzob/n6q6ls37aHOwdey6uvPZjqf6gaNaOoUSOKA/sPM/7zX1MdY/ny9cyYsRCAI3HHCXY9+nTksVcHkJSUxIzJ850WGjOWU7Z8JB17tE5V9dGindNK47uPp3Im6UxK+tEjx/n1mz8BSEw4TUJ8wnnPp6rM/GkBAJ2vzZ/VGxA8M6pkNlhShr9vkhtw5wdJ7gdWFUaMGEr9+jUBqFOnOu+99zRdu95LdPQqli5da9UdflKrVhVWr51IUlISe/YcZPq0BYwc8Q1LFq9lzPtPExl5Nti88OI9DB70Mq+9+jGzZi2ifv0a7Nl9gD/+WEDt2lVYt24roelUfwSbyV/M4Jv3f6Vb7/ZcdeNlRJYtSezWvXw99hdGvfgFWzbEctsDzkPUm+7uxorodSyYsZwhW/bQqGUdEuITWTRnFeHFilI0rAjxpxLSrTZKtnLhevbGHqBmvSr58uFgskAPvN7K7BP+dgbLW/7Nmm+VKuXU31WtWiElOCcLCyvKZZc1B2DFivW5nreCJjQ0lKioC7ij39W88OI9LF++nlEjvk61TZuLG/PNt6/TtdslrF+3lc8//5WVKzdy7329eeiRWwAoUzYiL7Kfa1Yv2chXo3+mZbtG3PHwdVSoXJaiYUWoWa8K/3rtTspcUIpfvp7Fnp1O9UVk2Qhe+fAxut3UnvhTCfzxw98smrOKFu0a8szw+0iIT6RYiTAKZdDyZcZkp49F52vb5so1+kuBKEHnZFhRz8bf77//EoMH98nuoXyiZk2n007JksXTXR8R4QTw+Pj4XMuTgfYdnC/G6IUxadbVq1eDd959Ik36SDeYN77oQv9mLo8t+Xs1AA1bpL3OomFFqN2gGgtnr2TL+h1UqOw8BIwoXYL+j/ai/6O9Um0fs3gDqkqt+tXOe74jh46yaM6qfP1wMFmgzzXoLa8fEopIY6AhkPLUQFU/O9/2qRt/r8+0x4y/tWrViEKFQtm6dRcJCYkUKVI41foNG7YCULlyhbzIXoG1Z89BwClVeyMhIZHJk/4kJCSEHj0u82fW8lxigtMu/+jhY+muj3PTMyoRJ5vxk1Myvuyq8wfeP3+JzvcPB5MVCsnzkOMTXlXiicgwnEbVI4HLgTeAa/2YL58rU6YU3bu35+jR47z3Xuqf03/9tZS5c5dSsmRx2rfP3yWHQLR8+XpOnkz7y+T48ZO89urHAHTsmPq+nzhxiqSkpFRpiYmnefGFcezcuZe+fa+iWrXULRWCTf2mtQCYPnk+B92mh8mWzVvD+pVbKFykEHUvqgE4bf1PnUh7n2dMns/ffyylep3KtOvaMt1zeT4czK9tnz0VtFm9ewNNgaWqeqeIVMBpcJ2vDB16FytWrGPs2AksWhRDkyZ12LlzH9OmzSM0NIT//OfBlKoOgHHjvmXTJmd8kzVrNgMwceJ0Fi92fnq2bNmwwI7LMW3aAmZMiwZg//7DACxfto6nhzidoyJLR/DkU/0B+GDc9yyMjqFV60ZUqlSO8PCi7N61nzlzlhIXd5zmzesxaPANqY4fvWAVzz03hksuaULFimU5fvwks/9cws6de+nYsSX/do8dzC6+vAmNW9Vl1aL1PHHr/9Gqw0VEli3Jzi17Wfr3alSVW+67mpKlnGq7hFOJ3HvNMC5qXZcKVcoBsHb5Jv5ZvY0Klcvy+Gt3pupO7ylm8QZ279hPzXpVqFU//z4cTBYsj4+9DdAn3XkJT4tIBE6/81p+zJdflC0byYQJbzNmzDf88cc8li9fR/Hi4XTs2Jp77ulNs2apW2/MmbOE6OhVqdKWLl3D0qVrUt4X1AC9ds0WfvxxVqq07dv3sN1toxwVdUFKgL7ppisJDw9j1cqNLIyO4dSpeCIiitOwUS26dbuUG268Ik3gqFEjihbN67FoYQwHDhwhLKwI9erV4P4HbuK66ztl2BIhWISEhPDU24P4feJc5k1byqLZK4mPT6REyWI0u6QB3Xq3p8nF9VK2L1SkEJd0aca65ZtZudB52F2+cll639WVnn07EVas6HnPNX1ScDwcTBYiwVHFIc7QpJlsJDIaeBpnIOrHgWPAMlW907vT5H0ddLBL0vO3bTW+s/zA1rzOQtBrUa5njiserps2x+uYM6lL+4Ct6Mi0BO0OFvKaqh4GxorIbzgDT6/wd+aMMSY7CgVsyM2aTAO0qqqI/Ai0dN9v8XOejDEmRyRIqji8rcibLyLBOyqNMSaoFLRWHJcD94jIVuA4zuhOqqpN/JYzY4zJpmB5hOxtgO7u11wYY4wPBUsrDm8D9Muqeodngoh8jjOQtTHGBJRAr7rwlrcBupHnGxEJxX1oaIwxgSZYWnFkWFUjIkNF5CjQRETi3Dm1juJ0VJmU0b7GGJNXQkS9XgJZhgFaVV9T1ZLAm6oaoaol3aWsqg7NpTwaY0yWFLRWHFNEpMO5iao628f5McaYHCtorTj+7fE6DGgDLAY6+zxHxhiTQ4FedeEtr75oVPUaj+VKnJlp9/g3a8YYkz2+rOIQkY9FZK+IrPJIe0FEdorIMnfp4bFuqIhsFJF1ItLVI72liKx0140QL2a2ze4vgR1kcfpwY4zJLYXE+8ULnwDd0kl/R1WbucuvACLSEGdQuUbuPqPdVm8AY3BmmarjLukdM/V1eJM7ERkJJP9mCAGaAcu92dcYY3KbL6s4VHW2iNTwcvPrgK9VNR7YLCIbgTYisgVnkLl5ACLyGXA9MCWjg3lbB73I4/Vp4CtV/cvLfY0xJlflUuuMB0WkH058fFxVDwGVgfke2+xw0xLd1+emZ8jbOuhPgQnAfFX9woKzMSaQhWRhEZHBIrLIYxnsxSnGALVxahN2AW+76el9NWgG6RnytorjGuAtoAhQU0SaAS+par6al9AYUzBkpQSdeoJrr/dJaSQhIh8AP7tvdwCec4ZVAWLd9CrppGfI24eEL+A0rTvsZm4ZUMPLfY0xJleFhqjXS3aISCWPt72A5BYek4G+IlJURGriPAyMVtVdwFERaeu23uiHF72xva2DPq2qR7xoFWKMMXnOlx1VROQroBNQTkR2AMOATm5NggJbgHsAVDVGRCYAq3Ge1z2gqsnT09+H0yIkHOfhYIYPCMH7AL1KRG4FQkWkDvAw8LeX+xpjTK7ycSuOW9JJ/iiD7V8BXkknfRFZbJ7s7RfNQzjt+uKBr4A44NGsnMgYY3JLgRqLQ1VPAM+4izHGBLRAD7zeyjBAi8j/OH9TEFXVu3yfJWOMyZnQzDfJFzIrQf+cTlo1nOqNYLkHxpggUyibrTMCTYYBWlUnJr8WkVrA00AH4HUyqCQ3xpi8VCCqOABEpAFO3XNz4E3gXlU97e+MGWNMdoUWhAAtIt8CrXB6ET4GJAERye2hVfWgvzNojDFZVVBK0K1xHhI+ATzupiVfugK1/JQvY4zJtmAZsD+zOuga3hxERBqpaoxPcmSMMTlUUErQ3vocaOGjYxljTI4UtgCdSpDcjvzrjCbmdRYKhHYtxud1FoLeyW09c3yMAlHFkQXBcTeMMUGhQLTiMMaY/MjqoFNL8NFxjDEmx4IlQHs1mp2ITM8oTVXb+jJTxhiTE4VD1OslkGXWUSUMKIYzUHVpzj4MjACi/Jw3Y4zJFl8O2J+XMqviuAdnYKQoYDFnA3Qc8J7/smWMMdkXLFUcmXVUGQ4MF5GHVHVkLuXJGGNyJFgCtLe/BM6ISGTyGxEpLSL3+ydLxhiTM6GiXi+BzNsAPUhVDye/UdVDwCC/5MgYY3KoQE15BYSIiKiqAohIKFDEf9kyxpjsKxQkTwm9DdBTgQkiMhan1+C9eDFluDHG5IVg6Uno7ffMU8B04D7gAWAFEO6vTBljTE6EiHq9ZEZEPhaRvSKyyiOtjIj8ISIb3L+lPdYNFZGNIrJORLp6pLcUkZXuuhGSPLB+RtfhzcWq6hlgPrAJZwD/K4A13uxrjDG5LSQLixc+AbqdkzYEmK6qdXAKr0MARKQh0Bdo5O4z2q0SBhgDDAbquMu5x0z3Os5LROqKyPMisgYYBWwHUNXLVXWUV5dmjDG5zJcPCVV1NnDu7FHXAZ+6rz8FrvdI/1pV41V1M7ARaCMilYAIVZ3nPsv7zGOf88qsDnotMAe4RlU3AojIY5lekTHG5KGs1EGLyGCckm2ycao6LpPdKqjqLgBV3SUi5d30yji1Dcl2uGmJ7utz0zOUWYC+Eae4PlNEfgO+xsZ+NsYEuEJZGGPDDcaZBWRvpRcfNYP0DGVYxaGqP6hqH6A+MAtn4tgKIjJGRK7KPK/GGJP7cqEd9B632gL37143fQdQ1WO7KkCsm14lnfSMr8ObnKjqcVX9QlWvdg+8DLdS3BhjAo2PHxKmZzLQ333dH5jkkd5XRIqKSE2ch4HRbnXIURFp67be6Oexz3lleTxoVT0IvO8uxhgTcDJvwJaVY8lXQCecUT13AMOA13H6htwFbANuAlDVGBGZAKwGTgMPqGqSe6j7cFqEhOP0I8m0L4nNqGKMCTq+fFCmqrecZ9UV59n+FeCVdNIXAY2zcm4L0MaYoBMsPQktQBtjgo4E+Ch13rIAbYwJOkFSgLYAbYwJPr58SJiXLEAbY4JOkMRnC9DGmOAT6APxe8sCtDEm6FiAzoe+/34aQ4cOz3CbkJAQ1qxJ3cFnyZI1jBnzDcuXryM+PoFq1aK48cYu3HHH1YSGhp7nSMHt96nzWbRwDWvXbmHd2m0cP36Sntdcxv+98WC62yckJDLx2xlMmjSbHdv3Ep+QQMWKZbnk0iYMGNCTqMoXpNln+/Y9jBv7A3//vYIDB45QqlQJ2rRpxH0P3EitWpmOM5NvvDz0Flo0qUWdmpUoW6YkJ08lsG3Hfn76fRFjP5nKwcPH0t3vtt4d6HdTRxo3qEZ4WBH27D3M4hWbeOHNb9i4eXfKdu3a1GfgrZ1p2qgGFctHUjy8KLv3HmbVuu289/EUZv0Vk+q41aqUY93fmc8R3aX3C/wVvS5nF+8nQRKfC1aAbtCgFg8+mH6b80WLYpg/fwUdOrRIlT5t2nwefvg1ihYtQvfu7SlVqgQzZ0bz2msfsmTJGkaMKJg93t8f+wPr1m6lWLEwKlQsw+ZNJ8+77enTSdx158ssXbKOmrWi6NHzUgoXKUTMyk18Of43fpo0m/FfvkTtC88OVbA6ZjMDB7zEsWMnubhtI7r3uJTduw7wxx8LmDVrMR9+9CxNm9XJjUv1u4fu6sGyVZuZPmcl+w4coXh4GG1aXMhz/+rNXbd2puN1z7Fj19nRLosWLcwXYx6hZ5eWrNu4kwk//sXR46eoVKE07drUo06tSqkCdKd2jeh0aSMWLt3In3/HcPxEPFWjytLzypZcfWVLXhv+PS+9/W3K9kfiTvDyO9+lm9cqlcoyoO/l7D94lIXL/vHfTckhC9D5UIMGtWjQoFa66/r0eQKAm28+O4b2sWMneO65UYSEhPDZZ69y0UVOQHj00dvp3/8Zpk79i19+mU3Pnh38n/kA89SQflSoUIZq1SuycOFqBvb/z3m3nT5tIUuXrKNt28aM++hpQkLOjoAwauS3jB09kf/972defuXelPTnn3ufY8dO8uRTd9BvQM+U9GVL1zOg34s8PeQ9fvzpLQoXzv8f4fKNBhIfn5gm/YV/38xTD/XiiQeu59FnP05Jf/3Z2+nZpSVvjPqRF96cgDtVaIpChVL/qntr9GReeWdimuNHVSjN37++xpMPXs+4z/9g997DgBOg09se4KWn+gLw5cTZJCScztJ15qZgqeIIkqkVc2b9+q0sW7aOChXK0qlTq5T03377i4MHj9CzZ4eU4AxQtGgRHnnkdgC++urXXM9vIGhzcSOq16iEF7P2sGP7HgA6dGyeKjgDdO7s3O9DB+NS0rZv38PaNVsoU7YUt/frnmr7Zs3rcnnnlmzdupu/5i7P6WUEhPSCM8DEn51hhS+sWTElrWb18gy6vQuLlm1k2BvfpAnO4Pxi8eb4sXsOsWDxekJDQ6hZrXy623gKDQ3h9pucwshHX87IdPu8JFlYApkFaOCbb34DoHfvK1PVKc+fvwKA9u1bpNmndevGhIcXZenStSQkpP8/gHEkV13MmbOMM2fOpFr356wlALS95OwQBfv3HwagcuVyaQI6QJUqFQCYP29VmnXBpEeXlgCsWrMtJe3ma9sRGhrC+O9mE1EynL69LuOJB65j4K2dqVW9QpaOf0HZCFo3v5BTpxJY/8+uTLe/5qpWVCpfmjnz17D+n0xHysxTvpyTMC/l/9+HOXTqVDyTJ88kJCSEm25KPcT15s3OBAg1aqR9IFWoUChVqlRgw4ZtbN++m9q1q6bZxjg6dmpBlyvbMO2PaHpd+yRtL21M4cKFWB2zmSVL1nLr7d249bazVUulI0sCEBu7H1VNU0rfscMpkW/eHNhBIqseHdyT4sXDKFWyGC2a1KJdm/qsWL2Vt0affWjdsqlTRRdRshgxc4ZTrkzJlHVnzpxh3OfTeHzYJ5w5kzbwtGhSi+5XNKdQaCiVK5Wh55UtiSgRzr+e/4QDh45mmr+Bt3YG4KMvpuX0Uv2uQHZUEZHiqnrcX5nJC1OmzCUu7jidOrWiUqXULQmOHTsBQMmSxdLdt0SJ4gDExQXVLfE5EeGd4Y8xZvRE3h/zPf/8c3bmn7ZtG9Ozp1MqTFajZhQ1alRiy5ZdfDH+N26/42w1x4rlG5g5YzEAcXHpt27Irx4ZfDUVy0emvJ86cxmDHx/L/oNng2f5shEAPP/4TcyYu4qhL49n6459tGp2IaNeu4t7+1/F/oNx6dYht2hSi2cf653yPu7oCQY/MZavvp+bad6qVSlH58suYv/Bo/wwJToHV5k7gqVqwKvrEJFLRWQ17kzeItJUREb7NWe55JtvpgLQp0/3TLZMj1NKCZZva3+Jj0/giX8N55OPf+aZ5wYya/ZY5i/8mDHvP0Vs7H7693uBGdMXpdrn+RfvpkiRwrz+6qfcPfAV3npzPP9+fAT973iRWrWdXzTpVX/kZzVb3Ud4tVuo3uJe+gx6m5rVyjN/yms0a1wjZZvkL7Ldew/TZ9DbrF6/g+Mn4vnz7xhuvfddkpLO8PDdPShcOG3zzw/HTyO82i1E1ulHs86P8/m3f/Lxuw8w4tW7Ms3bwFs6ExoawhffBfbDwWQi3i+BzNtP+DtAV+AAgKouBzJsuiAig0VkkYgsGjfum5zl0k82btzG0qVrqFixHB07tkyzvkQJp+R89OiJdPc/W8Iu7r9MBoEPP5jE1N/m8/Cjfbi5TxfKXRBJiRLFaN+hOf8d/hinE5N4/dVPUu3Tpk0jvprwMl27tWX9+m2M/3wKK1du5J57e/HQwzcDULZsqTy4Gv/bu/8Ik6cu4prbX6NMZAk+fOf+lHWHjji/1n7/czmnznn4t3LNNrZs30tEyWLUv/D87cTj4xNZtzGWJ174jA/GT2PQ7V3o1aPNebcPDQ2h382dAPjoy+k5uLLcEywPCb2u4lDV7efUBSadb1t3e4+JGNcHZE3811+n/3AwWc2aVVi1aiNbtuykceMLU607fTqJHTv2UKhQKFWrVkyzrznrz1lLAaflx7nq169OqVIliI3dz+FDR4ksfbZOtV696rz9zqNp9hk10mmz26hxbf9kOEBs27mfNRt20qxxDcqWLsmBQ0fZsGkXV3ZsypEj6VerHXbTw8OKeHWO32cuY9DtXejQtiE//Jp+1UXPLi2oVKE0s+etZsOmzB8mBoJALxl7y9sS9HYRuRRQESkiIk/gVnfkV/HxCSkPB3v3vjLdbdq2bQLAnDlL0qxbuHAVJ0/G07x5fYoUKezXvOZ3iW4rF8+mdMkSEhI5ftzp5FK4SOblhYSERH6aNJuQEKF7j0t8m9EAVKlCaQCS3NYvM+c6LVca1kv7ULpIkULUruEUFrbu2OfV8aMqlgHgdNKZ824z8FZn4pCP80npGZwB+71dApm3Afpe4AGgMs7stM3c9/nWlClzOXLkGB07tkzzcDBZt27tKF06gl9+mc3KlRtS0uPjExg+fDwAt9zSI1fym5+1aFkfgA/e/zFNk8T3Rn3H6dNJNL6oNsWLh6eknzhxiqRzgkZi4mleevEjdu7cR5++V1KtWv7/5VK3dhQVLkhbVSMivPDvm6lwQSnmLVqXUjKeOmsZm7bu4cqOTejc/qJU+wx9+AYiSxVn9rzV7Nl3JCX9sosbpNtevWb18jz10PUATJmxNN38Vatcji4dmuSbh4PJCloVh6jqbX7NSS6bMMF5OOjZc/BcJUoU4+WXH+Thh1+nX7+n6dGjPaVKlWTGjAVs3ryTrl3b0aNH+9zKckCZPm0hM6YvBGD/ficYLF+2nmeGOs+OI0uX5N9P3gHA4Ht7MWvWYubPX8U1Pf5Fu8uaEhZWhKVL17FyxT+EhRVhyND+qY4fvSCGYc+Po+0lF1GxYlmOHzvJnNlL2blzHx06NueJJ2/Pxav1n6s6NeXVp29lbvRaNm3dw8FDxyhfrhTt2zagVvUK7Np7iPuf+iBl+8TEJAb9aww/jR/KpE+fYvLUhWzbsZ+WTWvTvm0D9u4/wgNDPkh1jm8/fJwjcSdYuGwjO2IPUKhQKDWrl+eqjk0pXLgQo//3GzPmrEw3fwP6Xp6vHg4mC5YZVSS9nkhpNhLZAGwGvgEmqurhrJ0msOqg//lnOz163E/FiuWYMePDTAc8Wrx4NWPHTmDZsrXExydSvXold7CkawJmsKTEM7nb1O+9Ud8y5r30uwMDREWV4/fpo1LeHzwYx0cfTmL2n0vZuWMfZ/QMF5QrzcVtGzHw7mvTDH60ZXMs777zNStXbuTggTjCwopQr151rr+hI9de1yHPWnBE1HjDp8drWLcKg+64kkta1aVypbJERhTj+Il4Nm7exZQZSxn98W8pDwY91a9TmWcevZEOlzQkMqI4e/cf4beZS3l9+A/s3H0w1bYPDOzGFe2b0KheFcqVjSA0JIS9+4+wcNlG/vfVTKbNXpFu3kJChA3zRxFVsQxNOv0r1+qfT277KscF2z0nJ3sdcyqEXxuwBWmvAjSAiLQB+gLX40wp/rWqjvfuNIEVoINRbgfogsrXAdqk5YsAvfeU9wG6fFjGAVpEtgBHcRpGnFbVViJSBqfAWgPYAtysqofc7YcCd7nbP6yqU7NxCUAW2nOrarSq/gtoAxwEPs3uSY0xxp/8UAd9uao2U9XkwXqGANNVtQ4w3X2PiDTEKcg2AroBo0Uk2z+zve2oEiEi/UVkCvA3sAsnUBtjTMDJhVYc13G2kPopTs1CcvrXqhqvqpuBjeQgVnr7kHA58CPwkqrOy+7JjDEmd/i0WlmB38V58vi+28ejgqruAlDVXSKSPBxgZWC+x7473LRs8TZA11JvK6uNMSaPSRYCtIgMBgZ7JI1zg3Cydqoa6wbhP0RkbYanTivbsTPDAC0i76rqo8BkSafdiqpem90TG2OMv4h438onda/ndNfHun/3isgPOFUWe0Skklt6rgTsdTffAXj2IqoCZHvYxcxK0J+7f9/K7gmMMSb3+aaKQ0SKAyGqetR9fRXwEjAZ6A+87v5NHhN2MvCliPwXiALqANnu4ZNhgFbVxe7LZqqaarZVEXkE+DO7JzbGGH8R3w04WgH4we2JWQj4UlV/E5GFwAQRuQvYBtwEoKoxIjIBpynyaeABVc1w3KKMeNtRZYmqtjgnbamqNvfuNNYO2t+sHXTusHbQ/ueLdtBxiX94HXMiCl8ZsB1VMquDvgW4FagpIpM9VpXEHXrUGGMCT8DG3CzJrA46uc1zOeBtj/SjQPr9Q40xJo9lpRVHIMusDnorsBUI/nEdjTFBo0AEaBGZq6qXichRUrflE0BVNcKvuTPGmGwJjunQMitBX+b+LZnRdsYYE0iy0g46kHk7FkdtESnqvu4kIg+LSKRfc2aMMdkkWfgvkHn7NTMRSBKRC4GPgJrAl37LlTHG5EhIFpbA5W3uzqjqaaAX8K6qPgZU8l+2jDEm+4KlBO3tYEmJbpvo/sA1bprNlGqMCUjpzcGYH3lbgr4Tp6ndK6q6WURqAl7OpmKMMbktOKaN9aoEraqrReQJoK6INAbWqerr/s2aMcZkjxAYc4XmlFcBWkQ64cwasAXnK6eqiPRX1dl+y5kxxmRTsFRxeFsH/TZwlaquAxCRusBXQEt/ZcwYY7KvYAXowsnBGUBV14uIPSQ0xgQkHw43mqe8DdCLReQjzg7gfxuwOIPtjTEmDxWsEvS9wAPAwzhXPhsY7a9MGWNMToQESVfvzAZLKg88DVwIrAQGqGpcbmTMGGOyLzgCdGZX8RlwHBgJlACGZ7y5McbkvYLSk7Ciqj7jvp4qIkv8nSFjjMm5wA683sosQIuIlObs1YZ6vlfVg/7MnDHGZEdBaQddCqe1hufVJpeiFajlj0wZY0zOBEcdtFezemd6EJFGqhrjg/wEDBEZrKrj8jofwczusf/ZPc7ffPU183nmm+Q7g/M6AwWA3WP/s3ucj/kqQAdHhY8xxgQQXwXonNeTGGOMSSU4atL9w+rt/M/usf/ZPc7HfPWQcL6qtvVBfowxxri8ndV7ekZpFpyNMcb3MhuLIwwoBpQ7p8NKBBDl57wZY0yBlllHlXuAR3GCsWeHlTjgPf9lyxhjTIZVHKo6XFVrAk+oai1VrekuTVV1lK8zIyJJIrJMRFaJyLciUiwHx/pERHpnsH6WiCzyeN9KRGZl93wZnGeAiER5vP9QRBr6+jzZlZ/vuYg8mp38ZpZPX8qD+7tORJaLyF8iUi8b5/hVRCLd5X6P9CgR+S67eTfZ420rjjMiEpn8RkRKe/7j+dBJVW2mqo2BBJxxqFOIiK9ngiwvIt19fMxzDcCjOkhV71bV1X4+Z1bk53v+KE4VXBp+yHd25fb9vU1Vm+LMIfpmVndW1R6qehiIBO73SI9V1Vz5UjNneRugB7n/aACo6iFgkF9ydNYc4EIR6SQiM0XkS2CliISKyJsislBEVojIPeCM6iQio0RktYj8ApT34hxvAs+em5jBOUJEZLSIxIjIz25po7e77nl3+1UiMs7NT2+gFfCFW4oKd0s5rUTkPhF5w+OcA0RkpPv6dhGJdvd5PxeDTSDe804i8rPHdqPce/UwzhffTBGZ6a47JiIvicgC4JL0/k1yeoNyKDfub7LZ7rnEPfYqEVkpIn3cY1cSkdlytnTf3k3fIiLlgNeB2u76N0WkhoiscrdZICKNkk/kfqZbikhxEfnYvY6lInKdT+5aAeZtgA7x/HC7AaOIf7IEIlII6I4zSQBAG+AZVW0I3AUcUdXWQGtgkIjUBHoB9YCLcL48LvXiVPOAeBG5/Jz0853jBqCGe467gUs89hmlqq3dklI4cLWqfgcswinVNFPVkx7bf+ceL1kf4BsRaeC+bqeqzYAknCnG/CqA73m6VHUEEAtcrqrJxyoOrFLVi1V1Lun8m3iRP7/Ixfub7Br3XDcAzYCmQBfgTRGpBNwKTHU/Y02BZefsPwT4x/3c/vucdV8DN7vXVQmIUtXFwDPADPc6LnfPVTwLeTbn8DZATwUmiMgVItIZZ0bvKX7IT7iILMMJatuAj9z0aFXd7L6+CujnbrcAKAvUAToAX6lqkqrGAjO8POfLpC3Rne8clwHfquoZVd0NzPTY53K3ZLES6Aw0IgOqug/YJCJtRaQszv+IfwFX4MyWvtA9/xX4d9TAQL/nWZEETPR4n6V/Ez/J7fv7hXucdsATOJ/Z5GPsAf7E+RJYCNwpIi8AF6nq0Sxc0wTgJvf1zcC3HtcxxD3/LCAMqJaF45pzeDsn4VM4g67ch9OSYylQyQ/5Oel+o6dwC+7HPZOAh1R16jnb9SAbXc5VdYaI/AfwbMt9vnP0TO8Y4jRHHA20UtXt7oc+zIvTf4PzAV8L/KCq6v5S+VRVh2b1WrIp0O/5ZaQuSGR0X0+papK7X3b/TXwtt+/vbarq+SA23WodVZ0tIh2AnsDnIvKmqn7mzQlUdaeIHBCRJji/9u7xuI4bVXVdFvNszsOrErSqngHmA5tw6lSvANb4MV8ZmQrcJyKFAUSkrvszajbQ163Pq4TzE8tbrwBPenGOucCN4tRFVwA6udsn/4+/X0RKAJ4PU44CJc9z3u+B64FbcII1wHSgtzjzQSIiZUSkehauxR/y8p5vBRqKSFERKYXz2UuW0b3N6N8k0Pjj/iabDfRxj3EBTqk82v1M7VXVD3BK9S3O2S+jewtONceTQClVTa62mQo8lPylICLNs5Ff4yGzjip1gb44AeQAbhDxqPPLCx/i1AMvcT8I+3CC3A84P2NXAutxfsp5RVV/FZF9XpxjIk6AWOWeYwFO3eFhEfnAPfcWnJ+PyT4BxorISVLXWaOqh0RkNdBQVaPdtNUi8izwu4iEAIk4M6pv9fZ6/CDP7rlb+p0ArAA24Px6SzYOmCIiu879TGbybxJofH5/PfyA87lbjlMaf1JVd4tIf+DfIpIIHAP6ee6kqgfEaaq3Cqc689x+D9/hzFH6H4+0/wDvAivc69hCHtb7B4MMx+IQkTM4T57vUtWNbtomVS2wM6mISAlVPebWG0fjPMzbndf5MsYEn8zqoG/EKUHPFJHfcH7W5HVTpbz2szhtwosA/7HgbIzxF69Gs3Prw67HqerojNMI/gdV/d2vufMBEfkBOLe51lPnPpAxvmP33L/s/hYcWR5uVETK4DSx6aOqnf2SK2OMMb4ZD9oYY4zv2YwqxhgToCxAG2NMgLIAbYwxAcoCtDHGBCgL0MYYE6D+H1ZIvF/5W0sBAAAAAElFTkSuQmCC\n",
      "text/plain": [
       "<Figure size 432x288 with 2 Axes>"
      ]
     },
     "metadata": {
      "needs_background": "light"
     },
     "output_type": "display_data"
    }
   ],
   "source": [
    "# Here's the heat map for the second Naive Bayes model\n",
    "cm4 = conf_matrix(y_test, y_pred_cv2_nb)"
   ]
  },
  {
   "cell_type": "markdown",
   "id": "5592e7db",
   "metadata": {},
   "source": [
    "## KNN Classifier"
   ]
  },
  {
   "cell_type": "code",
   "execution_count": 114,
   "id": "1cacd554",
   "metadata": {},
   "outputs": [],
   "source": [
    "from sklearn.neighbors import KNeighborsClassifier\n",
    "# Fit the first KNN model\n",
    "knn = KNeighborsClassifier(3)\n",
    "knn.fit(X_train_cv1, y_train)\n",
    "\n",
    "y_pred_cv1_knn = knn.predict(X_test_cv1)"
   ]
  },
  {
   "cell_type": "code",
   "execution_count": 115,
   "id": "af332619",
   "metadata": {},
   "outputs": [
    {
     "data": {
      "image/png": "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\n",
      "text/plain": [
       "<Figure size 432x288 with 2 Axes>"
      ]
     },
     "metadata": {
      "needs_background": "light"
     },
     "output_type": "display_data"
    }
   ],
   "source": [
    "cm5 = conf_matrix(y_test, y_pred_cv1_knn)"
   ]
  },
  {
   "cell_type": "markdown",
   "id": "ffd6a358",
   "metadata": {},
   "source": [
    "## Try using TF-IDF instead of Count Vectorizer"
   ]
  },
  {
   "cell_type": "code",
   "execution_count": 116,
   "id": "92d2a7b8",
   "metadata": {},
   "outputs": [],
   "source": [
    "# Create TF-IDF versions of the Count Vectorizers created earlier in the exercise\n",
    "from sklearn.feature_extraction.text import TfidfVectorizer\n",
    "\n",
    "tfidf1 = TfidfVectorizer(stop_words='english')\n",
    "X_train_tfidf1 = tfidf1.fit_transform(X_train)\n",
    "X_test_tfidf1  = tfidf1.transform(X_test)"
   ]
  },
  {
   "cell_type": "markdown",
   "id": "8029c5e0",
   "metadata": {},
   "source": [
    "## Logistic Regression"
   ]
  },
  {
   "cell_type": "code",
   "execution_count": 117,
   "id": "9f580af0",
   "metadata": {},
   "outputs": [
    {
     "data": {
      "image/png": "iVBORw0KGgoAAAANSUhEUgAAAWgAAAD7CAYAAABHYA6MAAAAOXRFWHRTb2Z0d2FyZQBNYXRwbG90bGliIHZlcnNpb24zLjQuMSwgaHR0cHM6Ly9tYXRwbG90bGliLm9yZy/Z1A+gAAAACXBIWXMAAAsTAAALEwEAmpwYAABClElEQVR4nO3dd3hU1dbA4d9K6CX03kGQKkhHAWmKIl5URMCGXhTbtX0WFL22q2IvKIioSBELFhRRQaoUaaH3IjX0ToIhpKzvj3MSJiRMJslMMkzW63OezOzT9hnimp1dRVUxxhgTfMJyOwPGGGPSZwHaGGOClAVoY4wJUhagjTEmSFmANsaYIGUB2hhjglS+nLjJPwkLrC9fgBUML57bWcgTYhMO53YWQl6x/F0ku9coXL2/zzEndtfX2b5foORIgDbGmJwkEhqVAxagjTEhR0Kk9tYCtDEm5ISFhUZoC42nMMYYDyJBW62cKRagjTEhyKo4jDEmKFkjoTHGBCkL0MYYE6TCJDRCW2g8hTHGeLAStDHGBCkL0MYYE6SE0OhmFxpfM8YY40EkzOfN+3WkkIgsEZFVIrJORF5y018UkT0istLdenic84yIbBWRTSLS3SO9hYiscfcNEx86a1sJ2hgTcvxYxREHdFHVGBHJD8wXkd/dfe+p6tup7ysNgX5AI6AyMENE6qlqIvAxMAhYBPwGXA38jhdWgjbGhByRfD5v3qgjxn2b3928zZTXC/hGVeNUdTuwFWgtIpWACFVdqM5K3eOA6zN6DgvQxpiQ468qDudaEi4iK4GDwHRVXezu+o+IrBaR0SJSyk2rAuz2OD3KTavivj433SsL0MaYkJOZAC0ig0Qk0mMb5HktVU1U1WZAVZzScGOc6oo6QDNgH/BO8q3TyY56SffK6qCNMSEnM9ONquooYJQPxx0XkTnA1Z51zyLyKTDFfRsFVPM4rSqw102vmk66V1aCNsaEHD/24ignIiXd14WBbsBGt0452Q3AWvf1ZKCfiBQUkVpAXWCJqu4DokWkrdt74w7g54yew0rQxpiQ48fpRisBY0UkHKdAO1FVp4jIeBFphlNNsQO4F0BV14nIRGA9kAA86PbgALgfGAMUxum94bUHB1iANsaEIH/NxaGqq4FL00m/3cs5rwKvppMeCTTOzP0tQBtjQo4N9TbGmCBlAdoYY4KULRprjDHBykrQxhgTnMLCwnM7C35hAdoYE3KsisMYY4KUNRIGqePHY5g1Yznz565i6+Y9HDx4jPz583FR3Sr864b29LqhPWFhZ//xnh/yOb/8vMDrNVu3acAno59MeT950nxeeG70eY8f8vzt9OnbOfsPE8SmTV3I0qXr2bhxB5s27uTUqVh6XteBN996OM2x8fEJfPP1NDZs2MGGDdv5++8oEuITefl/93FTn67pXr9blwfYu/eQ1zw89HBf7n/gJr88T7Aa9u4k1q/bya4dBzl+PIaCBfNTqXJpOnVpys23dKJkyWJpzlFVpkxexC+TFrJl8x7i4uIpUzaCho1r8MBD/6JGzQopx65c/jd/zl5F5JLN7N17hFMxpylXvgSt2lzMXXd3p1r18jn5uP7jv4EquSrkAvT0aUt57eXxlC1XglatG1CxUmmOHjnJzBnLePn5MSyYt4a33nsgZaRR566XUrlKmXSv9esvC4nafYjLOzRJd3+nLpdycf1qadIbNqrpt+cJViNH/sCmjTspUqQQFSuWYdu2Pec9NjY2jqGvjQGgTNkSlC1bkv37jni9/h0DruXkyVNp0lWVTz+dREJ8Ih06pBk/EHImjJtJ/YbVaNOuPqXKFOd07BnWrNrOJyN+5cfv5zNmwlNUrFQ65fi4uHgG/9+nzPtzDTVqVeDqa1tRpEghDh06zsrlW9m542CqAP3UY6M4diyaS5rV5pprWxEeHs6aVdv4+ce/+OP3ZYz49GEuaVY7Nx49e0KjAB16AbpGjYq8/9HDdLjiklQl5f880pvb+/2PmdOXMXP6Mrpd1RKAzl2b07lr8zTXiT75D2NHTyV//nxcd/3l6d6rc5dL+dcN7QPzIEHu6afvpELFMtSoUZGlS9Zz54AXz3tsoUIFGDlqCA3q16Rc+VJ89OFERgz/zuv17xhwbbrp8+etJCE+kQYNa9G4SZ3sPMIFYe7i9yhYMH+a9OEf/MzoT6fyxWfTeOa//VPS33vre+b9uYa77u7OAw//K9X/AwDx8Ymp3t9yRxeuva4N5cqXTJU+etTvDB82mVdemsDESf/13wPllBApQYfI98xZrds24IrOzdL8YpYtV4Kb+nYCIHLppgyvM+WXvzh9+gxdujWnVKnigcjqBa1N28bUrFnJpzkPChTIT8eOl1KufKkMj83IdxNnAHDzzVdm+1oXgvSCM8CV3VsAsHvnwZS03bsO8cPEeTRqXIMHH+mV5v8BgPz5U/duuHNg9zTBGWDAwO4ULJSfv7fs5fjxmDT7g164+L4FsZArQXuTL5/zy5kvPOPvpUnfzwWgd58rznvMpo27mDDuD+Li4ilfoRStWtenQsXS5z3eZM/hw8eZPSeSIkUK0bNn3vzLJdncP1cDcNHFZ+d8n/b7UpKSlJ692hITc5p5c1azf/8xSpYsSqs2F2eqPlkE8oWHE0c84ekE+mCnIVKCzjMBOiEhkSmT/wLgsvbp1yknW7VyK1s2R1GjZgVatWlw3uO++nJGqvfh4WFc37sjTz7d/7wlH5N1P/4wm4T4RG64vhNFixXO7ezkqHFfTCf2nzhiYmJZv24nK5f/Td16VbhrYMqapKxfuxOAmOhYel3zX04cP1uHLyLc1LcDTz7Tl3AfCigzpi3n1KnTNGlai+IRRfz/QIEWGvHZ9wAtIu2Buqr6hYiUA4q5a25dEIa99z1bt+yhfcdLuKy99wmlfvzuTwBuvCn90nPlquUYPORW2l3eiPIVShETE8vK5Vv48L0f+GHiHE7FxDL0rXv9/gx5maryw/czAeiTR6o3PH05ZgZHjpxMeX9Z+4a8+MoASpU+W/129Gg0ACOHT6F12/o8+sSNVK5ShrVrdvDaS1/x3TdzKVWqOPc+2NPrvfZEHebNod8Sni+Mx57oHZgHCrSw0IjQPv3tIiIvAIOBZ9yk/MCXgcqUv3315XTGj5lGrdqVeGXo3V6PjY7+hz+mLfXaONiy1cX0u7UrNWpWpHDhgpQrV5Iru7di1BdPERFRlKm/LWbTxl2BeJQ8a+Ffq9m9+wAN80jj4Ln++PMNlq39mD/mvMFb79/LnqjD3NLnNTasP/t7lpSYBEDZsiV4+4N7uahuFYoUKUTrNvV5891BhIUJE8bNJD4+4bz3OXrkJA/d/xHHjsbwxNM30/TSC/SzFvF9C2K+Vi7dAPwLOAWgqnsBry1nnut8jf40w4UDAubbr2by1tCvqV2nMqNGP0WJdPqNevrtl4Wcjs1a42DFSqVp39GpPlm+bHOW82zSmug2DubF0rOnMmUj6NKtGcNHPcyJ46d4YciYlH3JVRHt2jekUKECqc6rV78qlauU5dSp02z/e3+61z565CT3DXyfndsP8MTTfbi53/nbX4JeHmskPKOqKiIKICJFMzrBc52vfxIWZLg4YiBMGPcHb7/xDRfVrcInnz9J6TIRGZ7zo9s4eNPNnbJ0z+SgHvtPXJbON2kdOXKCWbOWWuOgh0qVy1C7TkU2bYzi2LEYSpUqRo2aFVj01waKF0+/fj7CDeBxcWfS7Dt06AT3D3yfHdsPMPi5fhd2cIagLxn7ytcS9EQR+QQoKSL3ADOATwOXrez74rPfePuNb7i4fnVGffGUT8F5zeq/2bxpNzVqVqBl6/pZuu+aNdsAqFqtXJbON2lN+tFpHLz22svzXOOgN4cOngAg3K1vbd3W+Z39e2vatUjPnIln1y6nS16lcwZmHdh/jEF3vsuO7QcY8nz/Cz84g9NI6OsWxHwK0O4Ktt8DPwAXA8+r6oeBzFh2jPp4MsPe+54GjWrwyedP+FxV8UNy46CXrnWQfvWFqvL5p7+yeuXflCxVLMOeIsY3qsr3buPgzX3zVvXG9m37OXz4RJr0pKQkhn/wM0ePRtO0WW0iSjh/0F7eoRFVqpZl4YINLPprQ6pzPhv5GzHRsbRoWZeyZUukpO/bd5R77nyXqN2HeP7l27ixT4fAPlROCRPftyDmUxWHiDwGfKeq0wOcn2yb/NMCPv7oJ8LDw2jevB5fT5iR5pjKlcumGQEYExPLH7+7jYO90m8cTDbwjtepUbMCjRrXonz5UkTHxLJqxRa2btlDocIFeO2NQRQL8ZLejBlLmDVjCeD0TwZYtXIzQ57+CICSpSJ4avAdKcd/OmoS293h4Bs27gCckvHyZU4gad6iQbrzcixatJZdO/fTsGEtGjW+QBussmjhgnW8/86PNG9Rl6rVylGiRFGOHjnJssgt7Ik6TJmyETz30m0px+fPn4+XXhvAg4OG8fD9H9GpazMqVSrN+nU7WR65hVKli/Hsi7emusegO99l754jNGhYnX17j/LJ8Clp8nHd9e3OOx1C0AruuOszX+ugI4BpInIU+Ab4XlUPBC5bWbd3jzPBTmJiEhPGp/990qLVxWkC9G9TFhEbG0f3a1pnWOK+466rWbtmG0sWb+DkiVOEhYVRsVJp+vbvwm0DrqJqtQt0gplM2LhhBz/99GeqtN27D7B7t/NrUblyuVQBev68lSxduj7V8StWbGLFirOjOtML0N9NdP4N82LjYOu29bnxpvasWrGNzZuiiImOpVDhAtSoUYFrr2tDv9s6U6JE6uagS5tfxJffPsOoEb8SuXQT0SdjKVMmghv7tOfue3tQoWLq0Zx79zhzomxYvytVjxBPLVrVu+ACtL8GqohIIWAuUBAnXn6vqi+ISGngW6AmzqreN6vqMfecZ4CBQCLwsKpOc9NbcHZV79+AR1TVa/ucZLD/3MxeAvQFegNRqtrNl/Nyq5EwLykYbsPRc0JswuHczkLIK5a/S7aj60XXjfE55mz95c7z3k+cuQyKqmqMiOQH5gOPADcCR1X1dRF5GiilqoNFpCHwNdAaqIzTXldPVRNFZIl77iKcAD1MVX/3lrfMjuE8COwHjgChX0w0xlyY/NQPWh3Jk5HkdzcFegFj3fSxwPXu617AN6oa5w7k2wq0FpFKQISqLnRLzeM8zjkvXweq3C8ic4CZQFngHlW9xJdzjTEmx/mxkVBEwkVkJU4BdbqqLgYqqOo+APdncoG1CrDb4/QoN62K+/rcdK98rYOuATyqqit9PN4YY3JPJipJRGQQMMgjaZQ7jgMAVU0EmolISWCSiHibKyK9O6uXdK+8BmgRiVDVk8Cb7vtUU7Wp6tGMbmCMMTkuE42EnoPqMjjuuFuTcDVwQEQqqeo+t/oied7XKMBzFY+qwF43vWo66V5lVMXxlftzGRDp/lzm8d4YY4KPn+qgRaScW3JGRAoD3YCNwGRggHvYACB5PovJQD8RKSgitYC6wBK3GiRaRNq6DY93eJxzXl5L0Kra0/1ZK6MLGWNM0PDfHBuVgLEiEo5ToJ2oqlNEZCHOCOuBwC6gD4CqrhORicB6IAF40K0iAbifs93sfnc3r3wdqDJTVbtmlGaMMUHBT/FZVVcDaRa/VNUjQLrxT1VfBV5NJz0S8D7X8TkyqoMuBBQByopIKc4+dgROHz9jjAk6GuRDuH2VUQn6XuBRnGC8jLMB+iQwPHDZMsaYbAiR2ewyqoP+APhARB4K5smRjDEmldCIz77VQavqh27fv4ZAIY/0cYHKmDHGZJkP6y5eCHxtJHwB6IQToH8DrsEZk24B2hgTfEKkBO3r18xNOC2W+1X1LqApzuxOxhgTfPLSfNBArKomiUiCiETgjJqpHcB8GWNM1gV54PWVrwE60h1N8ylOb44YYEmgMmWMMdmhoRGffW4kfMB9OVJEpuJMm7c6cNkyxphsyEslaBFpnk5aHWCnqib4PVfGGJMdeakXBzACaA6sxmkfbey+LiMi96nqHwHKnzHGZF5oxGefH2MHcKmqtlTVFjhj09fizOz0ZoDyZowxWeOn2exym68l6Pqqui75jaquF5FLVXWbBPkDGmPyoLxUBw1sEpGPcVb0Bmfh2M0iUhCID0jOjDEmi/y1qndu8zVA3wk8gDNxkuCMInwCJzh3DkTGjDEmy0KkDtrXbnaxIjICmKKqm87ZHZPeOcYYk2tCpBeHr6t6/wtYCUx13zcTkckBzJcxxmRdiAz19vVr5gWgNXAcwF3du2ZAcmSMMdklmdiCmK910AmqesJ6bBhjLgR5ZUWVZGtF5BYgXETqAg8DfwUuW8YYkw0hEqB9reJ4CGgExAFf4yx59WiA8mSMMdkTLr5vXohINRGZLSIbRGSdiDzipr8oIntEZKW79fA45xkR2Soim0Sku0d6CxFZ4+4bJj5USfjai+Mf4Fl3M8aY4Oa/6tgE4HFVXS4ixYFlIjLd3feeqr6d+rbSEOiHU6CtDMwQkXqqmgh8DAwCFuEsfHI18Lu3m2e0qvcXgJ5nt6rqQK+P5ioUXsqXw0w2xCedyu0s5Ak7Y/7J7SyEvEb+CBd+quJQ1X3APvd1tIhsAKp4OaUX8I2qxgHbRWQr0FpEduDMAroQQETGAdeTnQANTEknrTpO9UZ4BucaY0zuCEAdtIjUxJmHaDFwOfAfEbkDiMQpZR/DCd6LPE6LctPi3dfnpnvltQ5aVX9I3oAVOGsR3g+8jq2oYowJUiri8yYig0Qk0mMbdO71RKQY8APwqKqexKmuqAM0wylhv5N8aHrZ8ZLuVYZ10CLSAKfu+VLgLeA+mwPaGBPUMjGQUFVHAaPOt19E8uME5wmq+qN7zgGP/Z9ytrYhCqjmcXpVYK+bXjWddK+8PoaIfIdTmb0QZ1XvyUCEiJQWkdIZXdwYY3JFeJjvmxduT4vPgQ2q+q5HeiWPw27AmX4ZnBjZT0QKikgtoC6wxK3LjhaRtu417wB+zugxMipBt8Iphj8BPJ6cN/enYtUcxphg5L866MuB24E1IrLSTRsC9BeRZjhxcAdwL4CqrhORicB6nB4gD7o9OMCpHh4DFMZpHPTaQAgZBGhVrenLE4hII8/5oo0xJlf5KT6r6vzzXO03L+e8CryaTnokzmpUPvPXlE/j/XQdY4zJNg0Tn7dg5utQ74wE91MaY/KWEJk3yF8BOsPuIsYYk2OCvGTsK38FaGOMCRphITKMzl8B+oyfrmOMMdkWIjUcPq+oMtNbmqq29WemjDEmO0R834JZRpMlFQKKAGVFpBRnGwMjcGZqMsaYoBMqi4tkVMVxL87ESJWBZZwN0CeB4YHLljHGZF2IxOcMB6p8AHwgIg+p6oc5lCdjjMmWUGkk9HWgSpKIlEx+IyKlROSBwGTJGGOyJ1TqoH0N0Peo6vHkN+68p/cEJEfGGJNNYeL7Fsx87WYXJiKiqgogIuFAgcBlyxhjsi7YS8a+8jVATwMmishInFGD9+HDTEzGGJMb8lqAHoyz2OH9OD05VgCVvJ5hjDG5JK90swNAVZNEZBHO/M99gdI4KwwYY0zQCZVeHBkNVKmHs4R4f+AI8C2AqnYOfNaMMSZrQqQAnWEJeiMwD7hOVbcCiMhjAc+VMcZkQ6gE6Iy62fUG9gOzReRTEemKzf1sjAlyodLNzmuAVtVJqtoXqA/MAR4DKojIxyJyVQ7kzxhjMi1PDVRR1VOqOkFVe+IsF74SeDqQGTPGmKzKUwHak6oeVdVPVLVLIDJkjDHZFRYuPm/eiEg1EZktIhtEZJ2IPOKmlxaR6SKyxf1ZyuOcZ0Rkq4hsEpHuHuktRGSNu2+Y+NAXME+tqDLpx1kMGeJ9zqewsDDWrU/dg1BV+fmn2fz44yw2b97J6dNnKFu2JE2aXMTDj9xCrVpVApntoHP8eDQzZ0Qy78+VbNm8m4MHj5E/fz7q1qtGrxs6cv0NHQkLO/vdHx+fwLffzGDThp1s3LCTv//eQ0JCIi+8PJDeN6XfISgyciM/fjebDRt2cvjQcWJj4yhbriR161Xl1tu607ZdphZHvqBFLljPr9/OY/f2A8ScPEWpMhHUrl+Vf/W/goub1Exz/MbV2/n+ixlsXreTM3EJVKpali7XtaZHn/aEh6ctkx0/Gs3kCXNYtnAjh/YfI1++cMpXKk37K5vR/YZ2FC5aKAee0r/8WDJOAB5X1eUiUhxYJiLTgTuBmar6uog8jVOjMFhEGuL0fGuEMwvoDBGpp6qJwMc440kW4awKfjUZDPjLUwG6foNaPPhg33T3LVu2nkWL1tChw6Wp0uPizvDoI28xZ04ktWpV4dprO1C0aGEOHjzKsmUb2LFjb54L0H9MXcIrL39BuXIladW6IZUqleHIkRPMnBHJi//9jPnzVvHOew+nDBaIjY3jzaFfAlCmTAnKli3J/v1HvN5jyaJ1LFm8niaX1KFNm4YULlyQffuOMGf2cv6cvYJB9/XiPw/3Cfiz5rZxH03hpy9nU7xEEVp3bExEyaLsizrC0rnrWDR7DQ8/358rrmmRcvySuWt585mxFCiQj8u7NaNYRBEi56/ji/d/ZuPq7Tz52oBU1z+49yiDB37AiWMxNG5eh+bt6nMmLp5VSzYz7qMp/Dl1Ga9/9ggFC+XP6UfPFn8FaFXdB+xzX0eLyAagCtAL6OQeNhanjW6wm/6NqsYB20VkK9BaRHYAEaq60MmfjAOuxwL0WQ0a1KJBg1rp7uvXdzAAN/dN3fb5xhtfMGdOJIMG9eaRR29JVTIEp3SY19SoWZFhw/+Pjlc0S/V5PPzozdzS9wVm/LGUGdOXcuVVrQEoXKggw0c+Sf0G1SlXrhQjPvqBkSMmeb3HwHuu44H/9E6TfuDAUfre9ByfjZpM3/7dKFeuVDpnh4ZjR04y+as5lCxdnHe/fJySpYun7FuzbCsvPPgx33w6NSVA/3PqNCOGfkdYmPDyiAe4qEE1APoPupoX/vMxC2etZv70FbS/8mwh5KcJszlxLIa+d19F37tT/honMTGJlx/5hDWRW/lr1io692iZQ0/tH4HonSEiNYFLgcVABTd4o6r7RKS8e1gVnBJysig3Ld59fW66V5mugw5FmzfvZNWqzVSoUIYrrjhbGtm1ax/ffvMHTZpcxKOP3ZomOAPkz5+nvuMAaNO2EZ06N0/zeZQtV5I+fZ2micglG1LS8xfIR4eOTTMVTAsWTH8urgoVStOsWV2SkpSo3YeykPsLx6F9x0hKUuo2qp4qOAM0aXERhYsU5MTxUylpC2et4uSxGNpfeWlKcAYoUDA/t9x7DQBTf/wr1XUO7DkKQKsOjVKlh4eH0eKyhgCcPBbjv4fKIZlpJBSRQSIS6bENSns9KYYzevpRVT3p7dbppKmXdK/yXnRJx8Rv/wCgd++uhIefHSP666/zSUpKotf1nYmJ+YfZs5eyf98RSpYsTpu2TahRw6YjOVe+fM7nF54vMGNtjxw5wZrVf1OgQH5q1grtz79StXLkyx/OlvW7OHk8hoiSxVL2rVvxN7H/xNH6irN18WsitwJwaduL01yrYbPaFCxUgE2rdxB/JoH8BZz/9avVrsCKRRtZtmADtS+umnJ8UlISyxduICxMaNLyokA9YsBkZqi3qo4CRp1vv4jkxwnOE1T1Rzf5gIhUckvPlYCDbnoUUM3j9KrAXje9ajrpXuX5AH36dBy//PInYWFh3NTnylT71q7ZAkBM9D9cdeX9HD8enbJPROjXvzvPPnt3qqCelyUkJPLL5PkAXN7+Er9cc93abfw5ZwWJiUkcOHCUObOWc+pULE8/ewelShXP+AIXsOIlinD7gz0Z88FkHu7/Fm06NqZ4iSLs33OEpfPW0bR1Pe4bfFPK8Xt2OX9RVK5eLs21wvOFU75yaXZv28+BPUeoWqsCANff1pllC9bz9aiprF2+ldoXVyUhPpGVizdx/Gg09w+5OVXgvlD4a7Ikt6fF58AGVX3XY9dkYADwuvvzZ4/0r0TkXZxGwrrAElVNFJFoEWmLU0VyB5DhKlV5PkBP/X0BJ0+e4oorWlCpUtlU+44cOQHAhx9+Tbt2TXnyqQFUqVKeNWu28MILI/n6q6mULlWC/zzULzeyHnTef/dbtm6JokPHpn4M0NtT1VcXLVqIl18dxHX/au+X6we76/p1pHylUgx/9Vum/3y2arNS1bJ0vrZVqqqPf2JiAShStHC61yri9sY45R4HULJ0cV7/7BE+euVbFv+5JqUULiJ069WGpq3q+v2ZcoIfe3FcDtwOrBGRlW7aEJzAPFFEBgK7gD4AqrpORCYC63F6gDzo9uAAZzbQMUBhnMbBDKdszmiypObe9qvq8oxuEOwmTpwOQN++3dPsS0pKAqBcuVJ8+NFgChUqCEDbtpfwwQdP0vvGJxgzZjKD7u1NgQIXViu3v00YP41xY36jVu3KvPb6/X677s39unJzv67ExZ1hT9QhJn47k2efHsnK5Zv574v/9tt9gtWk8bOYMPJ3ru3Tnmv6tKdUmeJE7TjIhI9/5f0XJrBj8x7ueOg6H6/mVnl6RK+De48y9MnRnImL57l376Z+01rEnT7DkrnrGDtsMkvnrmPoZw9RoXIZ/z9cAPmxF8d8zj+9RdfznPMq8Go66ZFApvqHZlSCfsfLPgUu6MEqW7fuZsWKjVSsWIaOV6T9LoqIcOr82ne4NCU4J6tfvxZVq5Zn1679bNsWRf366fcOyQu++Wo6bwwdT506Vfh09DOU8Kgr9ZeCBQtQu04Vnh5yB/FnEvhu4izatGvMVd1b+/1ewWLtsq2MH/4rba5owl2P9kpJr1O/KoPfuIsH+7zO5K//5KobL6NilTIUKeaUnP85FZvu9f45FQc4f4Uk+/B/37Dz7328O/5xatatDDgl7e43tCP+TDyj3/uZiZ/9wUPP9w/UYwZEsI8Q9FVGc3F09rJ5Dc6eLaOjRk30b679ZOK30wDo3btbuvXIyf2bI4oXTff85AB++vSZAOUw+I0fN5XXXhnLRXWr8tmYIZQtVzLg92zfoSkAkUs3ZHDkhS1ywXoAGreok2ZfwUIFqNuwOklJyvZNewCo4tY9792VtndLYkIiB/ceJTw8jApVnNJw7KnTrFvxN8UiiqQEZ0+NmzuNg39vikqzL9jlicmSPIlIYxG5WUTuSN68Ha+qo1S1paq2HDTo5uzn1M/i4s4webLTONj7pm7pHtO2XRMAtmzZlWbfmTPx7NzpNMJWqVI+zf68YPRnv/DW619Sv34NPh/zLGXKlMiR+x446HQNS29UXCiJP+P0sT/p0ZXO08njTve3fPmdwkVyb4sVizalOXb9ym3EnT7DxZfUTOnBkZDgVI3Gnjqdbn/+lOvnu/CaqvKFqc9bMPPpN1xEXsBpcfwQ6Ay8CfwrgPkKuKlT/+LEiRg6dmyepnEwWYcOzalWrQLz569kwYKVqfaNGDGR6Oh/aNWqUUgPljifTz6exPvvfkvDRrX4dPQzfu9REbl0Q0obgKfduw7w2SeTAeh4RTO/3jPYNGxWG4DpPy3iyMETqfYt/2sDG1fvoEDBfNS/pCYA7bo0JaJkUeZPX8HWDbtTjj0TF89XnzjtUVffeFlKevESRalaswKJiUl8N3p6quufiYvn+y9mAHDJhdjNLkRK0OIu1O39IJE1QFNghao2FZEKwGeq6lPrRJKuD7qvqdtuHcKyZRsYMWIInbu0Ou9xy5at5+6BLxEfn0C3bm2oXNnpxREZuZ7SpSP4csJrQTHUOz4p/VJWIPz801z+O2QU4eFh9L/1KooVS9troEqVcvS6oWPK+88/ncz27fsA2LRhJ5s27aLZpXWpXqMiAJc2r5dqXo7L2wyiePEiNLmkDhUqliExMZHduw/y1/zVJCQkcsutV/H0s17/iAuIrScP5Ni9kpKSePmRUaxeuoXCRQrSplMTSpYuTtSOAyxbsAFV5d+P9aJn37Of8+I/1/DWkHEpQ72LRxRh6fx17Nl5iHZdLuGJV+9I1QVt1ZLNvPr4ZyTEJ1K3UXXqN6nJmbh4lrvzclSqWpbXP3+Y4iXSr+YLhEalemY7bF77x3yfY86vV7UP2jDta4BeoqqtRWQZTgk6Glirqo0yOBUIvgD999+76Xntw1SsWIYZMz/JsB/z1q27GT78W5YsXkN09D+UKVOCjh1bcP8DfahYMf3Sd07LyQDty1Dtlq3qM3rscynv/z3gFSKXbjzv8f+6vgOvvHZvyvsvx09l4YI1bN0SxbFj0SQmJlGmTAmaXFKHG2/q5LdufJmVkwEanGqI379fwPzpK4jafoC4uHiKRRShbsNqXHtzB5q1STsoZcOq7fwwZgab1u4k/kw8FauWpWvP1vS4uUO61UI7tuzl5wlzWLfib44fiSYsXKhQuQytOjbmhts6U7R4+t32AsUfAfq66fN8jjm/XNnhgg/QI3D6/vUDHgdigJWqepcvNwm2AB2KcjJA52U5HaDzIn8E6F4zfA/QP3cL3gCdYe2/O5JmqKoeB0aKyFScWZlWBzpzxhiTFfmCNuRmToYBWlVVRH4CWrjvdwQ4T8YYky0iofFHu6/9lBaJyPlb0owxJoiESi8OXzs4dgbuFZGdwCmcoY+qqrnTUmOMMV6ESg95XwP0NQHNhTHG+FFYiFRx+BqgX1HV2z0TRGQ8zixPxhgTVIK96sJXvgboVP2dRSQct9HQGGOCTaj04vBaVeMuHx4NXCIiJ90Jp6NxVg/42du5xhiTW8JEfd6CWUaz2Q1V1eLAW6oaoarF3a2Mqj6TQ3k0xphMyWu9OH4XkY7nJqrqXD/nxxhjsi2v9eJ40uN1IaA1sIwLfMJ+Y0xoCvaqC1/5FKDPnbVORKrhTDlqjDFBJ9irLnyV1Zm4o8jk2lrGGJNT8kQvjmQi8qGIDHO3j4B5wKrAZs0YY7LGn704RGS0iBwUkbUeaS+KyB4RWeluPTz2PSMiW0Vkk4h090hvISJr3H3DRDJeOdHXEnSkx+sE4GtVXeDjucYYk6P8XMUxBvgIGHdO+nuq+rZngog0xJmWuRFQGZghIvVUNRH4GBgELAJ+A64Gfvd2Y1/roMeKSGGguqqmXfDMGGOCiD97cajqXBGp6ePhvYBvVDUO2C4iW4HWIrIDZ5rmhQAiMg64ngwCtK9VHNcBK4Gp7vtmIjLZxwwbY0yOyqF+0P8RkdVuFUjywqRVgN0ex0S5aVXc1+eme38OHzPyIk7XuuMAqroSqOnjucYYk6PCw9TnTUQGiUikxzbIh1t8DNQBmgH7gHfc9PRCvnpJ98rXOugEVT3hQ522McbkusxUcajqKGBUZq6vqilrn4nIp8AU920UUM3j0KrAXje9ajrpXvn6HGtF5BYgXETqisiHwF8+nmuMMTkq0HNxiEglj7c3AMk9PCYD/USkoIjUAuoCS1R1HxAtIm3d3ht34MN8Rr6WoB8CngXigK+BacD/fDzXGGNylD97cYjI10AnoKyIRAEvAJ1EpBlONcUO4F4AVV0nIhOB9Tg93h50e3AA3I/TI6QwTuOg1wZC8HFV7+yyVb0Dz1b1zhm2qnfg+WNV75dWzPA55rxwabegrbv1WoIWkS84f0W2qupA/2fJGGOyJzy3M+AnGVVxTEknrTrwKKHzGRhjQky+sND4o91rgFbVH5Jfi0htYAjQEXgd+DywWTPGmKzJM5MliUgDnAbCS4G3gPtUNSHQGTPGmKwKzwsBWkS+A1oCbwOPAYlARHJ/aFU9GugMGmNMZuWVEnQrnEbCJ4DH3bTkR1egdoDyZYwxWZYnJuxX1Zq+XEREGqnqOr/kyBhjsimvlKB9NR5o7qdrGWNMtuS3AJ2K148jTPx1G3M++cIK53YW8oSWTSfkdhZCXuyuntm+Rp6o4siE0Pg0jDEhIU/04jDGmAuR1UGndsZP1zHGmGwLlQDt64oqM72lqWpbf2bKGGOyI3+Y+rwFs4wGqhQCiuBMs1eKs42BETgLIhpjTNDx55qEuSmjKo57cSZGqgws42yAPgkMD1y2jDEm60KliiOjgSofAB+IyEOq+mEO5ckYY7IlVAK0r38JJIlIyeQ3IlJKRB4ITJaMMSZ7wkV93oKZrwH6HlU9nvxGVY8B9wQkR8YYk01h4vsWzHztZhcmIqLu+lgiEg4UCFy2jDEm6/KFSCuhrwF6GjBRREbijBq8Dx8WPDTGmNwQKiMJff2eGQzMxFmV9kFgNc7KtMYYE3TCRH3eMiIio0XkoIis9UgrLSLTRWSL+7OUx75nRGSriGwSke4e6S1EZI27b5gkT6zv7Tl8eVhVTQIWAdtwJvDvCmzw5VxjjMlpYZnYfDAGuPqctKeBmapaF6fw+jSAiDQE+gGN3HNGuFXCAB8Dg4C67nbuNdN9jvMSkXoi8ryIbAA+AnYDqGpnVf3Ip0czxpgc5s9GQlWdC5y7elQvYKz7eixwvUf6N6oap6rbga1AaxGpBESo6kK3LW+cxznnlVEd9EZgHnCdqm4FEJHHMnwiY4zJRTlQB11BVfcBqOo+ESnvplfBqW1IFuWmxbuvz033KqMSfm9gPzBbRD4Vka5kMPezMcbktnxh6vMmIoNEJNJjG5SNW6cXH9VLuvfn8LZTVScBk0SkKE5x/DGggoh8DExS1T8yzK4xxuSwzPRvVtVRwKhM3uKAiFRyS8+VgINuehRQzeO4qsBeN71qOule+dpIeEpVJ6hqT/fCK3ErxY0xJtj4uZEwPZOBAe7rAcDPHun9RKSgiNTCaQxc4laHRItIW7f3xh0e55xXpueDVtWjwCfuZowxQSfjDmyZuZZ8DXTCmdUzCngBeB1nbMhAYBfQB0BV14nIRGA9kAA8qKqJ7qXux+kRUhhnHEmGY0lsRRVjTMjxZ0OZqvY/z66u5zn+VeDVdNIjgcaZubcFaGNMyAmVkYQWoI0xIUeCfJY6X1mANsaEnBApQFuANsaEHn82EuYmC9DGmJATIvHZArQxJvQE+0T8vrIAbYwJORagLzDHjp1kxoyFzJkTyebNOzlw4Aj58+ejXr0a3HhjN3r37kZYWNpxRarKTz/N4scfZ7Bp0w5Onz5D2bIladKkLo8+eju1amU430lImjZ1IUuXrmPjxh1s2riDU6di6XldR95865HznrNi+UZGjvyeVau2cCbuDNWrV+TG3l259bZrCA8PT3Xs/v1H+Omn2WzcsIMNG7YTtfsAqsrv0z6iRo1KgX68HPXKM/1pfklt6taqRJnSxYk9fYZdUYf55Y9IRo6ZxtHjMSnHjnrnPm7vc4XX681esJYe/dN0w6VokYI8dHcPbujRhto1KqCq7N57hIWRm3j0uS9ISEhMdXz7Ng147L6etGlel2JFCrFn/1F+mRbJ0GE/cuLkP/55+AAJkficdwL01KkLePHFEZQrV5o2bZpQuXI5Dh8+zvTpC3nuuQ+ZN28ZH3zwNJ5zaMfFneGRR15n9uyl1KpVhZ49r6Bo0cIcPHiUyMh17NixJ88G6JEjv2fTxh0UKVKIihXLsG3bHq/Hz5y5hEcffosCBQtwzTWXUaJEMebMjuT1oV+wfPlG3v/giVTHr127lWHvf42IULVqeYoXL8LJk6cC+Ui55qGBPVi5djsz563h0JETFC1ciNbNL+K//3cTA2/pwhW9/kvUPme2y1+mRbIz6lC617nlxg7UrlGBP2avTLOvetWy/DphCBfVqsT8xRv4dPx0RIQa1cpxQ482DH55fKoAfVf/Lnw0dCAJCUn8PHUJUXuP0KxJLR4ZdC3XdL2ULje+yJFj0YH4OPwiVAK0uMsMBtjmXO+UuHDhKmJj4+jUqWWqkvKhQ8fo0+f/2LfvMMOGPU337pen7HvppY/56qvfuPfePjz66G1pStjx8Qnkzx8c33GJeiZH77d40RoqVCxDjRqVWLpkHXcOeOG8JeiYmH+4+qoHiY7+hwlfvUrjJhcBzhfgXQNeZOXKTbz9zmP0uLZ9yjn79x8hKuoA9evXpFixIgy4/XmWLl2X6yXoYjXSlkyzq2DB/MTFxadJf/HJmxn80A18Mm46jz432us1SkQUYdvSEYSHhVGn9YOpgme+fOHMm/wKDetV5Zb73+fX6ctSnRsWJiQlnf1ftEK5EmxYMIx84WF0ufFFIlf9nbLvsXt78tqztzL+uz8Z9PjILD6xd7G7vs52fN18YorPMadeiZ5BG89DZGnFjLVr15QuXVqnCbLlypWiX79rAFiyJGVFG3bt2sc330ylSZO6PPbY7elWfwRLcM4Nbdo2oWbNyviwag/Tpi3k6NGT9OjRPiU4AxQsWICHH3VG0X7z9bRU51SsWIaWLRtSrFgR/2Y8CKUXnAF+mOJMK3xRrYoZXuOWGztQpHBBfp66NE3J9pYbO9CscU2Gj/49TXAGUgVngO6dL6VwoQL88kdkquAM8P6oXzl4+AR9e11OqRJFM8xXbpFMbMEs70YYD/nyOR9DePjZIDxlylySkpK44YauxMT8w6xZS9i//zAlSxanbdtLqFGjcm5l94KzeJHzxde+Q7M0+1q2bEjhwgVZuXITZ87EU6BA/hzOXfDq0a0FAGs37Mrw2Lv6dwHg869mptnX9/rLABj//VyqVy1L907NKFGiKFF7DvPHnFWp6rjBKUEDbN91MM21VJVdUYco36wE7ds04Jc/IjP3UDnEl7UGLwR5PkAnJCTy88+zAOjQoUVK+po1WwCIjj5Ft273cPz42VKJiNC//zU899ygNI1bJq0d25366Zo1036p5csXTpWq5dm6ZTe7dx+gTp2qaY7JKx4ddC1FixaiRPEiNL+kNpe3rs/q9Tt5e4T3WSnbNK9LkwbV2fz3XuYuXJ9mf4tL6hB7+gzdOzXl5cH9Uv3lF3PqNI+/MJZxE+ekpCWXwGtWK3/upRARqlctB8DFF1XmlyCdET5PDlQRkaKqGlItNe+8M4bNm3dyxRUt6dCheUr60aPHARg2bALt2jVj8OB/U6VKeVav3swLLwznq69+o3TpEjz00C25lPMLR3S00+JfrHj61RXF3WqM6BBtBPTVI4N6UrF8yZT302avZNDjIzl81Htj3L9vcUrPX3w9K82+AgXyUSKiCAkJiQx97jbeHfkLI8dMI+bUaXpe1ZJ3XhrAx2/ew86oQ/z51zoAZvy5mvj4BK67qiXNL6nN8tXbUq730MBrKF/WKWGXDOIqjlCpu/XpOUTkMhFZj7uSt4g0FZERAc1ZDhg3bjKjR/9E7dpVefPN/0u1LzExCYBy5UozfPgQ6tWrQdGihWnXrinDhj1DWFgYX3zxE2fOpF9/aHyX3E7tS312KKvV8n4KV+9Pjeb30feed6hVvTyLfh9Ks8Y1z3tORPHC9O7Zlri4eMZ/NzfN/nC37SRfvnAm/baYZ1/7it17j3DsxCnGf/cnL7z5LWFhYTx+/3Up5+zac5iX3/2eAgXyMeuHFxn74UO8NuQWpkwYwhvP387q9TuBs/+PBCMR37dg5usXzXtAd+AIgKquAjp6O8Fzna9Ro77NXi4DYMKEX3n11U+56KJqjBv3GiVLFk+1v0SJYgB06NCcQoUKptpXv34tqlatwKlTsWzbFoXxrrhbco6JTr/vbMwp7yXsvObg4RNMnhbJdbcNpXTJYnz23gPnPbb/De0pWqRQuo2DALGnz6Q0Qk6eujTN/uS0ls3qpEp/e/jP9Bn4NouWbaZ752bcd2d3SpYoyh0PDmOa243v0JGTWX3EgMtzjYSquvucEk7i+Y51j/dY5yv3u9l5GjPmZ4YO/Yx69WowZswrlClTMs0xtWpVYf78FRQvnv6fcRERTvrp03GBzGpIqFmrCmvX/s2OHXtp1Dh1IEhISGRP1EHy5QunWrUKuZTD4LRrz2E2bNlDs8Y1KVOqeLoBOLlx8LMJM857nc3b9tGkQXWOpzO45NgJp1qpcMECafZNmb6MKen0+rjn9isBWHZOD49gEuwlY1/5WoLeLSKXASoiBUTkCdzqjgvNqFHfM3ToZzRoUJuxY19NNzgDtG3bFIAtW3am2XfmTDw7d+4DoEoVCyoZadPWWURi/ryVafZFRq4nNjaOZs0uth4c6ahUoRQAiUlpqxNaNatD00Y12fz3XuYtOv//jnMWOL1oGl2ctgE2Oe18g1/OVa9OZS5rdTHbdx1g0bItPp2TG8LF9y2Y+Rqg7wMeBKrgrE7bzH1/QRk+/BveeWcsjRpdxJgxr1C6dInzHtuxYwuqVavI/PkrWLBgRZrrREefonXrxpQrVyrQ2b7gde/ejlKlIvjtt/msXbM1JT0u7gzD3v8agH79u+dW9nJVvTqVU7q1eRIRXnzyZiqUK8HCyE0cP5G2AfXftzgrLo3+Km3joKfPJswkPj6B/wzsQZWKpVPSCxbMz4tP9QXgu18WpjqneLHCaa5TrkwEY4b9h/DwMJ4b+jU5M8gta0KlisOnkYQiUk5VffuKTVfuV3FMmjSTp59+n/DwMG67rWe6VRdVqpTnxhu7pbyPjFzHwIHPEx+fQLdu7ahSpRxr1mxh6dJ1lC5dgq++eiNohnrn9EjCGTMWM2vGEgAOHz7O/PkrqVatAi1aNACgZKkInho8INXxjz3yNgUKFqBHj8spUaIYs2ctZfv2vVzVvR3vvf94mkbCIU9/mPJ63vyVHDl8nCuvbEPRok7w6N2nW8r9coq/RxL+Z+A1vDbkFuYv2ci2nQc4eiyG8mVL0KFtA2rXqMC+g8fo0f9VNm5JPZS+eLHCbFs6gvz5wtOMHEzPw3f34I3nb+fIsWh+mRbJP7FxdOt4CfXqVGbJ8i107/s/TnsMmBn67K1c2akpi5dv4fCRk1SpVJpru7WgZImivPT2RF4fNsmvn4Mnf4wk3B872eeYU7Hwv4I2TvtaB/2XiGwHvgV+UNXjgctSYERFHQCcluexYyene0zr1o1TBeiWLRvxww/v8dFHX7N48RpmzTpFmTIl6du3Ow880I+KFcvmSN6D0cYNO/jppzmp0nbvPsDu3c7nXLlyuVQBulu3Nowd/z8+Gfk90/9YRFxcPNWrV2Tw03dy2+090u3Bce71AaZPX5zyulXrRjkeoP1t1rw1fP7VLNq1rEeTBjUoGVGEU//EsXX7Pl75cR4jRk9NqSf21O/6yylWtBATf/7Lpzkxhn32G5u37eORe67lhh5tKFggH9t3H+Sltyfy/idTUgVngD8XrqdZ41r0vLIFJSOKcuzEKf78ax0ffv4bC5Zs8tvzB4o/I66I7ACicdrdElS1pYiUxomHNYEdwM2qesw9/hlgoHv8w6o6LZ3L+nZvX/9MEZHWQD/gepwlxb9R1S99u03ul6BDXU6XoPOqQMzFYVLzRwn64GnfS9DlC3kvQbsBuqWqHvZIexM4qqqvi8jTQClVHSwiDYGvgdZAZWAGUE9VvXaqOB+f+3Or6hJV/T/3xkeBsVm5oTHGBFoO1EH34mwMHItTcE1O/0ZV41R1O7AVJ2Zmia8DVSJEZICI/A78BezLzk2NMSaQ/NyLQ4E/RGSZiAxy0yqo6j4A92fyuPgqwG6Pc6PctCzxtQ56FfAT8LKqLszgWGOMyWW+l43doDvII2mUO44j2eWquldEygPTRWRjJm+c5SpeXwN0bQ3mPjXGGONBMhGgUw+qS3f/XvfnQRGZhFN7cEBEKqnqPhGpBCRP/RcFVPM4vSqwN5PZT+G1ikNE3ndfThaRNFtWb2qMMYEkEubz5v06UlREiie/Bq4C1gKTgeRuSgOA5CkHJwP9RKSgiNQC6gJLsvocGZWgx7s/387qDYwxJuf5raNdBWCS2w00H/CVqk4VkaXARBEZCOwC+gCo6joRmYjT0y0BeDCrPTiSb3heqpo8EL+Zqn7guU9EHgH+zOqNjTEmUMRPE46q6jagaTrpR4Cu5znnVcAv/TF9fYoB6aTd6Y8MGGOMv/mriiO3eS1Bi0h/4Bag1jl1zsVxpx41xpjgE7SjtzMlozro5D7PZYF3PNKjgdWBypQxxmRHZnpxBLOM6qB3AjuBdjmTHWOMyb48EaBFZL6qtheRaFJ3thZAVTUioLkzxpgsCe66ZV9lVIJu7/4s7u04Y4wJJsHe+OcrX+fiqCMiBd3XnUTkYREpGdCcGWNMFkkm/gtmvn7N/AAkishFwOdALeCrgOXKGGOyJSwTW/DyNXdJqpoA3AC8r6qPAZUCly1jjMm6UClB+zpZUrzbJ3oAcJ2bZit8GmOCUnor9FyIfC1B34XT1e5VVd3uTgLi42oqxhiT00Jj2VifStCqul5EngDqiUhjYJOqvh7YrBljTNYI4bmdBb/wKUCLSCecZV124HzlVBORAao6N2A5M8aYLAqVKg5f66DfAa5S1U0AIlIPZ2HEFoHKmDHGZF3eCtD5k4MzgKpuFhFrJDTGBCV/TTea23wN0MtE5HPOTuB/K7DMy/HGGJOL8lYJ+j7gQeBhnCefC4wIVKaMMSY7wkJkqHdGkyWVB4YAFwFrgDtV9WROZMwYY7IuNAJ0Rk8xDjgFfAgUAz7wfrgxxuS+vDKSsKKqPuu+niYiywOdIWOMyb7gDry+yihAi4iU4uzThnu+V9WjgcycMcZkRV7pB10Cp7eG59Mml6IVqB2ITBljTPaERh20qGrGR2V0EZFGqrrOD/kJGiIySFVH5XY+Qpl9xoFnn/GFzV9fM+MzPuSCMyi3M5AH2GccePYZX8D8FaBDo8LHGGOCiL8CdPbrSYwxxqQSGjXpgWH1doFnn3Hg2Wd8AfNXI+EiVW3rh/wYY4xx+bqq90xvaRacjTHG/zKai6MQUAQoe86AlQigcoDzZowxeVpGA1XuBR7FCcaeA1ZOAsMDly1jjDFeqzhU9QNVrQU8oaq1VbWWuzVV1Y/8nRkRSRSRlSKyVkS+E5Ei2bjWGBG5ycv+OSIS6fG+pYjMyer9vNznThGp7PH+MxFp6O/7ZNWF/JmLyKNZyW9G+fSnXPh8N4nIKhFZICIXZ+Eev4lISXd7wCO9soh8n9W8m6zxtRdHkoiUTH4jIqU8//H8KFZVm6lqY+AMzjzUKUTE3ytBlheRa/x8zXPdiUd1kKrerarrA3zPzLiQP/NHcarg0ghAvrMqpz/fW1W1Kc4aom9l9mRV7aGqx4GSwAMe6XtVNUe+1MxZvgboe9x/NABU9RhwT0BydNY84CIR6SQis0XkK2CNiISLyFsislREVovIveDM6iQiH4nIehH5FSjvwz3eAp47N9HLPcJEZISIrBORKW5p4yZ33/Pu8WtFZJSbn5uAlsAEtxRV2C3ltBSR+0XkTY973ikiH7qvbxORJe45n+RgsAnGz7yTiEzxOO4j97N6GOeLb7aIzHb3xYjIyyKyGGiX3r9Jdj+gbMqJzzfZXPde4l57rYisEZG+7rUrichcOVu67+Cm7xCRssDrQB13/1siUlNE1rrHLBaRRsk3cn+nW4hIUREZ7T7HChHp5ZdPLQ/zNUCHef5yuwGjQGCyBCKSD7gGZ5EAgNbAs6raEBgInFDVVkAr4B4RqQXcAFwMNMH58rjMh1stBOJEpPM56ee7x41ATfcedwPtPM75SFVbuSWlwkBPVf0eiMQp1TRT1ViP4793r5esL/CtiDRwX1+uqs2ARJwlxgIqiD/zdKnqMGAv0FlVk69VFFirqm1UdT7p/Jv4kL+AyMHPN9l17r1uBJoBTYFuwFsiUgm4BZjm/o41BVaec/7TwN/u7+2T5+z7BrjZfa5KQGVVXQY8C8xyn6Oze6+imcizOYevAXoaMFFEuopIF5wVvX8PQH4Ki8hKnKC2C/jcTV+iqtvd11cBd7jHLQbKAHWBjsDXqpqoqnuBWT7e8xXSlujOd4/2wHeqmqSq+4HZHud0dksWa4AuQCO8UNVDwDYRaSsiZXD+R1wAdMVZLX2pe/+uBHbWwGD/zDMjEfjB432m/k0CJKc/3wnudS4HnsD5nU2+xgHgT5wvgaXAXSLyItBEVaMz8UwTgT7u65uB7zye42n3/nOAQkD1TFzXnMPXNQkH40y6cj9OT44VQKUA5CfW/UZP4RbcT3kmAQ+p6rRzjutBFoacq+osEfkf4NmX+3z3uDa9a4jTHXEE0FJVd7u/9IV8uP23OL/gG4FJqqruXypjVfWZzD5LFgX7Z96e1AUJb5/raVVNdM/L6r+Jv+X053urqno2xKZbraOqc0WkI3AtMF5E3lLVcb7cQFX3iMgREbkE56+9ez2eo7eqbspkns15+FSCVtUkYBGwDadOtSuwIYD58mYacL+I5AcQkXrun1FzgX5ufV4lnD+xfPUq8JQP95gP9BanLroC0Mk9Pvl//MMiUgzwbEyJBoqf574/AtcD/XGCNcBM4CZx1oNEREqLSI1MPEsg5OZnvhNoKCIFRaQEzu9eMm+frbd/k2ATiM832Vygr3uNcjil8iXu79RBVf0Up1Tf/JzzvH224FRzPAWUUNXkaptpwEPJXwoicmkW8ms8ZDRQpR7QDyeAHMENIh51frnhM5x64OXuL8IhnCA3CefP2DXAZpw/5Xyiqr+JyCEf7vEDToBY695jMU7d4XER+dS99w6cPx+TjQFGikgsqeusUdVjIrIeaKiqS9y09SLyHPCHiIQB8Tgrqu/09XkCINc+c7f0OxFYDWzB+est2SjgdxHZd+7vZAb/JsHG75+vh0k4v3ercErjT6nqfhEZADwpIvFADHCH50mqekScrnprcaozzx338D3OGqX/80j7H/A+sNp9jh3kYr1/KPA6F4eIJOG0PA9U1a1u2jZVzbMrqYhIMVWNceuNl+A05u3P7XwZY0JPRnXQvXFK0LNFZCrOnzW53VUpt00Rp094AeB/FpyNMYHi02x2bn3Y9ThVHV1wOsFPUtU/Apo7PxCRScC53bUGn9sgY/zHPvPAss8378j0dKMiUhqni01fVe0SkFwZY4zxz3zQxhhj/M9WVDHGmCBlAdoYY4KUBWhjjAlSFqCNMSZIWYA2xpgg9f/dCPN3teShDAAAAABJRU5ErkJggg==\n",
      "text/plain": [
       "<Figure size 432x288 with 2 Axes>"
      ]
     },
     "metadata": {
      "needs_background": "light"
     },
     "output_type": "display_data"
    }
   ],
   "source": [
    "# Fit the first logistic regression on the TF-IDF data\n",
    "lr.fit(X_train_tfidf1, y_train)\n",
    "y_pred_tfidf1_lr = lr.predict(X_test_tfidf1)\n",
    "cm6 = conf_matrix(y_test, y_pred_tfidf1_lr)"
   ]
  },
  {
   "cell_type": "markdown",
   "id": "3abb08ad",
   "metadata": {},
   "source": [
    "## Naive Bayes"
   ]
  },
  {
   "cell_type": "code",
   "execution_count": 121,
   "id": "01dfa843",
   "metadata": {},
   "outputs": [
    {
     "data": {
      "image/png": "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\n",
      "text/plain": [
       "<Figure size 432x288 with 2 Axes>"
      ]
     },
     "metadata": {
      "needs_background": "light"
     },
     "output_type": "display_data"
    }
   ],
   "source": [
    "# Fit the first Naive Bayes model on the TF-IDF data\n",
    "mnb.fit(X_train_tfidf1.toarray(), y_train)\n",
    "y_pred_tfidf1_nb = mnb.predict(X_test_tfidf1)\n",
    "cm7 = conf_matrix(y_test, y_pred_tfidf1_nb)"
   ]
  },
  {
   "cell_type": "code",
   "execution_count": 120,
   "id": "10424dad",
   "metadata": {},
   "outputs": [
    {
     "data": {
      "image/png": "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\n",
      "text/plain": [
       "<Figure size 432x288 with 2 Axes>"
      ]
     },
     "metadata": {
      "needs_background": "light"
     },
     "output_type": "display_data"
    }
   ],
   "source": [
    "# Fit the second Naive Bayes model on the TF-IDF data\n",
    "bnb.fit(X_train_tfidf1.toarray(), y_train)\n",
    "y_pred_tfidf2_nb = bnb.predict(X_test_tfidf1)\n",
    "cm8 = conf_matrix(y_test, y_pred_tfidf2_nb)"
   ]
  },
  {
   "cell_type": "markdown",
   "id": "65bbdddf",
   "metadata": {},
   "source": [
    "## KNN"
   ]
  },
  {
   "cell_type": "code",
   "execution_count": 122,
   "id": "d5aa2f7f",
   "metadata": {},
   "outputs": [
    {
     "data": {
      "image/png": "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\n",
      "text/plain": [
       "<Figure size 432x288 with 2 Axes>"
      ]
     },
     "metadata": {
      "needs_background": "light"
     },
     "output_type": "display_data"
    }
   ],
   "source": [
    "# Fit the first KNN model\n",
    "knn = KNeighborsClassifier(3)\n",
    "knn.fit(X_train_tfidf1.toarray(), y_train)\n",
    "y_pred_cv1_tfidf_knn = knn.predict(X_test_tfidf1)\n",
    "cm9 = conf_matrix(y_test, y_pred_cv1_tfidf_knn)"
   ]
  },
  {
   "cell_type": "code",
   "execution_count": 124,
   "id": "80168397",
   "metadata": {},
   "outputs": [
    {
     "data": {
      "text/html": [
       "<div>\n",
       "<style scoped>\n",
       "    .dataframe tbody tr th:only-of-type {\n",
       "        vertical-align: middle;\n",
       "    }\n",
       "\n",
       "    .dataframe tbody tr th {\n",
       "        vertical-align: top;\n",
       "    }\n",
       "\n",
       "    .dataframe thead th {\n",
       "        text-align: right;\n",
       "    }\n",
       "</style>\n",
       "<table border=\"1\" class=\"dataframe\">\n",
       "  <thead>\n",
       "    <tr style=\"text-align: right;\">\n",
       "      <th></th>\n",
       "      <th>LR_CV</th>\n",
       "      <th>MNB_CV</th>\n",
       "      <th>BNB_CV</th>\n",
       "      <th>KNN_CV</th>\n",
       "      <th>LR_TFIDF</th>\n",
       "      <th>MNB_TFIDF</th>\n",
       "      <th>BNB_TFIDF</th>\n",
       "      <th>KNN_TFIDF</th>\n",
       "    </tr>\n",
       "  </thead>\n",
       "  <tbody>\n",
       "    <tr>\n",
       "      <th>Accuracy</th>\n",
       "      <td>0.71</td>\n",
       "      <td>0.72</td>\n",
       "      <td>0.68</td>\n",
       "      <td>0.63</td>\n",
       "      <td>0.74</td>\n",
       "      <td>0.68</td>\n",
       "      <td>0.68</td>\n",
       "      <td>0.62</td>\n",
       "    </tr>\n",
       "    <tr>\n",
       "      <th>Negative Accuracy</th>\n",
       "      <td>0.48</td>\n",
       "      <td>0.34</td>\n",
       "      <td>0.19</td>\n",
       "      <td>0.31</td>\n",
       "      <td>0.36</td>\n",
       "      <td>0.00</td>\n",
       "      <td>0.19</td>\n",
       "      <td>0.25</td>\n",
       "    </tr>\n",
       "    <tr>\n",
       "      <th>Neutral Accuracy</th>\n",
       "      <td>0.32</td>\n",
       "      <td>0.17</td>\n",
       "      <td>0.13</td>\n",
       "      <td>0.06</td>\n",
       "      <td>0.19</td>\n",
       "      <td>0.00</td>\n",
       "      <td>0.13</td>\n",
       "      <td>0.14</td>\n",
       "    </tr>\n",
       "    <tr>\n",
       "      <th>Positive Accuracy</th>\n",
       "      <td>0.87</td>\n",
       "      <td>0.95</td>\n",
       "      <td>0.93</td>\n",
       "      <td>0.84</td>\n",
       "      <td>0.97</td>\n",
       "      <td>1.00</td>\n",
       "      <td>0.93</td>\n",
       "      <td>0.82</td>\n",
       "    </tr>\n",
       "  </tbody>\n",
       "</table>\n",
       "</div>"
      ],
      "text/plain": [
       "                   LR_CV  MNB_CV  BNB_CV  KNN_CV  LR_TFIDF  MNB_TFIDF  \\\n",
       "Accuracy            0.71    0.72    0.68    0.63      0.74       0.68   \n",
       "Negative Accuracy   0.48    0.34    0.19    0.31      0.36       0.00   \n",
       "Neutral Accuracy    0.32    0.17    0.13    0.06      0.19       0.00   \n",
       "Positive Accuracy   0.87    0.95    0.93    0.84      0.97       1.00   \n",
       "\n",
       "                   BNB_TFIDF  KNN_TFIDF  \n",
       "Accuracy                0.68       0.62  \n",
       "Negative Accuracy       0.19       0.25  \n",
       "Neutral Accuracy        0.13       0.14  \n",
       "Positive Accuracy       0.93       0.82  "
      ]
     },
     "execution_count": 124,
     "metadata": {},
     "output_type": "execute_result"
    }
   ],
   "source": [
    "# Compile all of the error metrics into a dataframe for comparison\n",
    "results_tf = pd.DataFrame(list(zip(cm1, cm3, cm4, cm5, cm6, cm7, cm8, cm9)))\n",
    "results_tf = results_tf.set_index([['Accuracy', 'Negative Accuracy', 'Neutral Accuracy', 'Positive Accuracy']])\n",
    "results_tf.columns = ['LR_CV', 'MNB_CV', 'BNB_CV', 'KNN_CV', 'LR_TFIDF', 'MNB_TFIDF', 'BNB_TFIDF', 'KNN_TFIDF']\n",
    "results_tf"
   ]
  },
  {
   "cell_type": "code",
   "execution_count": null,
   "id": "1e05f207",
   "metadata": {},
   "outputs": [],
   "source": []
  }
 ],
 "metadata": {
  "kernelspec": {
   "display_name": "Python 3",
   "language": "python",
   "name": "python3"
  },
  "language_info": {
   "codemirror_mode": {
    "name": "ipython",
    "version": 3
   },
   "file_extension": ".py",
   "mimetype": "text/x-python",
   "name": "python",
   "nbconvert_exporter": "python",
   "pygments_lexer": "ipython3",
   "version": "3.8.8"
  }
 },
 "nbformat": 4,
 "nbformat_minor": 5
}
